{
 "cells": [
  {
   "cell_type": "markdown",
   "source": "# Paciente post-operatorio",
   "metadata": {
    "tags": [],
    "is_collapsed": false,
    "cell_id": "00000-3c9e9347-534d-48fe-8e93-4ef3f1acf2c3",
    "deepnote_cell_type": "text-cell-h1"
   }
  },
  {
   "cell_type": "markdown",
   "source": "",
   "metadata": {
    "cell_id": "00000-b7e93ce1-482e-4fbb-8b5d-d210136ee80f",
    "deepnote_cell_type": "markdown"
   }
  },
  {
   "cell_type": "code",
   "metadata": {
    "cell_id": "00001-45f190dd-45df-4310-b1a3-abfea898ff8b",
    "deepnote_to_be_reexecuted": false,
    "source_hash": "c839cc86",
    "execution_start": 1639175605427,
    "execution_millis": 4028,
    "deepnote_cell_type": "code"
   },
   "source": "import pandas as pd\nimport numpy as np\nimport matplotlib.pyplot as plt\nimport matplotlib.patches as mpatches\nimport seaborn as sb\nimport sklearn\nimport random as rd\nfrom matplotlib.colors import ListedColormap\nfrom sklearn.model_selection import train_test_split\nfrom sklearn.naive_bayes import MultinomialNB\nfrom sklearn.naive_bayes import CategoricalNB\nfrom sklearn.metrics import confusion_matrix\nfrom sklearn.preprocessing import OrdinalEncoder\nfrom sklearn.metrics import classification_report\nfrom sklearn.neighbors import KNeighborsClassifier\nfrom sklearn.tree import DecisionTreeClassifier\nfrom sklearn.metrics import precision_score\nfrom sklearn.svm import SVC\nfrom sklearn import datasets\nfrom sklearn.datasets import make_classification\nfrom sklearn import metrics ",
   "outputs": [],
   "execution_count": null
  },
  {
   "cell_type": "markdown",
   "source": "### Conjunto de datos",
   "metadata": {
    "tags": [],
    "is_collapsed": false,
    "cell_id": "00003-b1633c8c-c7d2-406b-933d-0c60be9b9e4c",
    "deepnote_cell_type": "text-cell-h3"
   }
  },
  {
   "cell_type": "code",
   "metadata": {
    "cell_id": "00002-0402668d-bd50-46cc-9b20-0d6b3825f2cd",
    "deepnote_output_heights": [
     382.1875
    ],
    "deepnote_to_be_reexecuted": false,
    "source_hash": "cd5bef84",
    "execution_start": 1639175609494,
    "execution_millis": 518,
    "deepnote_cell_type": "code"
   },
   "source": "post_oper = pd.read_csv(\"post-operative.data\",sep=',')\npost_oper.head(200)",
   "outputs": [
    {
     "output_type": "execute_result",
     "execution_count": 2,
     "data": {
      "application/vnd.deepnote.dataframe.v2+json": {
       "row_count": 89,
       "column_count": 9,
       "columns": [
        {
         "name": "mid",
         "dtype": "object",
         "stats": {
          "unique_count": 3,
          "nan_count": 0,
          "categories": [
           {
            "name": "mid",
            "count": 57
           },
           {
            "name": "low",
            "count": 19
           },
           {
            "name": "high",
            "count": 13
           }
          ]
         }
        },
        {
         "name": "low",
         "dtype": "object",
         "stats": {
          "unique_count": 3,
          "nan_count": 0,
          "categories": [
           {
            "name": "mid",
            "count": 48
           },
           {
            "name": "low",
            "count": 24
           },
           {
            "name": "high",
            "count": 17
           }
          ]
         }
        },
        {
         "name": "excellent",
         "dtype": "object",
         "stats": {
          "unique_count": 2,
          "nan_count": 0,
          "categories": [
           {
            "name": "good",
            "count": 47
           },
           {
            "name": "excellent",
            "count": 42
           }
          ]
         }
        },
        {
         "name": "mid.1",
         "dtype": "object",
         "stats": {
          "unique_count": 3,
          "nan_count": 0,
          "categories": [
           {
            "name": "mid",
            "count": 56
           },
           {
            "name": "high",
            "count": 30
           },
           {
            "name": "low",
            "count": 3
           }
          ]
         }
        },
        {
         "name": "stable",
         "dtype": "object",
         "stats": {
          "unique_count": 2,
          "nan_count": 0,
          "categories": [
           {
            "name": "unstable",
            "count": 45
           },
           {
            "name": "stable",
            "count": 44
           }
          ]
         }
        },
        {
         "name": "stable.1",
         "dtype": "object",
         "stats": {
          "unique_count": 3,
          "nan_count": 0,
          "categories": [
           {
            "name": "stable",
            "count": 82
           },
           {
            "name": "unstable",
            "count": 6
           },
           {
            "name": "mod-stable",
            "count": 1
           }
          ]
         }
        },
        {
         "name": "stable.2",
         "dtype": "object",
         "stats": {
          "unique_count": 3,
          "nan_count": 0,
          "categories": [
           {
            "name": "stable",
            "count": 45
           },
           {
            "name": "unstable",
            "count": 23
           },
           {
            "name": "mod-stable",
            "count": 21
           }
          ]
         }
        },
        {
         "name": "15",
         "dtype": "object",
         "stats": {
          "unique_count": 5,
          "nan_count": 0,
          "categories": [
           {
            "name": "10",
            "count": 65
           },
           {
            "name": "15",
            "count": 18
           },
           {
            "name": "3 others",
            "count": 6
           }
          ]
         }
        },
        {
         "name": "A",
         "dtype": "object",
         "stats": {
          "unique_count": 4,
          "nan_count": 0,
          "categories": [
           {
            "name": "A",
            "count": 62
           },
           {
            "name": "S",
            "count": 24
           },
           {
            "name": "2 others",
            "count": 3
           }
          ]
         }
        },
        {
         "name": "_deepnote_index_column",
         "dtype": "int64"
        }
       ],
       "rows_top": [
        {
         "15": "10",
         "mid": "mid",
         "low": "high",
         "excellent": "excellent",
         "mid.1": "high",
         "stable": "stable",
         "stable.1": "stable",
         "stable.2": "stable",
         "A": "S",
         "_deepnote_index_column": 0
        },
        {
         "15": "10",
         "mid": "high",
         "low": "low",
         "excellent": "excellent",
         "mid.1": "high",
         "stable": "stable",
         "stable.1": "stable",
         "stable.2": "mod-stable",
         "A": "A",
         "_deepnote_index_column": 1
        },
        {
         "15": "15",
         "mid": "mid",
         "low": "low",
         "excellent": "good",
         "mid.1": "high",
         "stable": "stable",
         "stable.1": "unstable",
         "stable.2": "mod-stable",
         "A": "A ",
         "_deepnote_index_column": 2
        },
        {
         "15": "10",
         "mid": "mid",
         "low": "mid",
         "excellent": "excellent",
         "mid.1": "high",
         "stable": "stable",
         "stable.1": "stable",
         "stable.2": "stable",
         "A": "A",
         "_deepnote_index_column": 3
        },
        {
         "15": "15",
         "mid": "high",
         "low": "low",
         "excellent": "good",
         "mid.1": "mid",
         "stable": "stable",
         "stable.1": "stable",
         "stable.2": "unstable",
         "A": "S",
         "_deepnote_index_column": 4
        },
        {
         "15": "05",
         "mid": "mid",
         "low": "low",
         "excellent": "excellent",
         "mid.1": "high",
         "stable": "stable",
         "stable.1": "stable",
         "stable.2": "mod-stable",
         "A": "S",
         "_deepnote_index_column": 5
        },
        {
         "15": "10",
         "mid": "high",
         "low": "mid",
         "excellent": "excellent",
         "mid.1": "mid",
         "stable": "unstable",
         "stable.1": "unstable",
         "stable.2": "stable",
         "A": "S",
         "_deepnote_index_column": 6
        },
        {
         "15": "10",
         "mid": "mid",
         "low": "high",
         "excellent": "good",
         "mid.1": "mid",
         "stable": "stable",
         "stable.1": "stable",
         "stable.2": "stable",
         "A": "S",
         "_deepnote_index_column": 7
        },
        {
         "15": "10",
         "mid": "mid",
         "low": "low",
         "excellent": "excellent",
         "mid.1": "mid",
         "stable": "unstable",
         "stable.1": "stable",
         "stable.2": "mod-stable",
         "A": "S",
         "_deepnote_index_column": 8
        },
        {
         "15": "15",
         "mid": "mid",
         "low": "mid",
         "excellent": "good",
         "mid.1": "mid",
         "stable": "stable",
         "stable.1": "stable",
         "stable.2": "stable",
         "A": "A",
         "_deepnote_index_column": 9
        },
        {
         "15": "10",
         "mid": "mid",
         "low": "low",
         "excellent": "good",
         "mid.1": "high",
         "stable": "stable",
         "stable.1": "stable",
         "stable.2": "mod-stable",
         "A": "A",
         "_deepnote_index_column": 10
        },
        {
         "15": "15",
         "mid": "high",
         "low": "high",
         "excellent": "excellent",
         "mid.1": "high",
         "stable": "unstable",
         "stable.1": "stable",
         "stable.2": "unstable",
         "A": "A",
         "_deepnote_index_column": 11
        },
        {
         "15": "10",
         "mid": "mid",
         "low": "high",
         "excellent": "good",
         "mid.1": "mid",
         "stable": "unstable",
         "stable.1": "stable",
         "stable.2": "mod-stable",
         "A": "A",
         "_deepnote_index_column": 12
        },
        {
         "15": "15",
         "mid": "mid",
         "low": "low",
         "excellent": "good",
         "mid.1": "high",
         "stable": "unstable",
         "stable.1": "unstable",
         "stable.2": "stable",
         "A": "S",
         "_deepnote_index_column": 13
        },
        {
         "15": "10",
         "mid": "high",
         "low": "high",
         "excellent": "excellent",
         "mid.1": "high",
         "stable": "unstable",
         "stable.1": "stable",
         "stable.2": "unstable",
         "A": "A",
         "_deepnote_index_column": 14
        },
        {
         "15": "15",
         "mid": "low",
         "low": "high",
         "excellent": "good",
         "mid.1": "high",
         "stable": "unstable",
         "stable.1": "stable",
         "stable.2": "mod-stable",
         "A": "A",
         "_deepnote_index_column": 15
        },
        {
         "15": "10",
         "mid": "mid",
         "low": "low",
         "excellent": "good",
         "mid.1": "high",
         "stable": "unstable",
         "stable.1": "stable",
         "stable.2": "stable",
         "A": "A",
         "_deepnote_index_column": 16
        },
        {
         "15": "15",
         "mid": "mid",
         "low": "high",
         "excellent": "good",
         "mid.1": "mid",
         "stable": "unstable",
         "stable.1": "stable",
         "stable.2": "unstable",
         "A": "A",
         "_deepnote_index_column": 17
        },
        {
         "15": "10",
         "mid": "mid",
         "low": "mid",
         "excellent": "good",
         "mid.1": "mid",
         "stable": "stable",
         "stable.1": "stable",
         "stable.2": "stable",
         "A": "A",
         "_deepnote_index_column": 18
        },
        {
         "15": "15",
         "mid": "low",
         "low": "high",
         "excellent": "good",
         "mid.1": "mid",
         "stable": "unstable",
         "stable.1": "stable",
         "stable.2": "stable",
         "A": "A",
         "_deepnote_index_column": 19
        },
        {
         "15": "10",
         "mid": "low",
         "low": "mid",
         "excellent": "excellent",
         "mid.1": "high",
         "stable": "unstable",
         "stable.1": "stable",
         "stable.2": "unstable",
         "A": "S",
         "_deepnote_index_column": 20
        },
        {
         "15": "15",
         "mid": "mid",
         "low": "mid",
         "excellent": "good",
         "mid.1": "mid",
         "stable": "unstable",
         "stable.1": "stable",
         "stable.2": "unstable",
         "A": "A",
         "_deepnote_index_column": 21
        },
        {
         "15": "10",
         "mid": "mid",
         "low": "mid",
         "excellent": "good",
         "mid.1": "mid",
         "stable": "unstable",
         "stable.1": "stable",
         "stable.2": "stable",
         "A": "A",
         "_deepnote_index_column": 22
        },
        {
         "15": "10",
         "mid": "high",
         "low": "high",
         "excellent": "good",
         "mid.1": "mid",
         "stable": "stable",
         "stable.1": "stable",
         "stable.2": "mod-stable",
         "A": "A",
         "_deepnote_index_column": 23
        },
        {
         "15": "10",
         "mid": "low",
         "low": "mid",
         "excellent": "good",
         "mid.1": "mid",
         "stable": "unstable",
         "stable.1": "stable",
         "stable.2": "stable",
         "A": "A",
         "_deepnote_index_column": 24
        },
        {
         "15": "10",
         "mid": "high",
         "low": "mid",
         "excellent": "good",
         "mid.1": "low",
         "stable": "stable",
         "stable.1": "stable",
         "stable.2": "mod-stable",
         "A": "A",
         "_deepnote_index_column": 25
        },
        {
         "15": "10",
         "mid": "low",
         "low": "mid",
         "excellent": "excellent",
         "mid.1": "high",
         "stable": "stable",
         "stable.1": "stable",
         "stable.2": "mod-stable",
         "A": "A",
         "_deepnote_index_column": 26
        },
        {
         "15": "15",
         "mid": "mid",
         "low": "mid",
         "excellent": "excellent",
         "mid.1": "mid",
         "stable": "stable",
         "stable.1": "stable",
         "stable.2": "unstable",
         "A": "A",
         "_deepnote_index_column": 27
        },
        {
         "15": "10",
         "mid": "mid",
         "low": "mid",
         "excellent": "good",
         "mid.1": "mid",
         "stable": "unstable",
         "stable.1": "stable",
         "stable.2": "unstable",
         "A": "S",
         "_deepnote_index_column": 28
        },
        {
         "15": "10",
         "mid": "mid",
         "low": "mid",
         "excellent": "good",
         "mid.1": "high",
         "stable": "unstable",
         "stable.1": "stable",
         "stable.2": "stable",
         "A": "A",
         "_deepnote_index_column": 29
        },
        {
         "15": "10",
         "mid": "low",
         "low": "low",
         "excellent": "good",
         "mid.1": "mid",
         "stable": "unstable",
         "stable.1": "stable",
         "stable.2": "unstable",
         "A": "A",
         "_deepnote_index_column": 30
        },
        {
         "15": "10",
         "mid": "mid",
         "low": "mid",
         "excellent": "excellent",
         "mid.1": "high",
         "stable": "unstable",
         "stable.1": "stable",
         "stable.2": "mod-stable",
         "A": "A",
         "_deepnote_index_column": 31
        },
        {
         "15": "10",
         "mid": "mid",
         "low": "low",
         "excellent": "good",
         "mid.1": "mid",
         "stable": "stable",
         "stable.1": "stable",
         "stable.2": "stable",
         "A": "A",
         "_deepnote_index_column": 32
        },
        {
         "15": "10",
         "mid": "low",
         "low": "mid",
         "excellent": "excellent",
         "mid.1": "high",
         "stable": "stable",
         "stable.1": "stable",
         "stable.2": "mod-stable",
         "A": "A",
         "_deepnote_index_column": 33
        },
        {
         "15": "10",
         "mid": "mid",
         "low": "mid",
         "excellent": "good",
         "mid.1": "mid",
         "stable": "stable",
         "stable.1": "stable",
         "stable.2": "stable",
         "A": "A",
         "_deepnote_index_column": 34
        },
        {
         "15": "10",
         "mid": "low",
         "low": "mid",
         "excellent": "excellent",
         "mid.1": "mid",
         "stable": "stable",
         "stable.1": "stable",
         "stable.2": "stable",
         "A": "S",
         "_deepnote_index_column": 35
        },
        {
         "15": "10",
         "mid": "low",
         "low": "low",
         "excellent": "good",
         "mid.1": "mid",
         "stable": "unstable",
         "stable.1": "stable",
         "stable.2": "unstable",
         "A": "S",
         "_deepnote_index_column": 36
        },
        {
         "15": "07",
         "mid": "low",
         "low": "low",
         "excellent": "good",
         "mid.1": "mid",
         "stable": "stable",
         "stable.1": "stable",
         "stable.2": "stable",
         "A": "S",
         "_deepnote_index_column": 37
        },
        {
         "15": "10",
         "mid": "mid",
         "low": "mid",
         "excellent": "good",
         "mid.1": "high",
         "stable": "unstable",
         "stable.1": "stable",
         "stable.2": "mod-stable",
         "A": "A",
         "_deepnote_index_column": 38
        },
        {
         "15": "10",
         "mid": "low",
         "low": "low",
         "excellent": "good",
         "mid.1": "mid",
         "stable": "unstable",
         "stable.1": "stable",
         "stable.2": "stable",
         "A": "A",
         "_deepnote_index_column": 39
        },
        {
         "15": "15",
         "mid": "low",
         "low": "mid",
         "excellent": "good",
         "mid.1": "mid",
         "stable": "stable",
         "stable.1": "stable",
         "stable.2": "stable",
         "A": "S",
         "_deepnote_index_column": 40
        },
        {
         "15": "15",
         "mid": "high",
         "low": "high",
         "excellent": "good",
         "mid.1": "high",
         "stable": "unstable",
         "stable.1": "stable",
         "stable.2": "stable",
         "A": "S",
         "_deepnote_index_column": 41
        },
        {
         "15": "10",
         "mid": "mid",
         "low": "mid",
         "excellent": "good",
         "mid.1": "mid",
         "stable": "stable",
         "stable.1": "stable",
         "stable.2": "stable",
         "A": "S",
         "_deepnote_index_column": 42
        },
        {
         "15": "10",
         "mid": "low",
         "low": "low",
         "excellent": "excellent",
         "mid.1": "mid",
         "stable": "stable",
         "stable.1": "stable",
         "stable.2": "stable",
         "A": "A",
         "_deepnote_index_column": 43
        },
        {
         "15": "10",
         "mid": "low",
         "low": "mid",
         "excellent": "good",
         "mid.1": "mid",
         "stable": "unstable",
         "stable.1": "stable",
         "stable.2": "stable",
         "A": "S",
         "_deepnote_index_column": 44
        },
        {
         "15": "?",
         "mid": "low",
         "low": "mid",
         "excellent": "good",
         "mid.1": "high",
         "stable": "unstable",
         "stable.1": "stable",
         "stable.2": "stable",
         "A": "I",
         "_deepnote_index_column": 45
        },
        {
         "15": "10",
         "mid": "mid",
         "low": "mid",
         "excellent": "excellent",
         "mid.1": "mid",
         "stable": "unstable",
         "stable.1": "stable",
         "stable.2": "stable",
         "A": "A",
         "_deepnote_index_column": 46
        },
        {
         "15": "?",
         "mid": "high",
         "low": "high",
         "excellent": "excellent",
         "mid.1": "high",
         "stable": "stable",
         "stable.1": "stable",
         "stable.2": "unstable",
         "A": "A",
         "_deepnote_index_column": 47
        },
        {
         "15": "10",
         "mid": "mid",
         "low": "high",
         "excellent": "good",
         "mid.1": "low",
         "stable": "unstable",
         "stable.1": "stable",
         "stable.2": "stable",
         "A": "A",
         "_deepnote_index_column": 48
        },
        {
         "15": "10",
         "mid": "mid",
         "low": "high",
         "excellent": "good",
         "mid.1": "mid",
         "stable": "unstable",
         "stable.1": "mod-stable",
         "stable.2": "mod-stable",
         "A": "A",
         "_deepnote_index_column": 49
        },
        {
         "15": "10",
         "mid": "low",
         "low": "high",
         "excellent": "excellent",
         "mid.1": "mid",
         "stable": "unstable",
         "stable.1": "stable",
         "stable.2": "stable",
         "A": "A",
         "_deepnote_index_column": 50
        },
        {
         "15": "10",
         "mid": "mid",
         "low": "low",
         "excellent": "excellent",
         "mid.1": "high",
         "stable": "unstable",
         "stable.1": "stable",
         "stable.2": "unstable",
         "A": "A",
         "_deepnote_index_column": 51
        },
        {
         "15": "10",
         "mid": "mid",
         "low": "mid",
         "excellent": "good",
         "mid.1": "mid",
         "stable": "unstable",
         "stable.1": "stable",
         "stable.2": "mod-stable",
         "A": "S",
         "_deepnote_index_column": 52
        },
        {
         "15": "10",
         "mid": "high",
         "low": "high",
         "excellent": "excellent",
         "mid.1": "mid",
         "stable": "unstable",
         "stable.1": "stable",
         "stable.2": "mod-stable",
         "A": "A",
         "_deepnote_index_column": 53
        },
        {
         "15": "15",
         "mid": "mid",
         "low": "mid",
         "excellent": "good",
         "mid.1": "mid",
         "stable": "unstable",
         "stable.1": "stable",
         "stable.2": "stable",
         "A": "A",
         "_deepnote_index_column": 54
        },
        {
         "15": "15",
         "mid": "high",
         "low": "mid",
         "excellent": "good",
         "mid.1": "high",
         "stable": "stable",
         "stable.1": "stable",
         "stable.2": "unstable",
         "A": "A",
         "_deepnote_index_column": 55
        },
        {
         "15": "10",
         "mid": "mid",
         "low": "low",
         "excellent": "good",
         "mid.1": "high",
         "stable": "unstable",
         "stable.1": "stable",
         "stable.2": "mod-stable",
         "A": "A",
         "_deepnote_index_column": 56
        },
        {
         "15": "10",
         "mid": "low",
         "low": "low",
         "excellent": "good",
         "mid.1": "high",
         "stable": "stable",
         "stable.1": "stable",
         "stable.2": "stable",
         "A": "A",
         "_deepnote_index_column": 57
        },
        {
         "15": "10",
         "mid": "mid",
         "low": "high",
         "excellent": "good",
         "mid.1": "mid",
         "stable": "stable",
         "stable.1": "stable",
         "stable.2": "mod-stable",
         "A": "A",
         "_deepnote_index_column": 58
        },
        {
         "15": "10",
         "mid": "mid",
         "low": "high",
         "excellent": "good",
         "mid.1": "mid",
         "stable": "unstable",
         "stable.1": "stable",
         "stable.2": "unstable",
         "A": "A",
         "_deepnote_index_column": 59
        },
        {
         "15": "10",
         "mid": "mid",
         "low": "low",
         "excellent": "excellent",
         "mid.1": "high",
         "stable": "stable",
         "stable.1": "stable",
         "stable.2": "stable",
         "A": "A",
         "_deepnote_index_column": 60
        },
        {
         "15": "10",
         "mid": "mid",
         "low": "mid",
         "excellent": "good",
         "mid.1": "mid",
         "stable": "stable",
         "stable.1": "stable",
         "stable.2": "unstable",
         "A": "A",
         "_deepnote_index_column": 61
        },
        {
         "15": "10",
         "mid": "mid",
         "low": "low",
         "excellent": "excellent",
         "mid.1": "mid",
         "stable": "stable",
         "stable.1": "stable",
         "stable.2": "unstable",
         "A": "S",
         "_deepnote_index_column": 62
        },
        {
         "15": "10",
         "mid": "high",
         "low": "mid",
         "excellent": "excellent",
         "mid.1": "mid",
         "stable": "unstable",
         "stable.1": "unstable",
         "stable.2": "unstable",
         "A": "A",
         "_deepnote_index_column": 63
        },
        {
         "15": "10",
         "mid": "mid",
         "low": "mid",
         "excellent": "good",
         "mid.1": "high",
         "stable": "stable",
         "stable.1": "stable",
         "stable.2": "stable",
         "A": "S",
         "_deepnote_index_column": 64
        },
        {
         "15": "10",
         "mid": "mid",
         "low": "low",
         "excellent": "excellent",
         "mid.1": "mid",
         "stable": "unstable",
         "stable.1": "stable",
         "stable.2": "stable",
         "A": "A",
         "_deepnote_index_column": 65
        },
        {
         "15": "10",
         "mid": "mid",
         "low": "mid",
         "excellent": "excellent",
         "mid.1": "mid",
         "stable": "unstable",
         "stable.1": "stable",
         "stable.2": "stable",
         "A": "A",
         "_deepnote_index_column": 66
        },
        {
         "15": "10",
         "mid": "mid",
         "low": "mid",
         "excellent": "excellent",
         "mid.1": "high",
         "stable": "stable",
         "stable.1": "stable",
         "stable.2": "stable",
         "A": "A",
         "_deepnote_index_column": 67
        },
        {
         "15": "10",
         "mid": "mid",
         "low": "mid",
         "excellent": "excellent",
         "mid.1": "low",
         "stable": "stable",
         "stable.1": "stable",
         "stable.2": "stable",
         "A": "A",
         "_deepnote_index_column": 68
        },
        {
         "15": "?",
         "mid": "mid",
         "low": "low",
         "excellent": "excellent",
         "mid.1": "mid",
         "stable": "unstable",
         "stable.1": "unstable",
         "stable.2": "unstable",
         "A": "A",
         "_deepnote_index_column": 69
        },
        {
         "15": "10",
         "mid": "low",
         "low": "low",
         "excellent": "excellent",
         "mid.1": "mid",
         "stable": "stable",
         "stable.1": "stable",
         "stable.2": "stable",
         "A": "A",
         "_deepnote_index_column": 70
        },
        {
         "15": "10",
         "mid": "mid",
         "low": "mid",
         "excellent": "excellent",
         "mid.1": "mid",
         "stable": "stable",
         "stable.1": "stable",
         "stable.2": "mod-stable",
         "A": "S",
         "_deepnote_index_column": 71
        },
        {
         "15": "10",
         "mid": "mid",
         "low": "mid",
         "excellent": "excellent",
         "mid.1": "high",
         "stable": "stable",
         "stable.1": "stable",
         "stable.2": "stable",
         "A": "A",
         "_deepnote_index_column": 72
        },
        {
         "15": "10",
         "mid": "mid",
         "low": "low",
         "excellent": "excellent",
         "mid.1": "high",
         "stable": "stable",
         "stable.1": "stable",
         "stable.2": "mod-stable",
         "A": "A",
         "_deepnote_index_column": 73
        },
        {
         "15": "10",
         "mid": "low",
         "low": "mid",
         "excellent": "good",
         "mid.1": "mid",
         "stable": "stable",
         "stable.1": "stable",
         "stable.2": "unstable",
         "A": "A",
         "_deepnote_index_column": 74
        },
        {
         "15": "10",
         "mid": "mid",
         "low": "mid",
         "excellent": "excellent",
         "mid.1": "mid",
         "stable": "stable",
         "stable.1": "stable",
         "stable.2": "mod-stable",
         "A": "A",
         "_deepnote_index_column": 75
        },
        {
         "15": "10",
         "mid": "mid",
         "low": "mid",
         "excellent": "excellent",
         "mid.1": "mid",
         "stable": "stable",
         "stable.1": "stable",
         "stable.2": "unstable",
         "A": "A",
         "_deepnote_index_column": 76
        },
        {
         "15": "10",
         "mid": "mid",
         "low": "mid",
         "excellent": "excellent",
         "mid.1": "mid",
         "stable": "unstable",
         "stable.1": "unstable",
         "stable.2": "stable",
         "A": "S",
         "_deepnote_index_column": 77
        },
        {
         "15": "10",
         "mid": "mid",
         "low": "mid",
         "excellent": "good",
         "mid.1": "high",
         "stable": "stable",
         "stable.1": "stable",
         "stable.2": "stable",
         "A": "A",
         "_deepnote_index_column": 78
        },
        {
         "15": "15",
         "mid": "mid",
         "low": "mid",
         "excellent": "excellent",
         "mid.1": "mid",
         "stable": "stable",
         "stable.1": "stable",
         "stable.2": "stable",
         "A": "A",
         "_deepnote_index_column": 79
        },
        {
         "15": "10",
         "mid": "mid",
         "low": "mid",
         "excellent": "excellent",
         "mid.1": "mid",
         "stable": "stable",
         "stable.1": "stable",
         "stable.2": "stable",
         "A": "S",
         "_deepnote_index_column": 80
        },
        {
         "15": "10",
         "mid": "mid",
         "low": "low",
         "excellent": "good",
         "mid.1": "mid",
         "stable": "stable",
         "stable.1": "stable",
         "stable.2": "unstable",
         "A": "I",
         "_deepnote_index_column": 81
        },
        {
         "15": "05",
         "mid": "high",
         "low": "mid",
         "excellent": "excellent",
         "mid.1": "mid",
         "stable": "unstable",
         "stable.1": "stable",
         "stable.2": "unstable",
         "A": "A",
         "_deepnote_index_column": 82
        },
        {
         "15": "10",
         "mid": "mid",
         "low": "mid",
         "excellent": "excellent",
         "mid.1": "mid",
         "stable": "stable",
         "stable.1": "stable",
         "stable.2": "unstable",
         "A": "A",
         "_deepnote_index_column": 83
        },
        {
         "15": "10",
         "mid": "mid",
         "low": "mid",
         "excellent": "excellent",
         "mid.1": "mid",
         "stable": "unstable",
         "stable.1": "stable",
         "stable.2": "stable",
         "A": "A",
         "_deepnote_index_column": 84
        },
        {
         "15": "15",
         "mid": "mid",
         "low": "mid",
         "excellent": "excellent",
         "mid.1": "mid",
         "stable": "unstable",
         "stable.1": "stable",
         "stable.2": "stable",
         "A": "S",
         "_deepnote_index_column": 85
        },
        {
         "15": "15",
         "mid": "mid",
         "low": "mid",
         "excellent": "good",
         "mid.1": "mid",
         "stable": "unstable",
         "stable.1": "stable",
         "stable.2": "stable",
         "A": "A",
         "_deepnote_index_column": 86
        },
        {
         "15": "10",
         "mid": "mid",
         "low": "mid",
         "excellent": "excellent",
         "mid.1": "mid",
         "stable": "unstable",
         "stable.1": "stable",
         "stable.2": "stable",
         "A": "A",
         "_deepnote_index_column": 87
        },
        {
         "15": "15",
         "mid": "mid",
         "low": "mid",
         "excellent": "good",
         "mid.1": "mid",
         "stable": "unstable",
         "stable.1": "stable",
         "stable.2": "stable",
         "A": "S",
         "_deepnote_index_column": 88
        }
       ],
       "rows_bottom": null
      },
      "text/plain": "     mid   low  excellent mid.1    stable  stable.1    stable.2  15   A\n0    mid  high  excellent  high    stable    stable      stable  10   S\n1   high   low  excellent  high    stable    stable  mod-stable  10   A\n2    mid   low       good  high    stable  unstable  mod-stable  15  A \n3    mid   mid  excellent  high    stable    stable      stable  10   A\n4   high   low       good   mid    stable    stable    unstable  15   S\n..   ...   ...        ...   ...       ...       ...         ...  ..  ..\n84   mid   mid  excellent   mid  unstable    stable      stable  10   A\n85   mid   mid  excellent   mid  unstable    stable      stable  15   S\n86   mid   mid       good   mid  unstable    stable      stable  15   A\n87   mid   mid  excellent   mid  unstable    stable      stable  10   A\n88   mid   mid       good   mid  unstable    stable      stable  15   S\n\n[89 rows x 9 columns]",
      "text/html": "<div>\n<style scoped>\n    .dataframe tbody tr th:only-of-type {\n        vertical-align: middle;\n    }\n\n    .dataframe tbody tr th {\n        vertical-align: top;\n    }\n\n    .dataframe thead th {\n        text-align: right;\n    }\n</style>\n<table border=\"1\" class=\"dataframe\">\n  <thead>\n    <tr style=\"text-align: right;\">\n      <th></th>\n      <th>mid</th>\n      <th>low</th>\n      <th>excellent</th>\n      <th>mid.1</th>\n      <th>stable</th>\n      <th>stable.1</th>\n      <th>stable.2</th>\n      <th>15</th>\n      <th>A</th>\n    </tr>\n  </thead>\n  <tbody>\n    <tr>\n      <th>0</th>\n      <td>mid</td>\n      <td>high</td>\n      <td>excellent</td>\n      <td>high</td>\n      <td>stable</td>\n      <td>stable</td>\n      <td>stable</td>\n      <td>10</td>\n      <td>S</td>\n    </tr>\n    <tr>\n      <th>1</th>\n      <td>high</td>\n      <td>low</td>\n      <td>excellent</td>\n      <td>high</td>\n      <td>stable</td>\n      <td>stable</td>\n      <td>mod-stable</td>\n      <td>10</td>\n      <td>A</td>\n    </tr>\n    <tr>\n      <th>2</th>\n      <td>mid</td>\n      <td>low</td>\n      <td>good</td>\n      <td>high</td>\n      <td>stable</td>\n      <td>unstable</td>\n      <td>mod-stable</td>\n      <td>15</td>\n      <td>A</td>\n    </tr>\n    <tr>\n      <th>3</th>\n      <td>mid</td>\n      <td>mid</td>\n      <td>excellent</td>\n      <td>high</td>\n      <td>stable</td>\n      <td>stable</td>\n      <td>stable</td>\n      <td>10</td>\n      <td>A</td>\n    </tr>\n    <tr>\n      <th>4</th>\n      <td>high</td>\n      <td>low</td>\n      <td>good</td>\n      <td>mid</td>\n      <td>stable</td>\n      <td>stable</td>\n      <td>unstable</td>\n      <td>15</td>\n      <td>S</td>\n    </tr>\n    <tr>\n      <th>...</th>\n      <td>...</td>\n      <td>...</td>\n      <td>...</td>\n      <td>...</td>\n      <td>...</td>\n      <td>...</td>\n      <td>...</td>\n      <td>...</td>\n      <td>...</td>\n    </tr>\n    <tr>\n      <th>84</th>\n      <td>mid</td>\n      <td>mid</td>\n      <td>excellent</td>\n      <td>mid</td>\n      <td>unstable</td>\n      <td>stable</td>\n      <td>stable</td>\n      <td>10</td>\n      <td>A</td>\n    </tr>\n    <tr>\n      <th>85</th>\n      <td>mid</td>\n      <td>mid</td>\n      <td>excellent</td>\n      <td>mid</td>\n      <td>unstable</td>\n      <td>stable</td>\n      <td>stable</td>\n      <td>15</td>\n      <td>S</td>\n    </tr>\n    <tr>\n      <th>86</th>\n      <td>mid</td>\n      <td>mid</td>\n      <td>good</td>\n      <td>mid</td>\n      <td>unstable</td>\n      <td>stable</td>\n      <td>stable</td>\n      <td>15</td>\n      <td>A</td>\n    </tr>\n    <tr>\n      <th>87</th>\n      <td>mid</td>\n      <td>mid</td>\n      <td>excellent</td>\n      <td>mid</td>\n      <td>unstable</td>\n      <td>stable</td>\n      <td>stable</td>\n      <td>10</td>\n      <td>A</td>\n    </tr>\n    <tr>\n      <th>88</th>\n      <td>mid</td>\n      <td>mid</td>\n      <td>good</td>\n      <td>mid</td>\n      <td>unstable</td>\n      <td>stable</td>\n      <td>stable</td>\n      <td>15</td>\n      <td>S</td>\n    </tr>\n  </tbody>\n</table>\n<p>89 rows × 9 columns</p>\n</div>"
     },
     "metadata": {}
    }
   ],
   "execution_count": null
  },
  {
   "cell_type": "code",
   "metadata": {
    "tags": [],
    "cell_id": "00005-711259a3-7511-4fa7-ba39-0aea7c86ebdd",
    "deepnote_to_be_reexecuted": false,
    "source_hash": "ca7335c2",
    "execution_start": 1639175610026,
    "execution_millis": 32,
    "deepnote_output_heights": [
     21.1875
    ],
    "deepnote_cell_type": "code"
   },
   "source": "post_oper.shape",
   "outputs": [
    {
     "output_type": "execute_result",
     "execution_count": 3,
     "data": {
      "text/plain": "(89, 9)"
     },
     "metadata": {}
    }
   ],
   "execution_count": null
  },
  {
   "cell_type": "markdown",
   "source": "### Cambios bbdd",
   "metadata": {
    "tags": [],
    "is_collapsed": false,
    "cell_id": "00007-478f3373-90e9-45a8-8b45-b4a1fe2c54d6",
    "deepnote_cell_type": "text-cell-h3"
   }
  },
  {
   "cell_type": "markdown",
   "source": "Abrimos el archivo para poder visualizar la información. Nos dimos cuenta que las columnas no tenían asignado un nombre por ende las siguientes lineas de código son para agregarle un nombre a cada columna.",
   "metadata": {
    "cell_id": "00003-dd25f0a9-5e82-49ad-ba82-3353555cff36",
    "deepnote_cell_type": "markdown"
   }
  },
  {
   "cell_type": "code",
   "metadata": {
    "cell_id": "00005-0a0132a2-0fd3-4c47-b90d-d096fe8b1376",
    "deepnote_output_heights": [
     382.1875
    ],
    "deepnote_to_be_reexecuted": false,
    "source_hash": "53099e4b",
    "execution_start": 1639175610081,
    "execution_millis": 567,
    "deepnote_cell_type": "code"
   },
   "source": "post_oper.columns = ['L-CORE', 'L-SURF', 'L-02', 'L-BP', 'SURF-STBL', 'CORE-STBL', 'BP-STBL', 'COMFORT', 'ADM-DECS']\npost_oper.loc[89]= ['mid', 'low', 'excellent', 'mid', 'stable', 'stable', 'stable',\n       '15', 'A']\n\n#Acá eliminamos las filas que contenian información nula.\npost_oper['COMFORT'] = post_oper['COMFORT'].replace('?', np.nan)\npost_oper = post_oper.dropna(axis=0, subset=['COMFORT'])\npost_oper\n",
   "outputs": [
    {
     "output_type": "execute_result",
     "execution_count": 4,
     "data": {
      "application/vnd.deepnote.dataframe.v2+json": {
       "row_count": 87,
       "column_count": 9,
       "columns": [
        {
         "name": "L-CORE",
         "dtype": "object",
         "stats": {
          "unique_count": 3,
          "nan_count": 0,
          "categories": [
           {
            "name": "mid",
            "count": 57
           },
           {
            "name": "low",
            "count": 18
           },
           {
            "name": "high",
            "count": 12
           }
          ]
         }
        },
        {
         "name": "L-SURF",
         "dtype": "object",
         "stats": {
          "unique_count": 3,
          "nan_count": 0,
          "categories": [
           {
            "name": "mid",
            "count": 47
           },
           {
            "name": "low",
            "count": 24
           },
           {
            "name": "high",
            "count": 16
           }
          ]
         }
        },
        {
         "name": "L-02",
         "dtype": "object",
         "stats": {
          "unique_count": 2,
          "nan_count": 0,
          "categories": [
           {
            "name": "good",
            "count": 46
           },
           {
            "name": "excellent",
            "count": 41
           }
          ]
         }
        },
        {
         "name": "L-BP",
         "dtype": "object",
         "stats": {
          "unique_count": 3,
          "nan_count": 0,
          "categories": [
           {
            "name": "mid",
            "count": 56
           },
           {
            "name": "high",
            "count": 28
           },
           {
            "name": "low",
            "count": 3
           }
          ]
         }
        },
        {
         "name": "SURF-STBL",
         "dtype": "object",
         "stats": {
          "unique_count": 2,
          "nan_count": 0,
          "categories": [
           {
            "name": "stable",
            "count": 44
           },
           {
            "name": "unstable",
            "count": 43
           }
          ]
         }
        },
        {
         "name": "CORE-STBL",
         "dtype": "object",
         "stats": {
          "unique_count": 3,
          "nan_count": 0,
          "categories": [
           {
            "name": "stable",
            "count": 81
           },
           {
            "name": "unstable",
            "count": 5
           },
           {
            "name": "mod-stable",
            "count": 1
           }
          ]
         }
        },
        {
         "name": "BP-STBL",
         "dtype": "object",
         "stats": {
          "unique_count": 3,
          "nan_count": 0,
          "categories": [
           {
            "name": "stable",
            "count": 45
           },
           {
            "name": "mod-stable",
            "count": 21
           },
           {
            "name": "unstable",
            "count": 21
           }
          ]
         }
        },
        {
         "name": "COMFORT",
         "dtype": "object",
         "stats": {
          "unique_count": 4,
          "nan_count": 0,
          "categories": [
           {
            "name": "10",
            "count": 65
           },
           {
            "name": "15",
            "count": 19
           },
           {
            "name": "2 others",
            "count": 3
           }
          ]
         }
        },
        {
         "name": "ADM-DECS",
         "dtype": "object",
         "stats": {
          "unique_count": 4,
          "nan_count": 0,
          "categories": [
           {
            "name": "A",
            "count": 61
           },
           {
            "name": "S",
            "count": 24
           },
           {
            "name": "2 others",
            "count": 2
           }
          ]
         }
        },
        {
         "name": "_deepnote_index_column",
         "dtype": "int64"
        }
       ],
       "rows_top": [
        {
         "L-CORE": "mid",
         "L-SURF": "high",
         "L-02": "excellent",
         "L-BP": "high",
         "SURF-STBL": "stable",
         "CORE-STBL": "stable",
         "BP-STBL": "stable",
         "COMFORT": "10",
         "ADM-DECS": "S",
         "_deepnote_index_column": 0
        },
        {
         "L-CORE": "high",
         "L-SURF": "low",
         "L-02": "excellent",
         "L-BP": "high",
         "SURF-STBL": "stable",
         "CORE-STBL": "stable",
         "BP-STBL": "mod-stable",
         "COMFORT": "10",
         "ADM-DECS": "A",
         "_deepnote_index_column": 1
        },
        {
         "L-CORE": "mid",
         "L-SURF": "low",
         "L-02": "good",
         "L-BP": "high",
         "SURF-STBL": "stable",
         "CORE-STBL": "unstable",
         "BP-STBL": "mod-stable",
         "COMFORT": "15",
         "ADM-DECS": "A ",
         "_deepnote_index_column": 2
        },
        {
         "L-CORE": "mid",
         "L-SURF": "mid",
         "L-02": "excellent",
         "L-BP": "high",
         "SURF-STBL": "stable",
         "CORE-STBL": "stable",
         "BP-STBL": "stable",
         "COMFORT": "10",
         "ADM-DECS": "A",
         "_deepnote_index_column": 3
        },
        {
         "L-CORE": "high",
         "L-SURF": "low",
         "L-02": "good",
         "L-BP": "mid",
         "SURF-STBL": "stable",
         "CORE-STBL": "stable",
         "BP-STBL": "unstable",
         "COMFORT": "15",
         "ADM-DECS": "S",
         "_deepnote_index_column": 4
        },
        {
         "L-CORE": "mid",
         "L-SURF": "low",
         "L-02": "excellent",
         "L-BP": "high",
         "SURF-STBL": "stable",
         "CORE-STBL": "stable",
         "BP-STBL": "mod-stable",
         "COMFORT": "05",
         "ADM-DECS": "S",
         "_deepnote_index_column": 5
        },
        {
         "L-CORE": "high",
         "L-SURF": "mid",
         "L-02": "excellent",
         "L-BP": "mid",
         "SURF-STBL": "unstable",
         "CORE-STBL": "unstable",
         "BP-STBL": "stable",
         "COMFORT": "10",
         "ADM-DECS": "S",
         "_deepnote_index_column": 6
        },
        {
         "L-CORE": "mid",
         "L-SURF": "high",
         "L-02": "good",
         "L-BP": "mid",
         "SURF-STBL": "stable",
         "CORE-STBL": "stable",
         "BP-STBL": "stable",
         "COMFORT": "10",
         "ADM-DECS": "S",
         "_deepnote_index_column": 7
        },
        {
         "L-CORE": "mid",
         "L-SURF": "low",
         "L-02": "excellent",
         "L-BP": "mid",
         "SURF-STBL": "unstable",
         "CORE-STBL": "stable",
         "BP-STBL": "mod-stable",
         "COMFORT": "10",
         "ADM-DECS": "S",
         "_deepnote_index_column": 8
        },
        {
         "L-CORE": "mid",
         "L-SURF": "mid",
         "L-02": "good",
         "L-BP": "mid",
         "SURF-STBL": "stable",
         "CORE-STBL": "stable",
         "BP-STBL": "stable",
         "COMFORT": "15",
         "ADM-DECS": "A",
         "_deepnote_index_column": 9
        },
        {
         "L-CORE": "mid",
         "L-SURF": "low",
         "L-02": "good",
         "L-BP": "high",
         "SURF-STBL": "stable",
         "CORE-STBL": "stable",
         "BP-STBL": "mod-stable",
         "COMFORT": "10",
         "ADM-DECS": "A",
         "_deepnote_index_column": 10
        },
        {
         "L-CORE": "high",
         "L-SURF": "high",
         "L-02": "excellent",
         "L-BP": "high",
         "SURF-STBL": "unstable",
         "CORE-STBL": "stable",
         "BP-STBL": "unstable",
         "COMFORT": "15",
         "ADM-DECS": "A",
         "_deepnote_index_column": 11
        },
        {
         "L-CORE": "mid",
         "L-SURF": "high",
         "L-02": "good",
         "L-BP": "mid",
         "SURF-STBL": "unstable",
         "CORE-STBL": "stable",
         "BP-STBL": "mod-stable",
         "COMFORT": "10",
         "ADM-DECS": "A",
         "_deepnote_index_column": 12
        },
        {
         "L-CORE": "mid",
         "L-SURF": "low",
         "L-02": "good",
         "L-BP": "high",
         "SURF-STBL": "unstable",
         "CORE-STBL": "unstable",
         "BP-STBL": "stable",
         "COMFORT": "15",
         "ADM-DECS": "S",
         "_deepnote_index_column": 13
        },
        {
         "L-CORE": "high",
         "L-SURF": "high",
         "L-02": "excellent",
         "L-BP": "high",
         "SURF-STBL": "unstable",
         "CORE-STBL": "stable",
         "BP-STBL": "unstable",
         "COMFORT": "10",
         "ADM-DECS": "A",
         "_deepnote_index_column": 14
        },
        {
         "L-CORE": "low",
         "L-SURF": "high",
         "L-02": "good",
         "L-BP": "high",
         "SURF-STBL": "unstable",
         "CORE-STBL": "stable",
         "BP-STBL": "mod-stable",
         "COMFORT": "15",
         "ADM-DECS": "A",
         "_deepnote_index_column": 15
        },
        {
         "L-CORE": "mid",
         "L-SURF": "low",
         "L-02": "good",
         "L-BP": "high",
         "SURF-STBL": "unstable",
         "CORE-STBL": "stable",
         "BP-STBL": "stable",
         "COMFORT": "10",
         "ADM-DECS": "A",
         "_deepnote_index_column": 16
        },
        {
         "L-CORE": "mid",
         "L-SURF": "high",
         "L-02": "good",
         "L-BP": "mid",
         "SURF-STBL": "unstable",
         "CORE-STBL": "stable",
         "BP-STBL": "unstable",
         "COMFORT": "15",
         "ADM-DECS": "A",
         "_deepnote_index_column": 17
        },
        {
         "L-CORE": "mid",
         "L-SURF": "mid",
         "L-02": "good",
         "L-BP": "mid",
         "SURF-STBL": "stable",
         "CORE-STBL": "stable",
         "BP-STBL": "stable",
         "COMFORT": "10",
         "ADM-DECS": "A",
         "_deepnote_index_column": 18
        },
        {
         "L-CORE": "low",
         "L-SURF": "high",
         "L-02": "good",
         "L-BP": "mid",
         "SURF-STBL": "unstable",
         "CORE-STBL": "stable",
         "BP-STBL": "stable",
         "COMFORT": "15",
         "ADM-DECS": "A",
         "_deepnote_index_column": 19
        },
        {
         "L-CORE": "low",
         "L-SURF": "mid",
         "L-02": "excellent",
         "L-BP": "high",
         "SURF-STBL": "unstable",
         "CORE-STBL": "stable",
         "BP-STBL": "unstable",
         "COMFORT": "10",
         "ADM-DECS": "S",
         "_deepnote_index_column": 20
        },
        {
         "L-CORE": "mid",
         "L-SURF": "mid",
         "L-02": "good",
         "L-BP": "mid",
         "SURF-STBL": "unstable",
         "CORE-STBL": "stable",
         "BP-STBL": "unstable",
         "COMFORT": "15",
         "ADM-DECS": "A",
         "_deepnote_index_column": 21
        },
        {
         "L-CORE": "mid",
         "L-SURF": "mid",
         "L-02": "good",
         "L-BP": "mid",
         "SURF-STBL": "unstable",
         "CORE-STBL": "stable",
         "BP-STBL": "stable",
         "COMFORT": "10",
         "ADM-DECS": "A",
         "_deepnote_index_column": 22
        },
        {
         "L-CORE": "high",
         "L-SURF": "high",
         "L-02": "good",
         "L-BP": "mid",
         "SURF-STBL": "stable",
         "CORE-STBL": "stable",
         "BP-STBL": "mod-stable",
         "COMFORT": "10",
         "ADM-DECS": "A",
         "_deepnote_index_column": 23
        },
        {
         "L-CORE": "low",
         "L-SURF": "mid",
         "L-02": "good",
         "L-BP": "mid",
         "SURF-STBL": "unstable",
         "CORE-STBL": "stable",
         "BP-STBL": "stable",
         "COMFORT": "10",
         "ADM-DECS": "A",
         "_deepnote_index_column": 24
        },
        {
         "L-CORE": "high",
         "L-SURF": "mid",
         "L-02": "good",
         "L-BP": "low",
         "SURF-STBL": "stable",
         "CORE-STBL": "stable",
         "BP-STBL": "mod-stable",
         "COMFORT": "10",
         "ADM-DECS": "A",
         "_deepnote_index_column": 25
        },
        {
         "L-CORE": "low",
         "L-SURF": "mid",
         "L-02": "excellent",
         "L-BP": "high",
         "SURF-STBL": "stable",
         "CORE-STBL": "stable",
         "BP-STBL": "mod-stable",
         "COMFORT": "10",
         "ADM-DECS": "A",
         "_deepnote_index_column": 26
        },
        {
         "L-CORE": "mid",
         "L-SURF": "mid",
         "L-02": "excellent",
         "L-BP": "mid",
         "SURF-STBL": "stable",
         "CORE-STBL": "stable",
         "BP-STBL": "unstable",
         "COMFORT": "15",
         "ADM-DECS": "A",
         "_deepnote_index_column": 27
        },
        {
         "L-CORE": "mid",
         "L-SURF": "mid",
         "L-02": "good",
         "L-BP": "mid",
         "SURF-STBL": "unstable",
         "CORE-STBL": "stable",
         "BP-STBL": "unstable",
         "COMFORT": "10",
         "ADM-DECS": "S",
         "_deepnote_index_column": 28
        },
        {
         "L-CORE": "mid",
         "L-SURF": "mid",
         "L-02": "good",
         "L-BP": "high",
         "SURF-STBL": "unstable",
         "CORE-STBL": "stable",
         "BP-STBL": "stable",
         "COMFORT": "10",
         "ADM-DECS": "A",
         "_deepnote_index_column": 29
        },
        {
         "L-CORE": "low",
         "L-SURF": "low",
         "L-02": "good",
         "L-BP": "mid",
         "SURF-STBL": "unstable",
         "CORE-STBL": "stable",
         "BP-STBL": "unstable",
         "COMFORT": "10",
         "ADM-DECS": "A",
         "_deepnote_index_column": 30
        },
        {
         "L-CORE": "mid",
         "L-SURF": "mid",
         "L-02": "excellent",
         "L-BP": "high",
         "SURF-STBL": "unstable",
         "CORE-STBL": "stable",
         "BP-STBL": "mod-stable",
         "COMFORT": "10",
         "ADM-DECS": "A",
         "_deepnote_index_column": 31
        },
        {
         "L-CORE": "mid",
         "L-SURF": "low",
         "L-02": "good",
         "L-BP": "mid",
         "SURF-STBL": "stable",
         "CORE-STBL": "stable",
         "BP-STBL": "stable",
         "COMFORT": "10",
         "ADM-DECS": "A",
         "_deepnote_index_column": 32
        },
        {
         "L-CORE": "low",
         "L-SURF": "mid",
         "L-02": "excellent",
         "L-BP": "high",
         "SURF-STBL": "stable",
         "CORE-STBL": "stable",
         "BP-STBL": "mod-stable",
         "COMFORT": "10",
         "ADM-DECS": "A",
         "_deepnote_index_column": 33
        },
        {
         "L-CORE": "mid",
         "L-SURF": "mid",
         "L-02": "good",
         "L-BP": "mid",
         "SURF-STBL": "stable",
         "CORE-STBL": "stable",
         "BP-STBL": "stable",
         "COMFORT": "10",
         "ADM-DECS": "A",
         "_deepnote_index_column": 34
        },
        {
         "L-CORE": "low",
         "L-SURF": "mid",
         "L-02": "excellent",
         "L-BP": "mid",
         "SURF-STBL": "stable",
         "CORE-STBL": "stable",
         "BP-STBL": "stable",
         "COMFORT": "10",
         "ADM-DECS": "S",
         "_deepnote_index_column": 35
        },
        {
         "L-CORE": "low",
         "L-SURF": "low",
         "L-02": "good",
         "L-BP": "mid",
         "SURF-STBL": "unstable",
         "CORE-STBL": "stable",
         "BP-STBL": "unstable",
         "COMFORT": "10",
         "ADM-DECS": "S",
         "_deepnote_index_column": 36
        },
        {
         "L-CORE": "low",
         "L-SURF": "low",
         "L-02": "good",
         "L-BP": "mid",
         "SURF-STBL": "stable",
         "CORE-STBL": "stable",
         "BP-STBL": "stable",
         "COMFORT": "07",
         "ADM-DECS": "S",
         "_deepnote_index_column": 37
        },
        {
         "L-CORE": "mid",
         "L-SURF": "mid",
         "L-02": "good",
         "L-BP": "high",
         "SURF-STBL": "unstable",
         "CORE-STBL": "stable",
         "BP-STBL": "mod-stable",
         "COMFORT": "10",
         "ADM-DECS": "A",
         "_deepnote_index_column": 38
        },
        {
         "L-CORE": "low",
         "L-SURF": "low",
         "L-02": "good",
         "L-BP": "mid",
         "SURF-STBL": "unstable",
         "CORE-STBL": "stable",
         "BP-STBL": "stable",
         "COMFORT": "10",
         "ADM-DECS": "A",
         "_deepnote_index_column": 39
        },
        {
         "L-CORE": "low",
         "L-SURF": "mid",
         "L-02": "good",
         "L-BP": "mid",
         "SURF-STBL": "stable",
         "CORE-STBL": "stable",
         "BP-STBL": "stable",
         "COMFORT": "15",
         "ADM-DECS": "S",
         "_deepnote_index_column": 40
        },
        {
         "L-CORE": "high",
         "L-SURF": "high",
         "L-02": "good",
         "L-BP": "high",
         "SURF-STBL": "unstable",
         "CORE-STBL": "stable",
         "BP-STBL": "stable",
         "COMFORT": "15",
         "ADM-DECS": "S",
         "_deepnote_index_column": 41
        },
        {
         "L-CORE": "mid",
         "L-SURF": "mid",
         "L-02": "good",
         "L-BP": "mid",
         "SURF-STBL": "stable",
         "CORE-STBL": "stable",
         "BP-STBL": "stable",
         "COMFORT": "10",
         "ADM-DECS": "S",
         "_deepnote_index_column": 42
        },
        {
         "L-CORE": "low",
         "L-SURF": "low",
         "L-02": "excellent",
         "L-BP": "mid",
         "SURF-STBL": "stable",
         "CORE-STBL": "stable",
         "BP-STBL": "stable",
         "COMFORT": "10",
         "ADM-DECS": "A",
         "_deepnote_index_column": 43
        },
        {
         "L-CORE": "low",
         "L-SURF": "mid",
         "L-02": "good",
         "L-BP": "mid",
         "SURF-STBL": "unstable",
         "CORE-STBL": "stable",
         "BP-STBL": "stable",
         "COMFORT": "10",
         "ADM-DECS": "S",
         "_deepnote_index_column": 44
        },
        {
         "L-CORE": "mid",
         "L-SURF": "mid",
         "L-02": "excellent",
         "L-BP": "mid",
         "SURF-STBL": "unstable",
         "CORE-STBL": "stable",
         "BP-STBL": "stable",
         "COMFORT": "10",
         "ADM-DECS": "A",
         "_deepnote_index_column": 46
        },
        {
         "L-CORE": "mid",
         "L-SURF": "high",
         "L-02": "good",
         "L-BP": "low",
         "SURF-STBL": "unstable",
         "CORE-STBL": "stable",
         "BP-STBL": "stable",
         "COMFORT": "10",
         "ADM-DECS": "A",
         "_deepnote_index_column": 48
        },
        {
         "L-CORE": "mid",
         "L-SURF": "high",
         "L-02": "good",
         "L-BP": "mid",
         "SURF-STBL": "unstable",
         "CORE-STBL": "mod-stable",
         "BP-STBL": "mod-stable",
         "COMFORT": "10",
         "ADM-DECS": "A",
         "_deepnote_index_column": 49
        },
        {
         "L-CORE": "low",
         "L-SURF": "high",
         "L-02": "excellent",
         "L-BP": "mid",
         "SURF-STBL": "unstable",
         "CORE-STBL": "stable",
         "BP-STBL": "stable",
         "COMFORT": "10",
         "ADM-DECS": "A",
         "_deepnote_index_column": 50
        },
        {
         "L-CORE": "mid",
         "L-SURF": "low",
         "L-02": "excellent",
         "L-BP": "high",
         "SURF-STBL": "unstable",
         "CORE-STBL": "stable",
         "BP-STBL": "unstable",
         "COMFORT": "10",
         "ADM-DECS": "A",
         "_deepnote_index_column": 51
        },
        {
         "L-CORE": "mid",
         "L-SURF": "mid",
         "L-02": "good",
         "L-BP": "mid",
         "SURF-STBL": "unstable",
         "CORE-STBL": "stable",
         "BP-STBL": "mod-stable",
         "COMFORT": "10",
         "ADM-DECS": "S",
         "_deepnote_index_column": 52
        },
        {
         "L-CORE": "high",
         "L-SURF": "high",
         "L-02": "excellent",
         "L-BP": "mid",
         "SURF-STBL": "unstable",
         "CORE-STBL": "stable",
         "BP-STBL": "mod-stable",
         "COMFORT": "10",
         "ADM-DECS": "A",
         "_deepnote_index_column": 53
        },
        {
         "L-CORE": "mid",
         "L-SURF": "mid",
         "L-02": "good",
         "L-BP": "mid",
         "SURF-STBL": "unstable",
         "CORE-STBL": "stable",
         "BP-STBL": "stable",
         "COMFORT": "15",
         "ADM-DECS": "A",
         "_deepnote_index_column": 54
        },
        {
         "L-CORE": "high",
         "L-SURF": "mid",
         "L-02": "good",
         "L-BP": "high",
         "SURF-STBL": "stable",
         "CORE-STBL": "stable",
         "BP-STBL": "unstable",
         "COMFORT": "15",
         "ADM-DECS": "A",
         "_deepnote_index_column": 55
        },
        {
         "L-CORE": "mid",
         "L-SURF": "low",
         "L-02": "good",
         "L-BP": "high",
         "SURF-STBL": "unstable",
         "CORE-STBL": "stable",
         "BP-STBL": "mod-stable",
         "COMFORT": "10",
         "ADM-DECS": "A",
         "_deepnote_index_column": 56
        },
        {
         "L-CORE": "low",
         "L-SURF": "low",
         "L-02": "good",
         "L-BP": "high",
         "SURF-STBL": "stable",
         "CORE-STBL": "stable",
         "BP-STBL": "stable",
         "COMFORT": "10",
         "ADM-DECS": "A",
         "_deepnote_index_column": 57
        },
        {
         "L-CORE": "mid",
         "L-SURF": "high",
         "L-02": "good",
         "L-BP": "mid",
         "SURF-STBL": "stable",
         "CORE-STBL": "stable",
         "BP-STBL": "mod-stable",
         "COMFORT": "10",
         "ADM-DECS": "A",
         "_deepnote_index_column": 58
        },
        {
         "L-CORE": "mid",
         "L-SURF": "high",
         "L-02": "good",
         "L-BP": "mid",
         "SURF-STBL": "unstable",
         "CORE-STBL": "stable",
         "BP-STBL": "unstable",
         "COMFORT": "10",
         "ADM-DECS": "A",
         "_deepnote_index_column": 59
        },
        {
         "L-CORE": "mid",
         "L-SURF": "low",
         "L-02": "excellent",
         "L-BP": "high",
         "SURF-STBL": "stable",
         "CORE-STBL": "stable",
         "BP-STBL": "stable",
         "COMFORT": "10",
         "ADM-DECS": "A",
         "_deepnote_index_column": 60
        },
        {
         "L-CORE": "mid",
         "L-SURF": "mid",
         "L-02": "good",
         "L-BP": "mid",
         "SURF-STBL": "stable",
         "CORE-STBL": "stable",
         "BP-STBL": "unstable",
         "COMFORT": "10",
         "ADM-DECS": "A",
         "_deepnote_index_column": 61
        },
        {
         "L-CORE": "mid",
         "L-SURF": "low",
         "L-02": "excellent",
         "L-BP": "mid",
         "SURF-STBL": "stable",
         "CORE-STBL": "stable",
         "BP-STBL": "unstable",
         "COMFORT": "10",
         "ADM-DECS": "S",
         "_deepnote_index_column": 62
        },
        {
         "L-CORE": "high",
         "L-SURF": "mid",
         "L-02": "excellent",
         "L-BP": "mid",
         "SURF-STBL": "unstable",
         "CORE-STBL": "unstable",
         "BP-STBL": "unstable",
         "COMFORT": "10",
         "ADM-DECS": "A",
         "_deepnote_index_column": 63
        },
        {
         "L-CORE": "mid",
         "L-SURF": "mid",
         "L-02": "good",
         "L-BP": "high",
         "SURF-STBL": "stable",
         "CORE-STBL": "stable",
         "BP-STBL": "stable",
         "COMFORT": "10",
         "ADM-DECS": "S",
         "_deepnote_index_column": 64
        },
        {
         "L-CORE": "mid",
         "L-SURF": "low",
         "L-02": "excellent",
         "L-BP": "mid",
         "SURF-STBL": "unstable",
         "CORE-STBL": "stable",
         "BP-STBL": "stable",
         "COMFORT": "10",
         "ADM-DECS": "A",
         "_deepnote_index_column": 65
        },
        {
         "L-CORE": "mid",
         "L-SURF": "mid",
         "L-02": "excellent",
         "L-BP": "mid",
         "SURF-STBL": "unstable",
         "CORE-STBL": "stable",
         "BP-STBL": "stable",
         "COMFORT": "10",
         "ADM-DECS": "A",
         "_deepnote_index_column": 66
        },
        {
         "L-CORE": "mid",
         "L-SURF": "mid",
         "L-02": "excellent",
         "L-BP": "high",
         "SURF-STBL": "stable",
         "CORE-STBL": "stable",
         "BP-STBL": "stable",
         "COMFORT": "10",
         "ADM-DECS": "A",
         "_deepnote_index_column": 67
        },
        {
         "L-CORE": "mid",
         "L-SURF": "mid",
         "L-02": "excellent",
         "L-BP": "low",
         "SURF-STBL": "stable",
         "CORE-STBL": "stable",
         "BP-STBL": "stable",
         "COMFORT": "10",
         "ADM-DECS": "A",
         "_deepnote_index_column": 68
        },
        {
         "L-CORE": "low",
         "L-SURF": "low",
         "L-02": "excellent",
         "L-BP": "mid",
         "SURF-STBL": "stable",
         "CORE-STBL": "stable",
         "BP-STBL": "stable",
         "COMFORT": "10",
         "ADM-DECS": "A",
         "_deepnote_index_column": 70
        },
        {
         "L-CORE": "mid",
         "L-SURF": "mid",
         "L-02": "excellent",
         "L-BP": "mid",
         "SURF-STBL": "stable",
         "CORE-STBL": "stable",
         "BP-STBL": "mod-stable",
         "COMFORT": "10",
         "ADM-DECS": "S",
         "_deepnote_index_column": 71
        },
        {
         "L-CORE": "mid",
         "L-SURF": "mid",
         "L-02": "excellent",
         "L-BP": "high",
         "SURF-STBL": "stable",
         "CORE-STBL": "stable",
         "BP-STBL": "stable",
         "COMFORT": "10",
         "ADM-DECS": "A",
         "_deepnote_index_column": 72
        },
        {
         "L-CORE": "mid",
         "L-SURF": "low",
         "L-02": "excellent",
         "L-BP": "high",
         "SURF-STBL": "stable",
         "CORE-STBL": "stable",
         "BP-STBL": "mod-stable",
         "COMFORT": "10",
         "ADM-DECS": "A",
         "_deepnote_index_column": 73
        },
        {
         "L-CORE": "low",
         "L-SURF": "mid",
         "L-02": "good",
         "L-BP": "mid",
         "SURF-STBL": "stable",
         "CORE-STBL": "stable",
         "BP-STBL": "unstable",
         "COMFORT": "10",
         "ADM-DECS": "A",
         "_deepnote_index_column": 74
        },
        {
         "L-CORE": "mid",
         "L-SURF": "mid",
         "L-02": "excellent",
         "L-BP": "mid",
         "SURF-STBL": "stable",
         "CORE-STBL": "stable",
         "BP-STBL": "mod-stable",
         "COMFORT": "10",
         "ADM-DECS": "A",
         "_deepnote_index_column": 75
        },
        {
         "L-CORE": "mid",
         "L-SURF": "mid",
         "L-02": "excellent",
         "L-BP": "mid",
         "SURF-STBL": "stable",
         "CORE-STBL": "stable",
         "BP-STBL": "unstable",
         "COMFORT": "10",
         "ADM-DECS": "A",
         "_deepnote_index_column": 76
        },
        {
         "L-CORE": "mid",
         "L-SURF": "mid",
         "L-02": "excellent",
         "L-BP": "mid",
         "SURF-STBL": "unstable",
         "CORE-STBL": "unstable",
         "BP-STBL": "stable",
         "COMFORT": "10",
         "ADM-DECS": "S",
         "_deepnote_index_column": 77
        },
        {
         "L-CORE": "mid",
         "L-SURF": "mid",
         "L-02": "good",
         "L-BP": "high",
         "SURF-STBL": "stable",
         "CORE-STBL": "stable",
         "BP-STBL": "stable",
         "COMFORT": "10",
         "ADM-DECS": "A",
         "_deepnote_index_column": 78
        },
        {
         "L-CORE": "mid",
         "L-SURF": "mid",
         "L-02": "excellent",
         "L-BP": "mid",
         "SURF-STBL": "stable",
         "CORE-STBL": "stable",
         "BP-STBL": "stable",
         "COMFORT": "15",
         "ADM-DECS": "A",
         "_deepnote_index_column": 79
        },
        {
         "L-CORE": "mid",
         "L-SURF": "mid",
         "L-02": "excellent",
         "L-BP": "mid",
         "SURF-STBL": "stable",
         "CORE-STBL": "stable",
         "BP-STBL": "stable",
         "COMFORT": "10",
         "ADM-DECS": "S",
         "_deepnote_index_column": 80
        },
        {
         "L-CORE": "mid",
         "L-SURF": "low",
         "L-02": "good",
         "L-BP": "mid",
         "SURF-STBL": "stable",
         "CORE-STBL": "stable",
         "BP-STBL": "unstable",
         "COMFORT": "10",
         "ADM-DECS": "I",
         "_deepnote_index_column": 81
        },
        {
         "L-CORE": "high",
         "L-SURF": "mid",
         "L-02": "excellent",
         "L-BP": "mid",
         "SURF-STBL": "unstable",
         "CORE-STBL": "stable",
         "BP-STBL": "unstable",
         "COMFORT": "05",
         "ADM-DECS": "A",
         "_deepnote_index_column": 82
        },
        {
         "L-CORE": "mid",
         "L-SURF": "mid",
         "L-02": "excellent",
         "L-BP": "mid",
         "SURF-STBL": "stable",
         "CORE-STBL": "stable",
         "BP-STBL": "unstable",
         "COMFORT": "10",
         "ADM-DECS": "A",
         "_deepnote_index_column": 83
        },
        {
         "L-CORE": "mid",
         "L-SURF": "mid",
         "L-02": "excellent",
         "L-BP": "mid",
         "SURF-STBL": "unstable",
         "CORE-STBL": "stable",
         "BP-STBL": "stable",
         "COMFORT": "10",
         "ADM-DECS": "A",
         "_deepnote_index_column": 84
        },
        {
         "L-CORE": "mid",
         "L-SURF": "mid",
         "L-02": "excellent",
         "L-BP": "mid",
         "SURF-STBL": "unstable",
         "CORE-STBL": "stable",
         "BP-STBL": "stable",
         "COMFORT": "15",
         "ADM-DECS": "S",
         "_deepnote_index_column": 85
        },
        {
         "L-CORE": "mid",
         "L-SURF": "mid",
         "L-02": "good",
         "L-BP": "mid",
         "SURF-STBL": "unstable",
         "CORE-STBL": "stable",
         "BP-STBL": "stable",
         "COMFORT": "15",
         "ADM-DECS": "A",
         "_deepnote_index_column": 86
        },
        {
         "L-CORE": "mid",
         "L-SURF": "mid",
         "L-02": "excellent",
         "L-BP": "mid",
         "SURF-STBL": "unstable",
         "CORE-STBL": "stable",
         "BP-STBL": "stable",
         "COMFORT": "10",
         "ADM-DECS": "A",
         "_deepnote_index_column": 87
        },
        {
         "L-CORE": "mid",
         "L-SURF": "mid",
         "L-02": "good",
         "L-BP": "mid",
         "SURF-STBL": "unstable",
         "CORE-STBL": "stable",
         "BP-STBL": "stable",
         "COMFORT": "15",
         "ADM-DECS": "S",
         "_deepnote_index_column": 88
        },
        {
         "L-CORE": "mid",
         "L-SURF": "low",
         "L-02": "excellent",
         "L-BP": "mid",
         "SURF-STBL": "stable",
         "CORE-STBL": "stable",
         "BP-STBL": "stable",
         "COMFORT": "15",
         "ADM-DECS": "A",
         "_deepnote_index_column": 89
        }
       ],
       "rows_bottom": null
      },
      "text/plain": "   L-CORE L-SURF       L-02  L-BP SURF-STBL CORE-STBL     BP-STBL COMFORT  \\\n0     mid   high  excellent  high    stable    stable      stable      10   \n1    high    low  excellent  high    stable    stable  mod-stable      10   \n2     mid    low       good  high    stable  unstable  mod-stable      15   \n3     mid    mid  excellent  high    stable    stable      stable      10   \n4    high    low       good   mid    stable    stable    unstable      15   \n..    ...    ...        ...   ...       ...       ...         ...     ...   \n85    mid    mid  excellent   mid  unstable    stable      stable      15   \n86    mid    mid       good   mid  unstable    stable      stable      15   \n87    mid    mid  excellent   mid  unstable    stable      stable      10   \n88    mid    mid       good   mid  unstable    stable      stable      15   \n89    mid    low  excellent   mid    stable    stable      stable      15   \n\n   ADM-DECS  \n0         S  \n1         A  \n2        A   \n3         A  \n4         S  \n..      ...  \n85        S  \n86        A  \n87        A  \n88        S  \n89        A  \n\n[87 rows x 9 columns]",
      "text/html": "<div>\n<style scoped>\n    .dataframe tbody tr th:only-of-type {\n        vertical-align: middle;\n    }\n\n    .dataframe tbody tr th {\n        vertical-align: top;\n    }\n\n    .dataframe thead th {\n        text-align: right;\n    }\n</style>\n<table border=\"1\" class=\"dataframe\">\n  <thead>\n    <tr style=\"text-align: right;\">\n      <th></th>\n      <th>L-CORE</th>\n      <th>L-SURF</th>\n      <th>L-02</th>\n      <th>L-BP</th>\n      <th>SURF-STBL</th>\n      <th>CORE-STBL</th>\n      <th>BP-STBL</th>\n      <th>COMFORT</th>\n      <th>ADM-DECS</th>\n    </tr>\n  </thead>\n  <tbody>\n    <tr>\n      <th>0</th>\n      <td>mid</td>\n      <td>high</td>\n      <td>excellent</td>\n      <td>high</td>\n      <td>stable</td>\n      <td>stable</td>\n      <td>stable</td>\n      <td>10</td>\n      <td>S</td>\n    </tr>\n    <tr>\n      <th>1</th>\n      <td>high</td>\n      <td>low</td>\n      <td>excellent</td>\n      <td>high</td>\n      <td>stable</td>\n      <td>stable</td>\n      <td>mod-stable</td>\n      <td>10</td>\n      <td>A</td>\n    </tr>\n    <tr>\n      <th>2</th>\n      <td>mid</td>\n      <td>low</td>\n      <td>good</td>\n      <td>high</td>\n      <td>stable</td>\n      <td>unstable</td>\n      <td>mod-stable</td>\n      <td>15</td>\n      <td>A</td>\n    </tr>\n    <tr>\n      <th>3</th>\n      <td>mid</td>\n      <td>mid</td>\n      <td>excellent</td>\n      <td>high</td>\n      <td>stable</td>\n      <td>stable</td>\n      <td>stable</td>\n      <td>10</td>\n      <td>A</td>\n    </tr>\n    <tr>\n      <th>4</th>\n      <td>high</td>\n      <td>low</td>\n      <td>good</td>\n      <td>mid</td>\n      <td>stable</td>\n      <td>stable</td>\n      <td>unstable</td>\n      <td>15</td>\n      <td>S</td>\n    </tr>\n    <tr>\n      <th>...</th>\n      <td>...</td>\n      <td>...</td>\n      <td>...</td>\n      <td>...</td>\n      <td>...</td>\n      <td>...</td>\n      <td>...</td>\n      <td>...</td>\n      <td>...</td>\n    </tr>\n    <tr>\n      <th>85</th>\n      <td>mid</td>\n      <td>mid</td>\n      <td>excellent</td>\n      <td>mid</td>\n      <td>unstable</td>\n      <td>stable</td>\n      <td>stable</td>\n      <td>15</td>\n      <td>S</td>\n    </tr>\n    <tr>\n      <th>86</th>\n      <td>mid</td>\n      <td>mid</td>\n      <td>good</td>\n      <td>mid</td>\n      <td>unstable</td>\n      <td>stable</td>\n      <td>stable</td>\n      <td>15</td>\n      <td>A</td>\n    </tr>\n    <tr>\n      <th>87</th>\n      <td>mid</td>\n      <td>mid</td>\n      <td>excellent</td>\n      <td>mid</td>\n      <td>unstable</td>\n      <td>stable</td>\n      <td>stable</td>\n      <td>10</td>\n      <td>A</td>\n    </tr>\n    <tr>\n      <th>88</th>\n      <td>mid</td>\n      <td>mid</td>\n      <td>good</td>\n      <td>mid</td>\n      <td>unstable</td>\n      <td>stable</td>\n      <td>stable</td>\n      <td>15</td>\n      <td>S</td>\n    </tr>\n    <tr>\n      <th>89</th>\n      <td>mid</td>\n      <td>low</td>\n      <td>excellent</td>\n      <td>mid</td>\n      <td>stable</td>\n      <td>stable</td>\n      <td>stable</td>\n      <td>15</td>\n      <td>A</td>\n    </tr>\n  </tbody>\n</table>\n<p>87 rows × 9 columns</p>\n</div>"
     },
     "metadata": {}
    }
   ],
   "execution_count": null
  },
  {
   "cell_type": "markdown",
   "source": "### Visualización de datos",
   "metadata": {
    "tags": [],
    "is_collapsed": false,
    "cell_id": "00006-fc20a06c-c25b-47b2-af93-bc36f6556382",
    "deepnote_cell_type": "text-cell-h3"
   }
  },
  {
   "cell_type": "code",
   "metadata": {
    "cell_id": "00004-37e173ce-5faf-4894-b280-6ee69d22fed0",
    "deepnote_output_heights": [
     59.5625
    ],
    "deepnote_to_be_reexecuted": false,
    "source_hash": "7695d5c1",
    "execution_start": 1639175610477,
    "execution_millis": 174,
    "deepnote_cell_type": "code"
   },
   "source": "post_oper.columns\npost_oper.info()\n",
   "outputs": [
    {
     "name": "stdout",
     "text": "<class 'pandas.core.frame.DataFrame'>\nInt64Index: 87 entries, 0 to 89\nData columns (total 9 columns):\n #   Column     Non-Null Count  Dtype \n---  ------     --------------  ----- \n 0   L-CORE     87 non-null     object\n 1   L-SURF     87 non-null     object\n 2   L-02       87 non-null     object\n 3   L-BP       87 non-null     object\n 4   SURF-STBL  87 non-null     object\n 5   CORE-STBL  87 non-null     object\n 6   BP-STBL    87 non-null     object\n 7   COMFORT    87 non-null     object\n 8   ADM-DECS   87 non-null     object\ndtypes: object(9)\nmemory usage: 6.8+ KB\n",
     "output_type": "stream"
    }
   ],
   "execution_count": null
  },
  {
   "cell_type": "code",
   "metadata": {
    "tags": [],
    "cell_id": "00011-9fc3aea7-273c-4c8e-8dd0-951cf39fc468",
    "deepnote_to_be_reexecuted": false,
    "source_hash": "ca7335c2",
    "execution_start": 1639175610555,
    "execution_millis": 100,
    "deepnote_output_heights": [
     21.1875
    ],
    "deepnote_cell_type": "code"
   },
   "source": "post_oper.shape",
   "outputs": [
    {
     "output_type": "execute_result",
     "execution_count": 6,
     "data": {
      "text/plain": "(87, 9)"
     },
     "metadata": {}
    }
   ],
   "execution_count": null
  },
  {
   "cell_type": "code",
   "metadata": {
    "tags": [],
    "cell_id": "00011-0e0c1d4a-48cb-4603-8130-46f34252f5ed",
    "deepnote_to_be_reexecuted": false,
    "source_hash": "23613c66",
    "execution_start": 1639175610601,
    "execution_millis": 229,
    "deepnote_cell_type": "code"
   },
   "source": "post_oper.describe().T",
   "outputs": [
    {
     "output_type": "execute_result",
     "execution_count": 7,
     "data": {
      "application/vnd.deepnote.dataframe.v2+json": {
       "row_count": 9,
       "column_count": 4,
       "columns": [
        {
         "name": "count",
         "dtype": "object",
         "stats": {
          "unique_count": 1,
          "nan_count": 0,
          "categories": [
           {
            "name": "87",
            "count": 9
           }
          ]
         }
        },
        {
         "name": "unique",
         "dtype": "object",
         "stats": {
          "unique_count": 3,
          "nan_count": 0,
          "categories": [
           {
            "name": "3",
            "count": 5
           },
           {
            "name": "2",
            "count": 2
           },
           {
            "name": "4",
            "count": 2
           }
          ]
         }
        },
        {
         "name": "top",
         "dtype": "object",
         "stats": {
          "unique_count": 5,
          "nan_count": 0,
          "categories": [
           {
            "name": "mid",
            "count": 3
           },
           {
            "name": "stable",
            "count": 3
           },
           {
            "name": "3 others",
            "count": 3
           }
          ]
         }
        },
        {
         "name": "freq",
         "dtype": "object",
         "stats": {
          "unique_count": 9,
          "nan_count": 0,
          "categories": [
           {
            "name": "57",
            "count": 1
           },
           {
            "name": "47",
            "count": 1
           },
           {
            "name": "7 others",
            "count": 7
           }
          ]
         }
        },
        {
         "name": "_deepnote_index_column",
         "dtype": "object"
        }
       ],
       "rows_top": [
        {
         "count": "87",
         "unique": "3",
         "top": "mid",
         "freq": "57",
         "_deepnote_index_column": "L-CORE"
        },
        {
         "count": "87",
         "unique": "3",
         "top": "mid",
         "freq": "47",
         "_deepnote_index_column": "L-SURF"
        },
        {
         "count": "87",
         "unique": "2",
         "top": "good",
         "freq": "46",
         "_deepnote_index_column": "L-02"
        },
        {
         "count": "87",
         "unique": "3",
         "top": "mid",
         "freq": "56",
         "_deepnote_index_column": "L-BP"
        },
        {
         "count": "87",
         "unique": "2",
         "top": "stable",
         "freq": "44",
         "_deepnote_index_column": "SURF-STBL"
        },
        {
         "count": "87",
         "unique": "3",
         "top": "stable",
         "freq": "81",
         "_deepnote_index_column": "CORE-STBL"
        },
        {
         "count": "87",
         "unique": "3",
         "top": "stable",
         "freq": "45",
         "_deepnote_index_column": "BP-STBL"
        },
        {
         "count": "87",
         "unique": "4",
         "top": "10",
         "freq": "65",
         "_deepnote_index_column": "COMFORT"
        },
        {
         "count": "87",
         "unique": "4",
         "top": "A",
         "freq": "61",
         "_deepnote_index_column": "ADM-DECS"
        }
       ],
       "rows_bottom": null
      },
      "text/plain": "          count unique     top freq\nL-CORE       87      3     mid   57\nL-SURF       87      3     mid   47\nL-02         87      2    good   46\nL-BP         87      3     mid   56\nSURF-STBL    87      2  stable   44\nCORE-STBL    87      3  stable   81\nBP-STBL      87      3  stable   45\nCOMFORT      87      4      10   65\nADM-DECS     87      4       A   61",
      "text/html": "<div>\n<style scoped>\n    .dataframe tbody tr th:only-of-type {\n        vertical-align: middle;\n    }\n\n    .dataframe tbody tr th {\n        vertical-align: top;\n    }\n\n    .dataframe thead th {\n        text-align: right;\n    }\n</style>\n<table border=\"1\" class=\"dataframe\">\n  <thead>\n    <tr style=\"text-align: right;\">\n      <th></th>\n      <th>count</th>\n      <th>unique</th>\n      <th>top</th>\n      <th>freq</th>\n    </tr>\n  </thead>\n  <tbody>\n    <tr>\n      <th>L-CORE</th>\n      <td>87</td>\n      <td>3</td>\n      <td>mid</td>\n      <td>57</td>\n    </tr>\n    <tr>\n      <th>L-SURF</th>\n      <td>87</td>\n      <td>3</td>\n      <td>mid</td>\n      <td>47</td>\n    </tr>\n    <tr>\n      <th>L-02</th>\n      <td>87</td>\n      <td>2</td>\n      <td>good</td>\n      <td>46</td>\n    </tr>\n    <tr>\n      <th>L-BP</th>\n      <td>87</td>\n      <td>3</td>\n      <td>mid</td>\n      <td>56</td>\n    </tr>\n    <tr>\n      <th>SURF-STBL</th>\n      <td>87</td>\n      <td>2</td>\n      <td>stable</td>\n      <td>44</td>\n    </tr>\n    <tr>\n      <th>CORE-STBL</th>\n      <td>87</td>\n      <td>3</td>\n      <td>stable</td>\n      <td>81</td>\n    </tr>\n    <tr>\n      <th>BP-STBL</th>\n      <td>87</td>\n      <td>3</td>\n      <td>stable</td>\n      <td>45</td>\n    </tr>\n    <tr>\n      <th>COMFORT</th>\n      <td>87</td>\n      <td>4</td>\n      <td>10</td>\n      <td>65</td>\n    </tr>\n    <tr>\n      <th>ADM-DECS</th>\n      <td>87</td>\n      <td>4</td>\n      <td>A</td>\n      <td>61</td>\n    </tr>\n  </tbody>\n</table>\n</div>"
     },
     "metadata": {}
    }
   ],
   "execution_count": null
  },
  {
   "cell_type": "code",
   "metadata": {
    "cell_id": "00006-5e41b733-a322-44b9-b6c2-1b630528b08f",
    "deepnote_output_heights": [
     382.1875
    ],
    "deepnote_to_be_reexecuted": false,
    "source_hash": "557ba826",
    "execution_start": 1639175610806,
    "execution_millis": 265,
    "deepnote_cell_type": "code"
   },
   "source": "#Para poder aplicar los distintos métodos primero transformamos la variables a numéricas.\npost_oper['L-CORE']= post_oper['L-CORE'].replace(['low','mid','high'],[0,1,2])\npost_oper['L-SURF']= post_oper['L-SURF'].replace(['low','mid','high'],[0,1,2])\npost_oper['L-02']= post_oper['L-02'].replace(['good','excellent'],[0,1])\npost_oper['L-BP']= post_oper['L-BP'].replace(['low','mid','high'],[0,1,2])\npost_oper['SURF-STBL']= post_oper['SURF-STBL'].replace(['stable','unstable'],[0,1])\npost_oper['CORE-STBL']= post_oper['CORE-STBL'].replace(['stable','mod-stable','unstable'],[0,1,2])\npost_oper['COMFORT']= post_oper['COMFORT'].replace(['10','15','05','07'],[10,15,5,7])\npost_oper['ADM-DECS']= post_oper['ADM-DECS'].replace(['A','A ','S','I'],[0,0,1,2])\npost_oper['BP-STBL']= post_oper['BP-STBL'].replace(['stable','mod-stable','unstable'],[0,1,2])\npost_oper\n",
   "outputs": [
    {
     "output_type": "execute_result",
     "execution_count": 8,
     "data": {
      "application/vnd.deepnote.dataframe.v2+json": {
       "row_count": 87,
       "column_count": 9,
       "columns": [
        {
         "name": "L-CORE",
         "dtype": "int64",
         "stats": {
          "unique_count": 3,
          "nan_count": 0,
          "min": "0",
          "max": "2",
          "histogram": [
           {
            "bin_start": 0,
            "bin_end": 0.2,
            "count": 18
           },
           {
            "bin_start": 0.2,
            "bin_end": 0.4,
            "count": 0
           },
           {
            "bin_start": 0.4,
            "bin_end": 0.6000000000000001,
            "count": 0
           },
           {
            "bin_start": 0.6000000000000001,
            "bin_end": 0.8,
            "count": 0
           },
           {
            "bin_start": 0.8,
            "bin_end": 1,
            "count": 0
           },
           {
            "bin_start": 1,
            "bin_end": 1.2000000000000002,
            "count": 57
           },
           {
            "bin_start": 1.2000000000000002,
            "bin_end": 1.4000000000000001,
            "count": 0
           },
           {
            "bin_start": 1.4000000000000001,
            "bin_end": 1.6,
            "count": 0
           },
           {
            "bin_start": 1.6,
            "bin_end": 1.8,
            "count": 0
           },
           {
            "bin_start": 1.8,
            "bin_end": 2,
            "count": 12
           }
          ]
         }
        },
        {
         "name": "L-SURF",
         "dtype": "int64",
         "stats": {
          "unique_count": 3,
          "nan_count": 0,
          "min": "0",
          "max": "2",
          "histogram": [
           {
            "bin_start": 0,
            "bin_end": 0.2,
            "count": 24
           },
           {
            "bin_start": 0.2,
            "bin_end": 0.4,
            "count": 0
           },
           {
            "bin_start": 0.4,
            "bin_end": 0.6000000000000001,
            "count": 0
           },
           {
            "bin_start": 0.6000000000000001,
            "bin_end": 0.8,
            "count": 0
           },
           {
            "bin_start": 0.8,
            "bin_end": 1,
            "count": 0
           },
           {
            "bin_start": 1,
            "bin_end": 1.2000000000000002,
            "count": 47
           },
           {
            "bin_start": 1.2000000000000002,
            "bin_end": 1.4000000000000001,
            "count": 0
           },
           {
            "bin_start": 1.4000000000000001,
            "bin_end": 1.6,
            "count": 0
           },
           {
            "bin_start": 1.6,
            "bin_end": 1.8,
            "count": 0
           },
           {
            "bin_start": 1.8,
            "bin_end": 2,
            "count": 16
           }
          ]
         }
        },
        {
         "name": "L-02",
         "dtype": "int64",
         "stats": {
          "unique_count": 2,
          "nan_count": 0,
          "min": "0",
          "max": "1",
          "histogram": [
           {
            "bin_start": 0,
            "bin_end": 0.1,
            "count": 46
           },
           {
            "bin_start": 0.1,
            "bin_end": 0.2,
            "count": 0
           },
           {
            "bin_start": 0.2,
            "bin_end": 0.30000000000000004,
            "count": 0
           },
           {
            "bin_start": 0.30000000000000004,
            "bin_end": 0.4,
            "count": 0
           },
           {
            "bin_start": 0.4,
            "bin_end": 0.5,
            "count": 0
           },
           {
            "bin_start": 0.5,
            "bin_end": 0.6000000000000001,
            "count": 0
           },
           {
            "bin_start": 0.6000000000000001,
            "bin_end": 0.7000000000000001,
            "count": 0
           },
           {
            "bin_start": 0.7000000000000001,
            "bin_end": 0.8,
            "count": 0
           },
           {
            "bin_start": 0.8,
            "bin_end": 0.9,
            "count": 0
           },
           {
            "bin_start": 0.9,
            "bin_end": 1,
            "count": 41
           }
          ]
         }
        },
        {
         "name": "L-BP",
         "dtype": "int64",
         "stats": {
          "unique_count": 3,
          "nan_count": 0,
          "min": "0",
          "max": "2",
          "histogram": [
           {
            "bin_start": 0,
            "bin_end": 0.2,
            "count": 3
           },
           {
            "bin_start": 0.2,
            "bin_end": 0.4,
            "count": 0
           },
           {
            "bin_start": 0.4,
            "bin_end": 0.6000000000000001,
            "count": 0
           },
           {
            "bin_start": 0.6000000000000001,
            "bin_end": 0.8,
            "count": 0
           },
           {
            "bin_start": 0.8,
            "bin_end": 1,
            "count": 0
           },
           {
            "bin_start": 1,
            "bin_end": 1.2000000000000002,
            "count": 56
           },
           {
            "bin_start": 1.2000000000000002,
            "bin_end": 1.4000000000000001,
            "count": 0
           },
           {
            "bin_start": 1.4000000000000001,
            "bin_end": 1.6,
            "count": 0
           },
           {
            "bin_start": 1.6,
            "bin_end": 1.8,
            "count": 0
           },
           {
            "bin_start": 1.8,
            "bin_end": 2,
            "count": 28
           }
          ]
         }
        },
        {
         "name": "SURF-STBL",
         "dtype": "int64",
         "stats": {
          "unique_count": 2,
          "nan_count": 0,
          "min": "0",
          "max": "1",
          "histogram": [
           {
            "bin_start": 0,
            "bin_end": 0.1,
            "count": 44
           },
           {
            "bin_start": 0.1,
            "bin_end": 0.2,
            "count": 0
           },
           {
            "bin_start": 0.2,
            "bin_end": 0.30000000000000004,
            "count": 0
           },
           {
            "bin_start": 0.30000000000000004,
            "bin_end": 0.4,
            "count": 0
           },
           {
            "bin_start": 0.4,
            "bin_end": 0.5,
            "count": 0
           },
           {
            "bin_start": 0.5,
            "bin_end": 0.6000000000000001,
            "count": 0
           },
           {
            "bin_start": 0.6000000000000001,
            "bin_end": 0.7000000000000001,
            "count": 0
           },
           {
            "bin_start": 0.7000000000000001,
            "bin_end": 0.8,
            "count": 0
           },
           {
            "bin_start": 0.8,
            "bin_end": 0.9,
            "count": 0
           },
           {
            "bin_start": 0.9,
            "bin_end": 1,
            "count": 43
           }
          ]
         }
        },
        {
         "name": "CORE-STBL",
         "dtype": "int64",
         "stats": {
          "unique_count": 3,
          "nan_count": 0,
          "min": "0",
          "max": "2",
          "histogram": [
           {
            "bin_start": 0,
            "bin_end": 0.2,
            "count": 81
           },
           {
            "bin_start": 0.2,
            "bin_end": 0.4,
            "count": 0
           },
           {
            "bin_start": 0.4,
            "bin_end": 0.6000000000000001,
            "count": 0
           },
           {
            "bin_start": 0.6000000000000001,
            "bin_end": 0.8,
            "count": 0
           },
           {
            "bin_start": 0.8,
            "bin_end": 1,
            "count": 0
           },
           {
            "bin_start": 1,
            "bin_end": 1.2000000000000002,
            "count": 1
           },
           {
            "bin_start": 1.2000000000000002,
            "bin_end": 1.4000000000000001,
            "count": 0
           },
           {
            "bin_start": 1.4000000000000001,
            "bin_end": 1.6,
            "count": 0
           },
           {
            "bin_start": 1.6,
            "bin_end": 1.8,
            "count": 0
           },
           {
            "bin_start": 1.8,
            "bin_end": 2,
            "count": 5
           }
          ]
         }
        },
        {
         "name": "BP-STBL",
         "dtype": "int64",
         "stats": {
          "unique_count": 3,
          "nan_count": 0,
          "min": "0",
          "max": "2",
          "histogram": [
           {
            "bin_start": 0,
            "bin_end": 0.2,
            "count": 45
           },
           {
            "bin_start": 0.2,
            "bin_end": 0.4,
            "count": 0
           },
           {
            "bin_start": 0.4,
            "bin_end": 0.6000000000000001,
            "count": 0
           },
           {
            "bin_start": 0.6000000000000001,
            "bin_end": 0.8,
            "count": 0
           },
           {
            "bin_start": 0.8,
            "bin_end": 1,
            "count": 0
           },
           {
            "bin_start": 1,
            "bin_end": 1.2000000000000002,
            "count": 21
           },
           {
            "bin_start": 1.2000000000000002,
            "bin_end": 1.4000000000000001,
            "count": 0
           },
           {
            "bin_start": 1.4000000000000001,
            "bin_end": 1.6,
            "count": 0
           },
           {
            "bin_start": 1.6,
            "bin_end": 1.8,
            "count": 0
           },
           {
            "bin_start": 1.8,
            "bin_end": 2,
            "count": 21
           }
          ]
         }
        },
        {
         "name": "COMFORT",
         "dtype": "int64",
         "stats": {
          "unique_count": 4,
          "nan_count": 0,
          "min": "5",
          "max": "15",
          "histogram": [
           {
            "bin_start": 5,
            "bin_end": 6,
            "count": 2
           },
           {
            "bin_start": 6,
            "bin_end": 7,
            "count": 0
           },
           {
            "bin_start": 7,
            "bin_end": 8,
            "count": 1
           },
           {
            "bin_start": 8,
            "bin_end": 9,
            "count": 0
           },
           {
            "bin_start": 9,
            "bin_end": 10,
            "count": 0
           },
           {
            "bin_start": 10,
            "bin_end": 11,
            "count": 65
           },
           {
            "bin_start": 11,
            "bin_end": 12,
            "count": 0
           },
           {
            "bin_start": 12,
            "bin_end": 13,
            "count": 0
           },
           {
            "bin_start": 13,
            "bin_end": 14,
            "count": 0
           },
           {
            "bin_start": 14,
            "bin_end": 15,
            "count": 19
           }
          ]
         }
        },
        {
         "name": "ADM-DECS",
         "dtype": "int64",
         "stats": {
          "unique_count": 3,
          "nan_count": 0,
          "min": "0",
          "max": "2",
          "histogram": [
           {
            "bin_start": 0,
            "bin_end": 0.2,
            "count": 62
           },
           {
            "bin_start": 0.2,
            "bin_end": 0.4,
            "count": 0
           },
           {
            "bin_start": 0.4,
            "bin_end": 0.6000000000000001,
            "count": 0
           },
           {
            "bin_start": 0.6000000000000001,
            "bin_end": 0.8,
            "count": 0
           },
           {
            "bin_start": 0.8,
            "bin_end": 1,
            "count": 0
           },
           {
            "bin_start": 1,
            "bin_end": 1.2000000000000002,
            "count": 24
           },
           {
            "bin_start": 1.2000000000000002,
            "bin_end": 1.4000000000000001,
            "count": 0
           },
           {
            "bin_start": 1.4000000000000001,
            "bin_end": 1.6,
            "count": 0
           },
           {
            "bin_start": 1.6,
            "bin_end": 1.8,
            "count": 0
           },
           {
            "bin_start": 1.8,
            "bin_end": 2,
            "count": 1
           }
          ]
         }
        },
        {
         "name": "_deepnote_index_column",
         "dtype": "int64"
        }
       ],
       "rows_top": [
        {
         "L-CORE": 1,
         "L-SURF": 2,
         "L-02": 1,
         "L-BP": 2,
         "SURF-STBL": 0,
         "CORE-STBL": 0,
         "BP-STBL": 0,
         "COMFORT": 10,
         "ADM-DECS": 1,
         "_deepnote_index_column": 0
        },
        {
         "L-CORE": 2,
         "L-SURF": 0,
         "L-02": 1,
         "L-BP": 2,
         "SURF-STBL": 0,
         "CORE-STBL": 0,
         "BP-STBL": 1,
         "COMFORT": 10,
         "ADM-DECS": 0,
         "_deepnote_index_column": 1
        },
        {
         "L-CORE": 1,
         "L-SURF": 0,
         "L-02": 0,
         "L-BP": 2,
         "SURF-STBL": 0,
         "CORE-STBL": 2,
         "BP-STBL": 1,
         "COMFORT": 15,
         "ADM-DECS": 0,
         "_deepnote_index_column": 2
        },
        {
         "L-CORE": 1,
         "L-SURF": 1,
         "L-02": 1,
         "L-BP": 2,
         "SURF-STBL": 0,
         "CORE-STBL": 0,
         "BP-STBL": 0,
         "COMFORT": 10,
         "ADM-DECS": 0,
         "_deepnote_index_column": 3
        },
        {
         "L-CORE": 2,
         "L-SURF": 0,
         "L-02": 0,
         "L-BP": 1,
         "SURF-STBL": 0,
         "CORE-STBL": 0,
         "BP-STBL": 2,
         "COMFORT": 15,
         "ADM-DECS": 1,
         "_deepnote_index_column": 4
        },
        {
         "L-CORE": 1,
         "L-SURF": 0,
         "L-02": 1,
         "L-BP": 2,
         "SURF-STBL": 0,
         "CORE-STBL": 0,
         "BP-STBL": 1,
         "COMFORT": 5,
         "ADM-DECS": 1,
         "_deepnote_index_column": 5
        },
        {
         "L-CORE": 2,
         "L-SURF": 1,
         "L-02": 1,
         "L-BP": 1,
         "SURF-STBL": 1,
         "CORE-STBL": 2,
         "BP-STBL": 0,
         "COMFORT": 10,
         "ADM-DECS": 1,
         "_deepnote_index_column": 6
        },
        {
         "L-CORE": 1,
         "L-SURF": 2,
         "L-02": 0,
         "L-BP": 1,
         "SURF-STBL": 0,
         "CORE-STBL": 0,
         "BP-STBL": 0,
         "COMFORT": 10,
         "ADM-DECS": 1,
         "_deepnote_index_column": 7
        },
        {
         "L-CORE": 1,
         "L-SURF": 0,
         "L-02": 1,
         "L-BP": 1,
         "SURF-STBL": 1,
         "CORE-STBL": 0,
         "BP-STBL": 1,
         "COMFORT": 10,
         "ADM-DECS": 1,
         "_deepnote_index_column": 8
        },
        {
         "L-CORE": 1,
         "L-SURF": 1,
         "L-02": 0,
         "L-BP": 1,
         "SURF-STBL": 0,
         "CORE-STBL": 0,
         "BP-STBL": 0,
         "COMFORT": 15,
         "ADM-DECS": 0,
         "_deepnote_index_column": 9
        },
        {
         "L-CORE": 1,
         "L-SURF": 0,
         "L-02": 0,
         "L-BP": 2,
         "SURF-STBL": 0,
         "CORE-STBL": 0,
         "BP-STBL": 1,
         "COMFORT": 10,
         "ADM-DECS": 0,
         "_deepnote_index_column": 10
        },
        {
         "L-CORE": 2,
         "L-SURF": 2,
         "L-02": 1,
         "L-BP": 2,
         "SURF-STBL": 1,
         "CORE-STBL": 0,
         "BP-STBL": 2,
         "COMFORT": 15,
         "ADM-DECS": 0,
         "_deepnote_index_column": 11
        },
        {
         "L-CORE": 1,
         "L-SURF": 2,
         "L-02": 0,
         "L-BP": 1,
         "SURF-STBL": 1,
         "CORE-STBL": 0,
         "BP-STBL": 1,
         "COMFORT": 10,
         "ADM-DECS": 0,
         "_deepnote_index_column": 12
        },
        {
         "L-CORE": 1,
         "L-SURF": 0,
         "L-02": 0,
         "L-BP": 2,
         "SURF-STBL": 1,
         "CORE-STBL": 2,
         "BP-STBL": 0,
         "COMFORT": 15,
         "ADM-DECS": 1,
         "_deepnote_index_column": 13
        },
        {
         "L-CORE": 2,
         "L-SURF": 2,
         "L-02": 1,
         "L-BP": 2,
         "SURF-STBL": 1,
         "CORE-STBL": 0,
         "BP-STBL": 2,
         "COMFORT": 10,
         "ADM-DECS": 0,
         "_deepnote_index_column": 14
        },
        {
         "L-CORE": 0,
         "L-SURF": 2,
         "L-02": 0,
         "L-BP": 2,
         "SURF-STBL": 1,
         "CORE-STBL": 0,
         "BP-STBL": 1,
         "COMFORT": 15,
         "ADM-DECS": 0,
         "_deepnote_index_column": 15
        },
        {
         "L-CORE": 1,
         "L-SURF": 0,
         "L-02": 0,
         "L-BP": 2,
         "SURF-STBL": 1,
         "CORE-STBL": 0,
         "BP-STBL": 0,
         "COMFORT": 10,
         "ADM-DECS": 0,
         "_deepnote_index_column": 16
        },
        {
         "L-CORE": 1,
         "L-SURF": 2,
         "L-02": 0,
         "L-BP": 1,
         "SURF-STBL": 1,
         "CORE-STBL": 0,
         "BP-STBL": 2,
         "COMFORT": 15,
         "ADM-DECS": 0,
         "_deepnote_index_column": 17
        },
        {
         "L-CORE": 1,
         "L-SURF": 1,
         "L-02": 0,
         "L-BP": 1,
         "SURF-STBL": 0,
         "CORE-STBL": 0,
         "BP-STBL": 0,
         "COMFORT": 10,
         "ADM-DECS": 0,
         "_deepnote_index_column": 18
        },
        {
         "L-CORE": 0,
         "L-SURF": 2,
         "L-02": 0,
         "L-BP": 1,
         "SURF-STBL": 1,
         "CORE-STBL": 0,
         "BP-STBL": 0,
         "COMFORT": 15,
         "ADM-DECS": 0,
         "_deepnote_index_column": 19
        },
        {
         "L-CORE": 0,
         "L-SURF": 1,
         "L-02": 1,
         "L-BP": 2,
         "SURF-STBL": 1,
         "CORE-STBL": 0,
         "BP-STBL": 2,
         "COMFORT": 10,
         "ADM-DECS": 1,
         "_deepnote_index_column": 20
        },
        {
         "L-CORE": 1,
         "L-SURF": 1,
         "L-02": 0,
         "L-BP": 1,
         "SURF-STBL": 1,
         "CORE-STBL": 0,
         "BP-STBL": 2,
         "COMFORT": 15,
         "ADM-DECS": 0,
         "_deepnote_index_column": 21
        },
        {
         "L-CORE": 1,
         "L-SURF": 1,
         "L-02": 0,
         "L-BP": 1,
         "SURF-STBL": 1,
         "CORE-STBL": 0,
         "BP-STBL": 0,
         "COMFORT": 10,
         "ADM-DECS": 0,
         "_deepnote_index_column": 22
        },
        {
         "L-CORE": 2,
         "L-SURF": 2,
         "L-02": 0,
         "L-BP": 1,
         "SURF-STBL": 0,
         "CORE-STBL": 0,
         "BP-STBL": 1,
         "COMFORT": 10,
         "ADM-DECS": 0,
         "_deepnote_index_column": 23
        },
        {
         "L-CORE": 0,
         "L-SURF": 1,
         "L-02": 0,
         "L-BP": 1,
         "SURF-STBL": 1,
         "CORE-STBL": 0,
         "BP-STBL": 0,
         "COMFORT": 10,
         "ADM-DECS": 0,
         "_deepnote_index_column": 24
        },
        {
         "L-CORE": 2,
         "L-SURF": 1,
         "L-02": 0,
         "L-BP": 0,
         "SURF-STBL": 0,
         "CORE-STBL": 0,
         "BP-STBL": 1,
         "COMFORT": 10,
         "ADM-DECS": 0,
         "_deepnote_index_column": 25
        },
        {
         "L-CORE": 0,
         "L-SURF": 1,
         "L-02": 1,
         "L-BP": 2,
         "SURF-STBL": 0,
         "CORE-STBL": 0,
         "BP-STBL": 1,
         "COMFORT": 10,
         "ADM-DECS": 0,
         "_deepnote_index_column": 26
        },
        {
         "L-CORE": 1,
         "L-SURF": 1,
         "L-02": 1,
         "L-BP": 1,
         "SURF-STBL": 0,
         "CORE-STBL": 0,
         "BP-STBL": 2,
         "COMFORT": 15,
         "ADM-DECS": 0,
         "_deepnote_index_column": 27
        },
        {
         "L-CORE": 1,
         "L-SURF": 1,
         "L-02": 0,
         "L-BP": 1,
         "SURF-STBL": 1,
         "CORE-STBL": 0,
         "BP-STBL": 2,
         "COMFORT": 10,
         "ADM-DECS": 1,
         "_deepnote_index_column": 28
        },
        {
         "L-CORE": 1,
         "L-SURF": 1,
         "L-02": 0,
         "L-BP": 2,
         "SURF-STBL": 1,
         "CORE-STBL": 0,
         "BP-STBL": 0,
         "COMFORT": 10,
         "ADM-DECS": 0,
         "_deepnote_index_column": 29
        },
        {
         "L-CORE": 0,
         "L-SURF": 0,
         "L-02": 0,
         "L-BP": 1,
         "SURF-STBL": 1,
         "CORE-STBL": 0,
         "BP-STBL": 2,
         "COMFORT": 10,
         "ADM-DECS": 0,
         "_deepnote_index_column": 30
        },
        {
         "L-CORE": 1,
         "L-SURF": 1,
         "L-02": 1,
         "L-BP": 2,
         "SURF-STBL": 1,
         "CORE-STBL": 0,
         "BP-STBL": 1,
         "COMFORT": 10,
         "ADM-DECS": 0,
         "_deepnote_index_column": 31
        },
        {
         "L-CORE": 1,
         "L-SURF": 0,
         "L-02": 0,
         "L-BP": 1,
         "SURF-STBL": 0,
         "CORE-STBL": 0,
         "BP-STBL": 0,
         "COMFORT": 10,
         "ADM-DECS": 0,
         "_deepnote_index_column": 32
        },
        {
         "L-CORE": 0,
         "L-SURF": 1,
         "L-02": 1,
         "L-BP": 2,
         "SURF-STBL": 0,
         "CORE-STBL": 0,
         "BP-STBL": 1,
         "COMFORT": 10,
         "ADM-DECS": 0,
         "_deepnote_index_column": 33
        },
        {
         "L-CORE": 1,
         "L-SURF": 1,
         "L-02": 0,
         "L-BP": 1,
         "SURF-STBL": 0,
         "CORE-STBL": 0,
         "BP-STBL": 0,
         "COMFORT": 10,
         "ADM-DECS": 0,
         "_deepnote_index_column": 34
        },
        {
         "L-CORE": 0,
         "L-SURF": 1,
         "L-02": 1,
         "L-BP": 1,
         "SURF-STBL": 0,
         "CORE-STBL": 0,
         "BP-STBL": 0,
         "COMFORT": 10,
         "ADM-DECS": 1,
         "_deepnote_index_column": 35
        },
        {
         "L-CORE": 0,
         "L-SURF": 0,
         "L-02": 0,
         "L-BP": 1,
         "SURF-STBL": 1,
         "CORE-STBL": 0,
         "BP-STBL": 2,
         "COMFORT": 10,
         "ADM-DECS": 1,
         "_deepnote_index_column": 36
        },
        {
         "L-CORE": 0,
         "L-SURF": 0,
         "L-02": 0,
         "L-BP": 1,
         "SURF-STBL": 0,
         "CORE-STBL": 0,
         "BP-STBL": 0,
         "COMFORT": 7,
         "ADM-DECS": 1,
         "_deepnote_index_column": 37
        },
        {
         "L-CORE": 1,
         "L-SURF": 1,
         "L-02": 0,
         "L-BP": 2,
         "SURF-STBL": 1,
         "CORE-STBL": 0,
         "BP-STBL": 1,
         "COMFORT": 10,
         "ADM-DECS": 0,
         "_deepnote_index_column": 38
        },
        {
         "L-CORE": 0,
         "L-SURF": 0,
         "L-02": 0,
         "L-BP": 1,
         "SURF-STBL": 1,
         "CORE-STBL": 0,
         "BP-STBL": 0,
         "COMFORT": 10,
         "ADM-DECS": 0,
         "_deepnote_index_column": 39
        },
        {
         "L-CORE": 0,
         "L-SURF": 1,
         "L-02": 0,
         "L-BP": 1,
         "SURF-STBL": 0,
         "CORE-STBL": 0,
         "BP-STBL": 0,
         "COMFORT": 15,
         "ADM-DECS": 1,
         "_deepnote_index_column": 40
        },
        {
         "L-CORE": 2,
         "L-SURF": 2,
         "L-02": 0,
         "L-BP": 2,
         "SURF-STBL": 1,
         "CORE-STBL": 0,
         "BP-STBL": 0,
         "COMFORT": 15,
         "ADM-DECS": 1,
         "_deepnote_index_column": 41
        },
        {
         "L-CORE": 1,
         "L-SURF": 1,
         "L-02": 0,
         "L-BP": 1,
         "SURF-STBL": 0,
         "CORE-STBL": 0,
         "BP-STBL": 0,
         "COMFORT": 10,
         "ADM-DECS": 1,
         "_deepnote_index_column": 42
        },
        {
         "L-CORE": 0,
         "L-SURF": 0,
         "L-02": 1,
         "L-BP": 1,
         "SURF-STBL": 0,
         "CORE-STBL": 0,
         "BP-STBL": 0,
         "COMFORT": 10,
         "ADM-DECS": 0,
         "_deepnote_index_column": 43
        },
        {
         "L-CORE": 0,
         "L-SURF": 1,
         "L-02": 0,
         "L-BP": 1,
         "SURF-STBL": 1,
         "CORE-STBL": 0,
         "BP-STBL": 0,
         "COMFORT": 10,
         "ADM-DECS": 1,
         "_deepnote_index_column": 44
        },
        {
         "L-CORE": 1,
         "L-SURF": 1,
         "L-02": 1,
         "L-BP": 1,
         "SURF-STBL": 1,
         "CORE-STBL": 0,
         "BP-STBL": 0,
         "COMFORT": 10,
         "ADM-DECS": 0,
         "_deepnote_index_column": 46
        },
        {
         "L-CORE": 1,
         "L-SURF": 2,
         "L-02": 0,
         "L-BP": 0,
         "SURF-STBL": 1,
         "CORE-STBL": 0,
         "BP-STBL": 0,
         "COMFORT": 10,
         "ADM-DECS": 0,
         "_deepnote_index_column": 48
        },
        {
         "L-CORE": 1,
         "L-SURF": 2,
         "L-02": 0,
         "L-BP": 1,
         "SURF-STBL": 1,
         "CORE-STBL": 1,
         "BP-STBL": 1,
         "COMFORT": 10,
         "ADM-DECS": 0,
         "_deepnote_index_column": 49
        },
        {
         "L-CORE": 0,
         "L-SURF": 2,
         "L-02": 1,
         "L-BP": 1,
         "SURF-STBL": 1,
         "CORE-STBL": 0,
         "BP-STBL": 0,
         "COMFORT": 10,
         "ADM-DECS": 0,
         "_deepnote_index_column": 50
        },
        {
         "L-CORE": 1,
         "L-SURF": 0,
         "L-02": 1,
         "L-BP": 2,
         "SURF-STBL": 1,
         "CORE-STBL": 0,
         "BP-STBL": 2,
         "COMFORT": 10,
         "ADM-DECS": 0,
         "_deepnote_index_column": 51
        },
        {
         "L-CORE": 1,
         "L-SURF": 1,
         "L-02": 0,
         "L-BP": 1,
         "SURF-STBL": 1,
         "CORE-STBL": 0,
         "BP-STBL": 1,
         "COMFORT": 10,
         "ADM-DECS": 1,
         "_deepnote_index_column": 52
        },
        {
         "L-CORE": 2,
         "L-SURF": 2,
         "L-02": 1,
         "L-BP": 1,
         "SURF-STBL": 1,
         "CORE-STBL": 0,
         "BP-STBL": 1,
         "COMFORT": 10,
         "ADM-DECS": 0,
         "_deepnote_index_column": 53
        },
        {
         "L-CORE": 1,
         "L-SURF": 1,
         "L-02": 0,
         "L-BP": 1,
         "SURF-STBL": 1,
         "CORE-STBL": 0,
         "BP-STBL": 0,
         "COMFORT": 15,
         "ADM-DECS": 0,
         "_deepnote_index_column": 54
        },
        {
         "L-CORE": 2,
         "L-SURF": 1,
         "L-02": 0,
         "L-BP": 2,
         "SURF-STBL": 0,
         "CORE-STBL": 0,
         "BP-STBL": 2,
         "COMFORT": 15,
         "ADM-DECS": 0,
         "_deepnote_index_column": 55
        },
        {
         "L-CORE": 1,
         "L-SURF": 0,
         "L-02": 0,
         "L-BP": 2,
         "SURF-STBL": 1,
         "CORE-STBL": 0,
         "BP-STBL": 1,
         "COMFORT": 10,
         "ADM-DECS": 0,
         "_deepnote_index_column": 56
        },
        {
         "L-CORE": 0,
         "L-SURF": 0,
         "L-02": 0,
         "L-BP": 2,
         "SURF-STBL": 0,
         "CORE-STBL": 0,
         "BP-STBL": 0,
         "COMFORT": 10,
         "ADM-DECS": 0,
         "_deepnote_index_column": 57
        },
        {
         "L-CORE": 1,
         "L-SURF": 2,
         "L-02": 0,
         "L-BP": 1,
         "SURF-STBL": 0,
         "CORE-STBL": 0,
         "BP-STBL": 1,
         "COMFORT": 10,
         "ADM-DECS": 0,
         "_deepnote_index_column": 58
        },
        {
         "L-CORE": 1,
         "L-SURF": 2,
         "L-02": 0,
         "L-BP": 1,
         "SURF-STBL": 1,
         "CORE-STBL": 0,
         "BP-STBL": 2,
         "COMFORT": 10,
         "ADM-DECS": 0,
         "_deepnote_index_column": 59
        },
        {
         "L-CORE": 1,
         "L-SURF": 0,
         "L-02": 1,
         "L-BP": 2,
         "SURF-STBL": 0,
         "CORE-STBL": 0,
         "BP-STBL": 0,
         "COMFORT": 10,
         "ADM-DECS": 0,
         "_deepnote_index_column": 60
        },
        {
         "L-CORE": 1,
         "L-SURF": 1,
         "L-02": 0,
         "L-BP": 1,
         "SURF-STBL": 0,
         "CORE-STBL": 0,
         "BP-STBL": 2,
         "COMFORT": 10,
         "ADM-DECS": 0,
         "_deepnote_index_column": 61
        },
        {
         "L-CORE": 1,
         "L-SURF": 0,
         "L-02": 1,
         "L-BP": 1,
         "SURF-STBL": 0,
         "CORE-STBL": 0,
         "BP-STBL": 2,
         "COMFORT": 10,
         "ADM-DECS": 1,
         "_deepnote_index_column": 62
        },
        {
         "L-CORE": 2,
         "L-SURF": 1,
         "L-02": 1,
         "L-BP": 1,
         "SURF-STBL": 1,
         "CORE-STBL": 2,
         "BP-STBL": 2,
         "COMFORT": 10,
         "ADM-DECS": 0,
         "_deepnote_index_column": 63
        },
        {
         "L-CORE": 1,
         "L-SURF": 1,
         "L-02": 0,
         "L-BP": 2,
         "SURF-STBL": 0,
         "CORE-STBL": 0,
         "BP-STBL": 0,
         "COMFORT": 10,
         "ADM-DECS": 1,
         "_deepnote_index_column": 64
        },
        {
         "L-CORE": 1,
         "L-SURF": 0,
         "L-02": 1,
         "L-BP": 1,
         "SURF-STBL": 1,
         "CORE-STBL": 0,
         "BP-STBL": 0,
         "COMFORT": 10,
         "ADM-DECS": 0,
         "_deepnote_index_column": 65
        },
        {
         "L-CORE": 1,
         "L-SURF": 1,
         "L-02": 1,
         "L-BP": 1,
         "SURF-STBL": 1,
         "CORE-STBL": 0,
         "BP-STBL": 0,
         "COMFORT": 10,
         "ADM-DECS": 0,
         "_deepnote_index_column": 66
        },
        {
         "L-CORE": 1,
         "L-SURF": 1,
         "L-02": 1,
         "L-BP": 2,
         "SURF-STBL": 0,
         "CORE-STBL": 0,
         "BP-STBL": 0,
         "COMFORT": 10,
         "ADM-DECS": 0,
         "_deepnote_index_column": 67
        },
        {
         "L-CORE": 1,
         "L-SURF": 1,
         "L-02": 1,
         "L-BP": 0,
         "SURF-STBL": 0,
         "CORE-STBL": 0,
         "BP-STBL": 0,
         "COMFORT": 10,
         "ADM-DECS": 0,
         "_deepnote_index_column": 68
        },
        {
         "L-CORE": 0,
         "L-SURF": 0,
         "L-02": 1,
         "L-BP": 1,
         "SURF-STBL": 0,
         "CORE-STBL": 0,
         "BP-STBL": 0,
         "COMFORT": 10,
         "ADM-DECS": 0,
         "_deepnote_index_column": 70
        },
        {
         "L-CORE": 1,
         "L-SURF": 1,
         "L-02": 1,
         "L-BP": 1,
         "SURF-STBL": 0,
         "CORE-STBL": 0,
         "BP-STBL": 1,
         "COMFORT": 10,
         "ADM-DECS": 1,
         "_deepnote_index_column": 71
        },
        {
         "L-CORE": 1,
         "L-SURF": 1,
         "L-02": 1,
         "L-BP": 2,
         "SURF-STBL": 0,
         "CORE-STBL": 0,
         "BP-STBL": 0,
         "COMFORT": 10,
         "ADM-DECS": 0,
         "_deepnote_index_column": 72
        },
        {
         "L-CORE": 1,
         "L-SURF": 0,
         "L-02": 1,
         "L-BP": 2,
         "SURF-STBL": 0,
         "CORE-STBL": 0,
         "BP-STBL": 1,
         "COMFORT": 10,
         "ADM-DECS": 0,
         "_deepnote_index_column": 73
        },
        {
         "L-CORE": 0,
         "L-SURF": 1,
         "L-02": 0,
         "L-BP": 1,
         "SURF-STBL": 0,
         "CORE-STBL": 0,
         "BP-STBL": 2,
         "COMFORT": 10,
         "ADM-DECS": 0,
         "_deepnote_index_column": 74
        },
        {
         "L-CORE": 1,
         "L-SURF": 1,
         "L-02": 1,
         "L-BP": 1,
         "SURF-STBL": 0,
         "CORE-STBL": 0,
         "BP-STBL": 1,
         "COMFORT": 10,
         "ADM-DECS": 0,
         "_deepnote_index_column": 75
        },
        {
         "L-CORE": 1,
         "L-SURF": 1,
         "L-02": 1,
         "L-BP": 1,
         "SURF-STBL": 0,
         "CORE-STBL": 0,
         "BP-STBL": 2,
         "COMFORT": 10,
         "ADM-DECS": 0,
         "_deepnote_index_column": 76
        },
        {
         "L-CORE": 1,
         "L-SURF": 1,
         "L-02": 1,
         "L-BP": 1,
         "SURF-STBL": 1,
         "CORE-STBL": 2,
         "BP-STBL": 0,
         "COMFORT": 10,
         "ADM-DECS": 1,
         "_deepnote_index_column": 77
        },
        {
         "L-CORE": 1,
         "L-SURF": 1,
         "L-02": 0,
         "L-BP": 2,
         "SURF-STBL": 0,
         "CORE-STBL": 0,
         "BP-STBL": 0,
         "COMFORT": 10,
         "ADM-DECS": 0,
         "_deepnote_index_column": 78
        },
        {
         "L-CORE": 1,
         "L-SURF": 1,
         "L-02": 1,
         "L-BP": 1,
         "SURF-STBL": 0,
         "CORE-STBL": 0,
         "BP-STBL": 0,
         "COMFORT": 15,
         "ADM-DECS": 0,
         "_deepnote_index_column": 79
        },
        {
         "L-CORE": 1,
         "L-SURF": 1,
         "L-02": 1,
         "L-BP": 1,
         "SURF-STBL": 0,
         "CORE-STBL": 0,
         "BP-STBL": 0,
         "COMFORT": 10,
         "ADM-DECS": 1,
         "_deepnote_index_column": 80
        },
        {
         "L-CORE": 1,
         "L-SURF": 0,
         "L-02": 0,
         "L-BP": 1,
         "SURF-STBL": 0,
         "CORE-STBL": 0,
         "BP-STBL": 2,
         "COMFORT": 10,
         "ADM-DECS": 2,
         "_deepnote_index_column": 81
        },
        {
         "L-CORE": 2,
         "L-SURF": 1,
         "L-02": 1,
         "L-BP": 1,
         "SURF-STBL": 1,
         "CORE-STBL": 0,
         "BP-STBL": 2,
         "COMFORT": 5,
         "ADM-DECS": 0,
         "_deepnote_index_column": 82
        },
        {
         "L-CORE": 1,
         "L-SURF": 1,
         "L-02": 1,
         "L-BP": 1,
         "SURF-STBL": 0,
         "CORE-STBL": 0,
         "BP-STBL": 2,
         "COMFORT": 10,
         "ADM-DECS": 0,
         "_deepnote_index_column": 83
        },
        {
         "L-CORE": 1,
         "L-SURF": 1,
         "L-02": 1,
         "L-BP": 1,
         "SURF-STBL": 1,
         "CORE-STBL": 0,
         "BP-STBL": 0,
         "COMFORT": 10,
         "ADM-DECS": 0,
         "_deepnote_index_column": 84
        },
        {
         "L-CORE": 1,
         "L-SURF": 1,
         "L-02": 1,
         "L-BP": 1,
         "SURF-STBL": 1,
         "CORE-STBL": 0,
         "BP-STBL": 0,
         "COMFORT": 15,
         "ADM-DECS": 1,
         "_deepnote_index_column": 85
        },
        {
         "L-CORE": 1,
         "L-SURF": 1,
         "L-02": 0,
         "L-BP": 1,
         "SURF-STBL": 1,
         "CORE-STBL": 0,
         "BP-STBL": 0,
         "COMFORT": 15,
         "ADM-DECS": 0,
         "_deepnote_index_column": 86
        },
        {
         "L-CORE": 1,
         "L-SURF": 1,
         "L-02": 1,
         "L-BP": 1,
         "SURF-STBL": 1,
         "CORE-STBL": 0,
         "BP-STBL": 0,
         "COMFORT": 10,
         "ADM-DECS": 0,
         "_deepnote_index_column": 87
        },
        {
         "L-CORE": 1,
         "L-SURF": 1,
         "L-02": 0,
         "L-BP": 1,
         "SURF-STBL": 1,
         "CORE-STBL": 0,
         "BP-STBL": 0,
         "COMFORT": 15,
         "ADM-DECS": 1,
         "_deepnote_index_column": 88
        },
        {
         "L-CORE": 1,
         "L-SURF": 0,
         "L-02": 1,
         "L-BP": 1,
         "SURF-STBL": 0,
         "CORE-STBL": 0,
         "BP-STBL": 0,
         "COMFORT": 15,
         "ADM-DECS": 0,
         "_deepnote_index_column": 89
        }
       ],
       "rows_bottom": null
      },
      "text/plain": "    L-CORE  L-SURF  L-02  L-BP  SURF-STBL  CORE-STBL  BP-STBL  COMFORT  \\\n0        1       2     1     2          0          0        0       10   \n1        2       0     1     2          0          0        1       10   \n2        1       0     0     2          0          2        1       15   \n3        1       1     1     2          0          0        0       10   \n4        2       0     0     1          0          0        2       15   \n..     ...     ...   ...   ...        ...        ...      ...      ...   \n85       1       1     1     1          1          0        0       15   \n86       1       1     0     1          1          0        0       15   \n87       1       1     1     1          1          0        0       10   \n88       1       1     0     1          1          0        0       15   \n89       1       0     1     1          0          0        0       15   \n\n    ADM-DECS  \n0          1  \n1          0  \n2          0  \n3          0  \n4          1  \n..       ...  \n85         1  \n86         0  \n87         0  \n88         1  \n89         0  \n\n[87 rows x 9 columns]",
      "text/html": "<div>\n<style scoped>\n    .dataframe tbody tr th:only-of-type {\n        vertical-align: middle;\n    }\n\n    .dataframe tbody tr th {\n        vertical-align: top;\n    }\n\n    .dataframe thead th {\n        text-align: right;\n    }\n</style>\n<table border=\"1\" class=\"dataframe\">\n  <thead>\n    <tr style=\"text-align: right;\">\n      <th></th>\n      <th>L-CORE</th>\n      <th>L-SURF</th>\n      <th>L-02</th>\n      <th>L-BP</th>\n      <th>SURF-STBL</th>\n      <th>CORE-STBL</th>\n      <th>BP-STBL</th>\n      <th>COMFORT</th>\n      <th>ADM-DECS</th>\n    </tr>\n  </thead>\n  <tbody>\n    <tr>\n      <th>0</th>\n      <td>1</td>\n      <td>2</td>\n      <td>1</td>\n      <td>2</td>\n      <td>0</td>\n      <td>0</td>\n      <td>0</td>\n      <td>10</td>\n      <td>1</td>\n    </tr>\n    <tr>\n      <th>1</th>\n      <td>2</td>\n      <td>0</td>\n      <td>1</td>\n      <td>2</td>\n      <td>0</td>\n      <td>0</td>\n      <td>1</td>\n      <td>10</td>\n      <td>0</td>\n    </tr>\n    <tr>\n      <th>2</th>\n      <td>1</td>\n      <td>0</td>\n      <td>0</td>\n      <td>2</td>\n      <td>0</td>\n      <td>2</td>\n      <td>1</td>\n      <td>15</td>\n      <td>0</td>\n    </tr>\n    <tr>\n      <th>3</th>\n      <td>1</td>\n      <td>1</td>\n      <td>1</td>\n      <td>2</td>\n      <td>0</td>\n      <td>0</td>\n      <td>0</td>\n      <td>10</td>\n      <td>0</td>\n    </tr>\n    <tr>\n      <th>4</th>\n      <td>2</td>\n      <td>0</td>\n      <td>0</td>\n      <td>1</td>\n      <td>0</td>\n      <td>0</td>\n      <td>2</td>\n      <td>15</td>\n      <td>1</td>\n    </tr>\n    <tr>\n      <th>...</th>\n      <td>...</td>\n      <td>...</td>\n      <td>...</td>\n      <td>...</td>\n      <td>...</td>\n      <td>...</td>\n      <td>...</td>\n      <td>...</td>\n      <td>...</td>\n    </tr>\n    <tr>\n      <th>85</th>\n      <td>1</td>\n      <td>1</td>\n      <td>1</td>\n      <td>1</td>\n      <td>1</td>\n      <td>0</td>\n      <td>0</td>\n      <td>15</td>\n      <td>1</td>\n    </tr>\n    <tr>\n      <th>86</th>\n      <td>1</td>\n      <td>1</td>\n      <td>0</td>\n      <td>1</td>\n      <td>1</td>\n      <td>0</td>\n      <td>0</td>\n      <td>15</td>\n      <td>0</td>\n    </tr>\n    <tr>\n      <th>87</th>\n      <td>1</td>\n      <td>1</td>\n      <td>1</td>\n      <td>1</td>\n      <td>1</td>\n      <td>0</td>\n      <td>0</td>\n      <td>10</td>\n      <td>0</td>\n    </tr>\n    <tr>\n      <th>88</th>\n      <td>1</td>\n      <td>1</td>\n      <td>0</td>\n      <td>1</td>\n      <td>1</td>\n      <td>0</td>\n      <td>0</td>\n      <td>15</td>\n      <td>1</td>\n    </tr>\n    <tr>\n      <th>89</th>\n      <td>1</td>\n      <td>0</td>\n      <td>1</td>\n      <td>1</td>\n      <td>0</td>\n      <td>0</td>\n      <td>0</td>\n      <td>15</td>\n      <td>0</td>\n    </tr>\n  </tbody>\n</table>\n<p>87 rows × 9 columns</p>\n</div>"
     },
     "metadata": {}
    }
   ],
   "execution_count": null
  },
  {
   "cell_type": "code",
   "metadata": {
    "tags": [],
    "cell_id": "00007-15a11bc0-d8cb-43df-8177-8fb47730445f",
    "deepnote_to_be_reexecuted": false,
    "source_hash": "b272afaf",
    "execution_start": 1639175611076,
    "execution_millis": 229,
    "deepnote_cell_type": "code"
   },
   "source": "post_oper.describe()\n#post_oper.drop(['COMFORT'],1).hist()\n#plt.show()",
   "outputs": [
    {
     "output_type": "execute_result",
     "execution_count": 9,
     "data": {
      "application/vnd.deepnote.dataframe.v2+json": {
       "row_count": 8,
       "column_count": 9,
       "columns": [
        {
         "name": "L-CORE",
         "dtype": "float64",
         "stats": {
          "unique_count": 6,
          "nan_count": 0,
          "min": "0.0",
          "max": "87.0",
          "histogram": [
           {
            "bin_start": 0,
            "bin_end": 8.7,
            "count": 7
           },
           {
            "bin_start": 8.7,
            "bin_end": 17.4,
            "count": 0
           },
           {
            "bin_start": 17.4,
            "bin_end": 26.099999999999998,
            "count": 0
           },
           {
            "bin_start": 26.099999999999998,
            "bin_end": 34.8,
            "count": 0
           },
           {
            "bin_start": 34.8,
            "bin_end": 43.5,
            "count": 0
           },
           {
            "bin_start": 43.5,
            "bin_end": 52.199999999999996,
            "count": 0
           },
           {
            "bin_start": 52.199999999999996,
            "bin_end": 60.89999999999999,
            "count": 0
           },
           {
            "bin_start": 60.89999999999999,
            "bin_end": 69.6,
            "count": 0
           },
           {
            "bin_start": 69.6,
            "bin_end": 78.3,
            "count": 0
           },
           {
            "bin_start": 78.3,
            "bin_end": 87,
            "count": 1
           }
          ]
         }
        },
        {
         "name": "L-SURF",
         "dtype": "float64",
         "stats": {
          "unique_count": 6,
          "nan_count": 0,
          "min": "0.0",
          "max": "87.0",
          "histogram": [
           {
            "bin_start": 0,
            "bin_end": 8.7,
            "count": 7
           },
           {
            "bin_start": 8.7,
            "bin_end": 17.4,
            "count": 0
           },
           {
            "bin_start": 17.4,
            "bin_end": 26.099999999999998,
            "count": 0
           },
           {
            "bin_start": 26.099999999999998,
            "bin_end": 34.8,
            "count": 0
           },
           {
            "bin_start": 34.8,
            "bin_end": 43.5,
            "count": 0
           },
           {
            "bin_start": 43.5,
            "bin_end": 52.199999999999996,
            "count": 0
           },
           {
            "bin_start": 52.199999999999996,
            "bin_end": 60.89999999999999,
            "count": 0
           },
           {
            "bin_start": 60.89999999999999,
            "bin_end": 69.6,
            "count": 0
           },
           {
            "bin_start": 69.6,
            "bin_end": 78.3,
            "count": 0
           },
           {
            "bin_start": 78.3,
            "bin_end": 87,
            "count": 1
           }
          ]
         }
        },
        {
         "name": "L-02",
         "dtype": "float64",
         "stats": {
          "unique_count": 5,
          "nan_count": 0,
          "min": "0.0",
          "max": "87.0",
          "histogram": [
           {
            "bin_start": 0,
            "bin_end": 8.7,
            "count": 7
           },
           {
            "bin_start": 8.7,
            "bin_end": 17.4,
            "count": 0
           },
           {
            "bin_start": 17.4,
            "bin_end": 26.099999999999998,
            "count": 0
           },
           {
            "bin_start": 26.099999999999998,
            "bin_end": 34.8,
            "count": 0
           },
           {
            "bin_start": 34.8,
            "bin_end": 43.5,
            "count": 0
           },
           {
            "bin_start": 43.5,
            "bin_end": 52.199999999999996,
            "count": 0
           },
           {
            "bin_start": 52.199999999999996,
            "bin_end": 60.89999999999999,
            "count": 0
           },
           {
            "bin_start": 60.89999999999999,
            "bin_end": 69.6,
            "count": 0
           },
           {
            "bin_start": 69.6,
            "bin_end": 78.3,
            "count": 0
           },
           {
            "bin_start": 78.3,
            "bin_end": 87,
            "count": 1
           }
          ]
         }
        },
        {
         "name": "L-BP",
         "dtype": "float64",
         "stats": {
          "unique_count": 6,
          "nan_count": 0,
          "min": "0.0",
          "max": "87.0",
          "histogram": [
           {
            "bin_start": 0,
            "bin_end": 8.7,
            "count": 7
           },
           {
            "bin_start": 8.7,
            "bin_end": 17.4,
            "count": 0
           },
           {
            "bin_start": 17.4,
            "bin_end": 26.099999999999998,
            "count": 0
           },
           {
            "bin_start": 26.099999999999998,
            "bin_end": 34.8,
            "count": 0
           },
           {
            "bin_start": 34.8,
            "bin_end": 43.5,
            "count": 0
           },
           {
            "bin_start": 43.5,
            "bin_end": 52.199999999999996,
            "count": 0
           },
           {
            "bin_start": 52.199999999999996,
            "bin_end": 60.89999999999999,
            "count": 0
           },
           {
            "bin_start": 60.89999999999999,
            "bin_end": 69.6,
            "count": 0
           },
           {
            "bin_start": 69.6,
            "bin_end": 78.3,
            "count": 0
           },
           {
            "bin_start": 78.3,
            "bin_end": 87,
            "count": 1
           }
          ]
         }
        },
        {
         "name": "SURF-STBL",
         "dtype": "float64",
         "stats": {
          "unique_count": 5,
          "nan_count": 0,
          "min": "0.0",
          "max": "87.0",
          "histogram": [
           {
            "bin_start": 0,
            "bin_end": 8.7,
            "count": 7
           },
           {
            "bin_start": 8.7,
            "bin_end": 17.4,
            "count": 0
           },
           {
            "bin_start": 17.4,
            "bin_end": 26.099999999999998,
            "count": 0
           },
           {
            "bin_start": 26.099999999999998,
            "bin_end": 34.8,
            "count": 0
           },
           {
            "bin_start": 34.8,
            "bin_end": 43.5,
            "count": 0
           },
           {
            "bin_start": 43.5,
            "bin_end": 52.199999999999996,
            "count": 0
           },
           {
            "bin_start": 52.199999999999996,
            "bin_end": 60.89999999999999,
            "count": 0
           },
           {
            "bin_start": 60.89999999999999,
            "bin_end": 69.6,
            "count": 0
           },
           {
            "bin_start": 69.6,
            "bin_end": 78.3,
            "count": 0
           },
           {
            "bin_start": 78.3,
            "bin_end": 87,
            "count": 1
           }
          ]
         }
        },
        {
         "name": "CORE-STBL",
         "dtype": "float64",
         "stats": {
          "unique_count": 5,
          "nan_count": 0,
          "min": "0.0",
          "max": "87.0",
          "histogram": [
           {
            "bin_start": 0,
            "bin_end": 8.7,
            "count": 7
           },
           {
            "bin_start": 8.7,
            "bin_end": 17.4,
            "count": 0
           },
           {
            "bin_start": 17.4,
            "bin_end": 26.099999999999998,
            "count": 0
           },
           {
            "bin_start": 26.099999999999998,
            "bin_end": 34.8,
            "count": 0
           },
           {
            "bin_start": 34.8,
            "bin_end": 43.5,
            "count": 0
           },
           {
            "bin_start": 43.5,
            "bin_end": 52.199999999999996,
            "count": 0
           },
           {
            "bin_start": 52.199999999999996,
            "bin_end": 60.89999999999999,
            "count": 0
           },
           {
            "bin_start": 60.89999999999999,
            "bin_end": 69.6,
            "count": 0
           },
           {
            "bin_start": 69.6,
            "bin_end": 78.3,
            "count": 0
           },
           {
            "bin_start": 78.3,
            "bin_end": 87,
            "count": 1
           }
          ]
         }
        },
        {
         "name": "BP-STBL",
         "dtype": "float64",
         "stats": {
          "unique_count": 6,
          "nan_count": 0,
          "min": "0.0",
          "max": "87.0",
          "histogram": [
           {
            "bin_start": 0,
            "bin_end": 8.7,
            "count": 7
           },
           {
            "bin_start": 8.7,
            "bin_end": 17.4,
            "count": 0
           },
           {
            "bin_start": 17.4,
            "bin_end": 26.099999999999998,
            "count": 0
           },
           {
            "bin_start": 26.099999999999998,
            "bin_end": 34.8,
            "count": 0
           },
           {
            "bin_start": 34.8,
            "bin_end": 43.5,
            "count": 0
           },
           {
            "bin_start": 43.5,
            "bin_end": 52.199999999999996,
            "count": 0
           },
           {
            "bin_start": 52.199999999999996,
            "bin_end": 60.89999999999999,
            "count": 0
           },
           {
            "bin_start": 60.89999999999999,
            "bin_end": 69.6,
            "count": 0
           },
           {
            "bin_start": 69.6,
            "bin_end": 78.3,
            "count": 0
           },
           {
            "bin_start": 78.3,
            "bin_end": 87,
            "count": 1
           }
          ]
         }
        },
        {
         "name": "COMFORT",
         "dtype": "float64",
         "stats": {
          "unique_count": 6,
          "nan_count": 0,
          "min": "2.3044765426865528",
          "max": "87.0",
          "histogram": [
           {
            "bin_start": 2.3044765426865528,
            "bin_end": 10.774028888417897,
            "count": 5
           },
           {
            "bin_start": 10.774028888417897,
            "bin_end": 19.24358123414924,
            "count": 2
           },
           {
            "bin_start": 19.24358123414924,
            "bin_end": 27.713133579880584,
            "count": 0
           },
           {
            "bin_start": 27.713133579880584,
            "bin_end": 36.18268592561193,
            "count": 0
           },
           {
            "bin_start": 36.18268592561193,
            "bin_end": 44.65223827134327,
            "count": 0
           },
           {
            "bin_start": 44.65223827134327,
            "bin_end": 53.121790617074616,
            "count": 0
           },
           {
            "bin_start": 53.121790617074616,
            "bin_end": 61.59134296280596,
            "count": 0
           },
           {
            "bin_start": 61.59134296280596,
            "bin_end": 70.06089530853731,
            "count": 0
           },
           {
            "bin_start": 70.06089530853731,
            "bin_end": 78.53044765426866,
            "count": 0
           },
           {
            "bin_start": 78.53044765426866,
            "bin_end": 87,
            "count": 1
           }
          ]
         }
        },
        {
         "name": "ADM-DECS",
         "dtype": "float64",
         "stats": {
          "unique_count": 6,
          "nan_count": 0,
          "min": "0.0",
          "max": "87.0",
          "histogram": [
           {
            "bin_start": 0,
            "bin_end": 8.7,
            "count": 7
           },
           {
            "bin_start": 8.7,
            "bin_end": 17.4,
            "count": 0
           },
           {
            "bin_start": 17.4,
            "bin_end": 26.099999999999998,
            "count": 0
           },
           {
            "bin_start": 26.099999999999998,
            "bin_end": 34.8,
            "count": 0
           },
           {
            "bin_start": 34.8,
            "bin_end": 43.5,
            "count": 0
           },
           {
            "bin_start": 43.5,
            "bin_end": 52.199999999999996,
            "count": 0
           },
           {
            "bin_start": 52.199999999999996,
            "bin_end": 60.89999999999999,
            "count": 0
           },
           {
            "bin_start": 60.89999999999999,
            "bin_end": 69.6,
            "count": 0
           },
           {
            "bin_start": 69.6,
            "bin_end": 78.3,
            "count": 0
           },
           {
            "bin_start": 78.3,
            "bin_end": 87,
            "count": 1
           }
          ]
         }
        },
        {
         "name": "_deepnote_index_column",
         "dtype": "object"
        }
       ],
       "rows_top": [
        {
         "L-CORE": 87,
         "L-SURF": 87,
         "L-02": 87,
         "L-BP": 87,
         "SURF-STBL": 87,
         "CORE-STBL": 87,
         "BP-STBL": 87,
         "COMFORT": 87,
         "ADM-DECS": 87,
         "_deepnote_index_column": "count"
        },
        {
         "L-CORE": 0.9310344827586207,
         "L-SURF": 0.9080459770114943,
         "L-02": 0.47126436781609193,
         "L-BP": 1.2873563218390804,
         "SURF-STBL": 0.4942528735632184,
         "CORE-STBL": 0.12643678160919541,
         "BP-STBL": 0.7241379310344828,
         "COMFORT": 10.942528735632184,
         "ADM-DECS": 0.2988505747126437,
         "_deepnote_index_column": "mean"
        },
        {
         "L-CORE": 0.5865370078586778,
         "L-SURF": 0.6756940257736377,
         "L-02": 0.5020673646029038,
         "L-BP": 0.5262426263530586,
         "SURF-STBL": 0.5028653529707439,
         "CORE-STBL": 0.47750801043200397,
         "BP-STBL": 0.8309374808208371,
         "COMFORT": 2.3044765426865528,
         "ADM-DECS": 0.485006413976664,
         "_deepnote_index_column": "std"
        },
        {
         "L-CORE": 0,
         "L-SURF": 0,
         "L-02": 0,
         "L-BP": 0,
         "SURF-STBL": 0,
         "CORE-STBL": 0,
         "BP-STBL": 0,
         "COMFORT": 5,
         "ADM-DECS": 0,
         "_deepnote_index_column": "min"
        },
        {
         "L-CORE": 1,
         "L-SURF": 0,
         "L-02": 0,
         "L-BP": 1,
         "SURF-STBL": 0,
         "CORE-STBL": 0,
         "BP-STBL": 0,
         "COMFORT": 10,
         "ADM-DECS": 0,
         "_deepnote_index_column": "25%"
        },
        {
         "L-CORE": 1,
         "L-SURF": 1,
         "L-02": 0,
         "L-BP": 1,
         "SURF-STBL": 0,
         "CORE-STBL": 0,
         "BP-STBL": 0,
         "COMFORT": 10,
         "ADM-DECS": 0,
         "_deepnote_index_column": "50%"
        },
        {
         "L-CORE": 1,
         "L-SURF": 1,
         "L-02": 1,
         "L-BP": 2,
         "SURF-STBL": 1,
         "CORE-STBL": 0,
         "BP-STBL": 1,
         "COMFORT": 10,
         "ADM-DECS": 1,
         "_deepnote_index_column": "75%"
        },
        {
         "L-CORE": 2,
         "L-SURF": 2,
         "L-02": 1,
         "L-BP": 2,
         "SURF-STBL": 1,
         "CORE-STBL": 2,
         "BP-STBL": 2,
         "COMFORT": 15,
         "ADM-DECS": 2,
         "_deepnote_index_column": "max"
        }
       ],
       "rows_bottom": null
      },
      "text/plain": "          L-CORE     L-SURF       L-02       L-BP  SURF-STBL  CORE-STBL  \\\ncount  87.000000  87.000000  87.000000  87.000000  87.000000  87.000000   \nmean    0.931034   0.908046   0.471264   1.287356   0.494253   0.126437   \nstd     0.586537   0.675694   0.502067   0.526243   0.502865   0.477508   \nmin     0.000000   0.000000   0.000000   0.000000   0.000000   0.000000   \n25%     1.000000   0.000000   0.000000   1.000000   0.000000   0.000000   \n50%     1.000000   1.000000   0.000000   1.000000   0.000000   0.000000   \n75%     1.000000   1.000000   1.000000   2.000000   1.000000   0.000000   \nmax     2.000000   2.000000   1.000000   2.000000   1.000000   2.000000   \n\n         BP-STBL    COMFORT   ADM-DECS  \ncount  87.000000  87.000000  87.000000  \nmean    0.724138  10.942529   0.298851  \nstd     0.830937   2.304477   0.485006  \nmin     0.000000   5.000000   0.000000  \n25%     0.000000  10.000000   0.000000  \n50%     0.000000  10.000000   0.000000  \n75%     1.000000  10.000000   1.000000  \nmax     2.000000  15.000000   2.000000  ",
      "text/html": "<div>\n<style scoped>\n    .dataframe tbody tr th:only-of-type {\n        vertical-align: middle;\n    }\n\n    .dataframe tbody tr th {\n        vertical-align: top;\n    }\n\n    .dataframe thead th {\n        text-align: right;\n    }\n</style>\n<table border=\"1\" class=\"dataframe\">\n  <thead>\n    <tr style=\"text-align: right;\">\n      <th></th>\n      <th>L-CORE</th>\n      <th>L-SURF</th>\n      <th>L-02</th>\n      <th>L-BP</th>\n      <th>SURF-STBL</th>\n      <th>CORE-STBL</th>\n      <th>BP-STBL</th>\n      <th>COMFORT</th>\n      <th>ADM-DECS</th>\n    </tr>\n  </thead>\n  <tbody>\n    <tr>\n      <th>count</th>\n      <td>87.000000</td>\n      <td>87.000000</td>\n      <td>87.000000</td>\n      <td>87.000000</td>\n      <td>87.000000</td>\n      <td>87.000000</td>\n      <td>87.000000</td>\n      <td>87.000000</td>\n      <td>87.000000</td>\n    </tr>\n    <tr>\n      <th>mean</th>\n      <td>0.931034</td>\n      <td>0.908046</td>\n      <td>0.471264</td>\n      <td>1.287356</td>\n      <td>0.494253</td>\n      <td>0.126437</td>\n      <td>0.724138</td>\n      <td>10.942529</td>\n      <td>0.298851</td>\n    </tr>\n    <tr>\n      <th>std</th>\n      <td>0.586537</td>\n      <td>0.675694</td>\n      <td>0.502067</td>\n      <td>0.526243</td>\n      <td>0.502865</td>\n      <td>0.477508</td>\n      <td>0.830937</td>\n      <td>2.304477</td>\n      <td>0.485006</td>\n    </tr>\n    <tr>\n      <th>min</th>\n      <td>0.000000</td>\n      <td>0.000000</td>\n      <td>0.000000</td>\n      <td>0.000000</td>\n      <td>0.000000</td>\n      <td>0.000000</td>\n      <td>0.000000</td>\n      <td>5.000000</td>\n      <td>0.000000</td>\n    </tr>\n    <tr>\n      <th>25%</th>\n      <td>1.000000</td>\n      <td>0.000000</td>\n      <td>0.000000</td>\n      <td>1.000000</td>\n      <td>0.000000</td>\n      <td>0.000000</td>\n      <td>0.000000</td>\n      <td>10.000000</td>\n      <td>0.000000</td>\n    </tr>\n    <tr>\n      <th>50%</th>\n      <td>1.000000</td>\n      <td>1.000000</td>\n      <td>0.000000</td>\n      <td>1.000000</td>\n      <td>0.000000</td>\n      <td>0.000000</td>\n      <td>0.000000</td>\n      <td>10.000000</td>\n      <td>0.000000</td>\n    </tr>\n    <tr>\n      <th>75%</th>\n      <td>1.000000</td>\n      <td>1.000000</td>\n      <td>1.000000</td>\n      <td>2.000000</td>\n      <td>1.000000</td>\n      <td>0.000000</td>\n      <td>1.000000</td>\n      <td>10.000000</td>\n      <td>1.000000</td>\n    </tr>\n    <tr>\n      <th>max</th>\n      <td>2.000000</td>\n      <td>2.000000</td>\n      <td>1.000000</td>\n      <td>2.000000</td>\n      <td>1.000000</td>\n      <td>2.000000</td>\n      <td>2.000000</td>\n      <td>15.000000</td>\n      <td>2.000000</td>\n    </tr>\n  </tbody>\n</table>\n</div>"
     },
     "metadata": {}
    }
   ],
   "execution_count": null
  },
  {
   "cell_type": "markdown",
   "source": "### Modelo Bayes ingenuo",
   "metadata": {
    "tags": [],
    "is_collapsed": false,
    "cell_id": "00007-d99aac03-2f7a-4116-be33-b3ad7c9bbc72",
    "deepnote_cell_type": "text-cell-h3"
   }
  },
  {
   "cell_type": "code",
   "metadata": {
    "cell_id": "00007-5046c9cb-f936-4b65-8dc6-8aae596ed771",
    "deepnote_to_be_reexecuted": false,
    "source_hash": "c2299a86",
    "execution_start": 1639175611363,
    "execution_millis": 4,
    "deepnote_cell_type": "code"
   },
   "source": "#ya que los datos de encuentran de forma numérica, podemos ocupar el método de bayes ingenuo miltinominal.\nX_train, X_test, y_train, y_test = train_test_split(post_oper, post_oper['ADM-DECS']  )     \n",
   "outputs": [],
   "execution_count": null
  },
  {
   "cell_type": "code",
   "metadata": {
    "cell_id": "00008-6eb0d5fd-209e-481e-a57c-e61135ea656d",
    "deepnote_to_be_reexecuted": false,
    "source_hash": "c363a230",
    "execution_start": 1639175611365,
    "execution_millis": 42,
    "deepnote_cell_type": "code"
   },
   "source": "X_train\nmodel = MultinomialNB().fit(X_train, y_train)\n#para saber que tan eficiente fue el modelo, vamos a predecir el resultado de ciertos datos.\npredicted = model.predict(X_test)\nprint('Precisión del modelo:')\nprint(np.mean(predicted == y_test))\n#Verifico la matriz de Confusión\nmatriz = confusion_matrix(y_test, predicted)\nprint('Matriz de Confusión:')\nprint(matriz)\nprint(classification_report(y_test, predicted))",
   "outputs": [
    {
     "name": "stdout",
     "text": "Precisión del modelo:\n1.0\nMatriz de Confusión:\n[[15  0]\n [ 0  7]]\n              precision    recall  f1-score   support\n\n           0       1.00      1.00      1.00        15\n           1       1.00      1.00      1.00         7\n\n    accuracy                           1.00        22\n   macro avg       1.00      1.00      1.00        22\nweighted avg       1.00      1.00      1.00        22\n\n",
     "output_type": "stream"
    }
   ],
   "execution_count": null
  },
  {
   "cell_type": "markdown",
   "source": "Como se puede ver, el método tuvo una presición bastante alta, lo cual es muy bueno ya que es un método sencillo.",
   "metadata": {
    "cell_id": "00009-7ba02a34-8b6e-467e-9dd3-caf33d2d2041",
    "deepnote_cell_type": "markdown"
   }
  },
  {
   "cell_type": "markdown",
   "source": "### Modelo con árboles de decisión",
   "metadata": {
    "tags": [],
    "is_collapsed": false,
    "cell_id": "00017-29ea1589-f9a5-4039-90b0-003493df42ed",
    "deepnote_cell_type": "text-cell-h3"
   }
  },
  {
   "cell_type": "code",
   "metadata": {
    "tags": [],
    "cell_id": "00024-04f703b6-8c8c-4978-9b68-f1d0d0442149",
    "deepnote_to_be_reexecuted": false,
    "source_hash": "388eeffd",
    "execution_start": 1639175611406,
    "execution_millis": 0,
    "deepnote_cell_type": "code"
   },
   "source": "#Separo los datos de \"train\" en entrenamiento y prueba para probar los algoritmos\nX_train, X_test, y_train, y_test = train_test_split(post_oper, post_oper['ADM-DECS'], test_size=0.2)",
   "outputs": [],
   "execution_count": null
  },
  {
   "cell_type": "code",
   "metadata": {
    "tags": [],
    "cell_id": "00019-dcf31c4c-19bb-4347-86cc-96c9f6b10b67",
    "deepnote_to_be_reexecuted": false,
    "source_hash": "79fcab2c",
    "execution_start": 1639175611449,
    "execution_millis": 2,
    "deepnote_cell_type": "code"
   },
   "source": "algoritmo1 = DecisionTreeClassifier(criterion = 'entropy')\n#Entreno el modelo\nalgoritmo1.fit(X_train, y_train)\n#Realizo una predicción\n#predicted2 = algoritmo1.predict(X_test)\n#para saber que tan eficiente fue el modelo, vamos a predecir el resultado de ciertos datos.\npredicted2 = model.predict(X_test)\nprint('Precisión del modelo:')\nprint(np.mean(predicted2 == y_test))\n#Verifico la matriz de Confusión\nmatriz2 = confusion_matrix(y_test, predicted2)\nprint('Matriz de Confusión:')\nprint(matriz2)\nprint(classification_report(y_test, predicted2))",
   "outputs": [
    {
     "name": "stdout",
     "text": "Precisión del modelo:\n0.9444444444444444\nMatriz de Confusión:\n[[13  0  0]\n [ 0  4  0]\n [ 0  1  0]]\n              precision    recall  f1-score   support\n\n           0       1.00      1.00      1.00        13\n           1       0.80      1.00      0.89         4\n           2       0.00      0.00      0.00         1\n\n    accuracy                           0.94        18\n   macro avg       0.60      0.67      0.63        18\nweighted avg       0.90      0.94      0.92        18\n\n/shared-libs/python3.7/py/lib/python3.7/site-packages/sklearn/metrics/_classification.py:1308: UndefinedMetricWarning: Precision and F-score are ill-defined and being set to 0.0 in labels with no predicted samples. Use `zero_division` parameter to control this behavior.\n  _warn_prf(average, modifier, msg_start, len(result))\n/shared-libs/python3.7/py/lib/python3.7/site-packages/sklearn/metrics/_classification.py:1308: UndefinedMetricWarning: Precision and F-score are ill-defined and being set to 0.0 in labels with no predicted samples. Use `zero_division` parameter to control this behavior.\n  _warn_prf(average, modifier, msg_start, len(result))\n/shared-libs/python3.7/py/lib/python3.7/site-packages/sklearn/metrics/_classification.py:1308: UndefinedMetricWarning: Precision and F-score are ill-defined and being set to 0.0 in labels with no predicted samples. Use `zero_division` parameter to control this behavior.\n  _warn_prf(average, modifier, msg_start, len(result))\n",
     "output_type": "stream"
    }
   ],
   "execution_count": null
  },
  {
   "cell_type": "code",
   "metadata": {
    "tags": [],
    "cell_id": "00023-a6df7288-81d9-4f27-968e-0ee34955796f",
    "deepnote_to_be_reexecuted": false,
    "source_hash": "2438828",
    "execution_start": 1639175611454,
    "execution_millis": 39,
    "deepnote_output_heights": [
     193.875
    ],
    "deepnote_cell_type": "code"
   },
   "source": "algoritmo1 = DecisionTreeClassifier(criterion = 'gini')\n#Entreno el modelo\nalgoritmo1.fit(X_train, y_train)\n#Realizo una predicción\n#predicted2 = algoritmo1.predict(X_test)\n#para saber que tan eficiente fue el modelo, vamos a predecir el resultado de ciertos datos.\npredicted2 = model.predict(X_test)\nprint('Precisión del modelo:')\nprint(np.mean(predicted2 == y_test))\n#Verifico la matriz de Confusión\nmatriz2 = confusion_matrix(y_test, predicted2)\nprint('Matriz de Confusión:')\nprint(matriz2)\nprint(classification_report(y_test, predicted2))",
   "outputs": [
    {
     "name": "stdout",
     "text": "Precisión del modelo:\n0.9444444444444444\nMatriz de Confusión:\n[[13  0  0]\n [ 0  4  0]\n [ 0  1  0]]\n              precision    recall  f1-score   support\n\n           0       1.00      1.00      1.00        13\n           1       0.80      1.00      0.89         4\n           2       0.00      0.00      0.00         1\n\n    accuracy                           0.94        18\n   macro avg       0.60      0.67      0.63        18\nweighted avg       0.90      0.94      0.92        18\n\n/shared-libs/python3.7/py/lib/python3.7/site-packages/sklearn/metrics/_classification.py:1308: UndefinedMetricWarning: Precision and F-score are ill-defined and being set to 0.0 in labels with no predicted samples. Use `zero_division` parameter to control this behavior.\n  _warn_prf(average, modifier, msg_start, len(result))\n/shared-libs/python3.7/py/lib/python3.7/site-packages/sklearn/metrics/_classification.py:1308: UndefinedMetricWarning: Precision and F-score are ill-defined and being set to 0.0 in labels with no predicted samples. Use `zero_division` parameter to control this behavior.\n  _warn_prf(average, modifier, msg_start, len(result))\n/shared-libs/python3.7/py/lib/python3.7/site-packages/sklearn/metrics/_classification.py:1308: UndefinedMetricWarning: Precision and F-score are ill-defined and being set to 0.0 in labels with no predicted samples. Use `zero_division` parameter to control this behavior.\n  _warn_prf(average, modifier, msg_start, len(result))\n",
     "output_type": "stream"
    }
   ],
   "execution_count": null
  },
  {
   "cell_type": "markdown",
   "source": "### Modelo SVM",
   "metadata": {
    "tags": [],
    "is_collapsed": false,
    "cell_id": "00020-0b012b90-8f09-4c7f-9216-91ee81dda61f",
    "deepnote_cell_type": "text-cell-h3"
   }
  },
  {
   "cell_type": "code",
   "metadata": {
    "tags": [],
    "cell_id": "00021-a1e70c41-63fc-4957-8045-ec1a9466f8bb",
    "deepnote_to_be_reexecuted": false,
    "source_hash": "dc042a68",
    "execution_start": 1639175611503,
    "execution_millis": 40,
    "deepnote_cell_type": "code"
   },
   "source": "#Separo los datos de \"train\" en entrenamiento y prueba para probar los algoritmos\nX_train, X_test, y_train, y_test = train_test_split(post_oper, post_oper['ADM-DECS'], test_size=0.2)\n\n#Defino el algoritmo a utilizar\nalgoritmo2 = SVC(kernel = 'linear')\n#Entreno el modelo\nalgoritmo2.fit(X_train, y_train)\n#Realizo una predicción\n#para saber que tan eficiente fue el modelo, vamos a predecir el resultado de ciertos datos.\npredicted3 = model.predict(X_test)\nprint('Precisión del modelo:')\nprint(np.mean(predicted3 == y_test))\n#Verifico la matriz de Confusión\nmatriz3 = confusion_matrix(y_test, predicted3)\nprint('Matriz de Confusión:')\nprint(matriz3)\nprint(classification_report(y_test, predicted3))\n",
   "outputs": [
    {
     "name": "stdout",
     "text": "Precisión del modelo:\n0.9444444444444444\nMatriz de Confusión:\n[[13  0  0]\n [ 0  4  0]\n [ 0  1  0]]\n              precision    recall  f1-score   support\n\n           0       1.00      1.00      1.00        13\n           1       0.80      1.00      0.89         4\n           2       0.00      0.00      0.00         1\n\n    accuracy                           0.94        18\n   macro avg       0.60      0.67      0.63        18\nweighted avg       0.90      0.94      0.92        18\n\n/shared-libs/python3.7/py/lib/python3.7/site-packages/sklearn/metrics/_classification.py:1308: UndefinedMetricWarning: Precision and F-score are ill-defined and being set to 0.0 in labels with no predicted samples. Use `zero_division` parameter to control this behavior.\n  _warn_prf(average, modifier, msg_start, len(result))\n/shared-libs/python3.7/py/lib/python3.7/site-packages/sklearn/metrics/_classification.py:1308: UndefinedMetricWarning: Precision and F-score are ill-defined and being set to 0.0 in labels with no predicted samples. Use `zero_division` parameter to control this behavior.\n  _warn_prf(average, modifier, msg_start, len(result))\n/shared-libs/python3.7/py/lib/python3.7/site-packages/sklearn/metrics/_classification.py:1308: UndefinedMetricWarning: Precision and F-score are ill-defined and being set to 0.0 in labels with no predicted samples. Use `zero_division` parameter to control this behavior.\n  _warn_prf(average, modifier, msg_start, len(result))\n",
     "output_type": "stream"
    }
   ],
   "execution_count": null
  },
  {
   "cell_type": "code",
   "metadata": {
    "tags": [],
    "cell_id": "00031-751069e3-c590-44fd-b9cc-2760c996e55c",
    "deepnote_to_be_reexecuted": false,
    "source_hash": "7e21d00a",
    "execution_start": 1639175611554,
    "execution_millis": 62,
    "deepnote_cell_type": "code"
   },
   "source": "#algoritmo polinomial\nsvclassifier = SVC(kernel=\"poly\", degree=8)\nsvclassifier.fit(X_train, y_train)\npredicted4 = svclassifier.predict(X_test)\nprint(confusion_matrix(y_test, predicted4))\nprint(classification_report(y_test, predicted4))\n",
   "outputs": [
    {
     "name": "stdout",
     "text": "[[13  0  0]\n [ 3  1  0]\n [ 0  1  0]]\n              precision    recall  f1-score   support\n\n           0       0.81      1.00      0.90        13\n           1       0.50      0.25      0.33         4\n           2       0.00      0.00      0.00         1\n\n    accuracy                           0.78        18\n   macro avg       0.44      0.42      0.41        18\nweighted avg       0.70      0.78      0.72        18\n\n/shared-libs/python3.7/py/lib/python3.7/site-packages/sklearn/metrics/_classification.py:1308: UndefinedMetricWarning: Precision and F-score are ill-defined and being set to 0.0 in labels with no predicted samples. Use `zero_division` parameter to control this behavior.\n  _warn_prf(average, modifier, msg_start, len(result))\n/shared-libs/python3.7/py/lib/python3.7/site-packages/sklearn/metrics/_classification.py:1308: UndefinedMetricWarning: Precision and F-score are ill-defined and being set to 0.0 in labels with no predicted samples. Use `zero_division` parameter to control this behavior.\n  _warn_prf(average, modifier, msg_start, len(result))\n/shared-libs/python3.7/py/lib/python3.7/site-packages/sklearn/metrics/_classification.py:1308: UndefinedMetricWarning: Precision and F-score are ill-defined and being set to 0.0 in labels with no predicted samples. Use `zero_division` parameter to control this behavior.\n  _warn_prf(average, modifier, msg_start, len(result))\n",
     "output_type": "stream"
    }
   ],
   "execution_count": null
  },
  {
   "cell_type": "code",
   "metadata": {
    "tags": [],
    "cell_id": "00032-8214b7b1-8e64-4558-a003-6099c6a82c5f",
    "deepnote_to_be_reexecuted": false,
    "source_hash": "2400a2bf",
    "execution_start": 1639175611681,
    "execution_millis": 3,
    "deepnote_output_heights": [
     21.1875
    ],
    "deepnote_cell_type": "code"
   },
   "source": "#algoritmo gaussiano\nsvclassifier = SVC(kernel=\"rbf\")\nsvclassifier.fit(X_train, y_train)\npredicted5 = svclassifier.predict(X_test)\nprint(confusion_matrix(y_test, predicted5))\nprint(classification_report(y_test, predicted5))\n",
   "outputs": [
    {
     "name": "stdout",
     "text": "[[13  0  0]\n [ 4  0  0]\n [ 1  0  0]]\n              precision    recall  f1-score   support\n\n           0       0.72      1.00      0.84        13\n           1       0.00      0.00      0.00         4\n           2       0.00      0.00      0.00         1\n\n    accuracy                           0.72        18\n   macro avg       0.24      0.33      0.28        18\nweighted avg       0.52      0.72      0.61        18\n\n/shared-libs/python3.7/py/lib/python3.7/site-packages/sklearn/metrics/_classification.py:1308: UndefinedMetricWarning: Precision and F-score are ill-defined and being set to 0.0 in labels with no predicted samples. Use `zero_division` parameter to control this behavior.\n  _warn_prf(average, modifier, msg_start, len(result))\n/shared-libs/python3.7/py/lib/python3.7/site-packages/sklearn/metrics/_classification.py:1308: UndefinedMetricWarning: Precision and F-score are ill-defined and being set to 0.0 in labels with no predicted samples. Use `zero_division` parameter to control this behavior.\n  _warn_prf(average, modifier, msg_start, len(result))\n/shared-libs/python3.7/py/lib/python3.7/site-packages/sklearn/metrics/_classification.py:1308: UndefinedMetricWarning: Precision and F-score are ill-defined and being set to 0.0 in labels with no predicted samples. Use `zero_division` parameter to control this behavior.\n  _warn_prf(average, modifier, msg_start, len(result))\n",
     "output_type": "stream"
    }
   ],
   "execution_count": null
  },
  {
   "cell_type": "code",
   "metadata": {
    "tags": [],
    "cell_id": "00033-b31c2529-e75a-44bc-8538-7c2c8b6bcc76",
    "deepnote_to_be_reexecuted": false,
    "source_hash": "b623e53d",
    "execution_start": 1639175611683,
    "execution_millis": 1,
    "deepnote_cell_type": "code"
   },
   "source": "",
   "outputs": [],
   "execution_count": null
  },
  {
   "cell_type": "markdown",
   "source": "",
   "metadata": {
    "tags": [],
    "cell_id": "00022-abd38634-161d-4523-8057-586af8638e09",
    "deepnote_cell_type": "markdown"
   }
  },
  {
   "cell_type": "markdown",
   "source": "### Modelo K-vecinos cercanos",
   "metadata": {
    "tags": [],
    "is_collapsed": false,
    "cell_id": "00013-43cfd7a6-9c33-4dfe-9f0e-d41ec662b651",
    "deepnote_cell_type": "text-cell-h3"
   }
  },
  {
   "cell_type": "code",
   "metadata": {
    "tags": [],
    "cell_id": "00031-9d4872fa-24d3-4043-8a59-f04a75452528",
    "deepnote_to_be_reexecuted": false,
    "source_hash": "a8acab6b",
    "execution_start": 1639175611726,
    "execution_millis": 58,
    "deepnote_cell_type": "code"
   },
   "source": "post_oper2 = pd.read_csv(\"post-operative.data\",sep=',')\npost_oper2.head(200)",
   "outputs": [
    {
     "output_type": "execute_result",
     "execution_count": 18,
     "data": {
      "application/vnd.deepnote.dataframe.v2+json": {
       "row_count": 89,
       "column_count": 9,
       "columns": [
        {
         "name": "mid",
         "dtype": "object",
         "stats": {
          "unique_count": 3,
          "nan_count": 0,
          "categories": [
           {
            "name": "mid",
            "count": 57
           },
           {
            "name": "low",
            "count": 19
           },
           {
            "name": "high",
            "count": 13
           }
          ]
         }
        },
        {
         "name": "low",
         "dtype": "object",
         "stats": {
          "unique_count": 3,
          "nan_count": 0,
          "categories": [
           {
            "name": "mid",
            "count": 48
           },
           {
            "name": "low",
            "count": 24
           },
           {
            "name": "high",
            "count": 17
           }
          ]
         }
        },
        {
         "name": "excellent",
         "dtype": "object",
         "stats": {
          "unique_count": 2,
          "nan_count": 0,
          "categories": [
           {
            "name": "good",
            "count": 47
           },
           {
            "name": "excellent",
            "count": 42
           }
          ]
         }
        },
        {
         "name": "mid.1",
         "dtype": "object",
         "stats": {
          "unique_count": 3,
          "nan_count": 0,
          "categories": [
           {
            "name": "mid",
            "count": 56
           },
           {
            "name": "high",
            "count": 30
           },
           {
            "name": "low",
            "count": 3
           }
          ]
         }
        },
        {
         "name": "stable",
         "dtype": "object",
         "stats": {
          "unique_count": 2,
          "nan_count": 0,
          "categories": [
           {
            "name": "unstable",
            "count": 45
           },
           {
            "name": "stable",
            "count": 44
           }
          ]
         }
        },
        {
         "name": "stable.1",
         "dtype": "object",
         "stats": {
          "unique_count": 3,
          "nan_count": 0,
          "categories": [
           {
            "name": "stable",
            "count": 82
           },
           {
            "name": "unstable",
            "count": 6
           },
           {
            "name": "mod-stable",
            "count": 1
           }
          ]
         }
        },
        {
         "name": "stable.2",
         "dtype": "object",
         "stats": {
          "unique_count": 3,
          "nan_count": 0,
          "categories": [
           {
            "name": "stable",
            "count": 45
           },
           {
            "name": "unstable",
            "count": 23
           },
           {
            "name": "mod-stable",
            "count": 21
           }
          ]
         }
        },
        {
         "name": "15",
         "dtype": "object",
         "stats": {
          "unique_count": 5,
          "nan_count": 0,
          "categories": [
           {
            "name": "10",
            "count": 65
           },
           {
            "name": "15",
            "count": 18
           },
           {
            "name": "3 others",
            "count": 6
           }
          ]
         }
        },
        {
         "name": "A",
         "dtype": "object",
         "stats": {
          "unique_count": 4,
          "nan_count": 0,
          "categories": [
           {
            "name": "A",
            "count": 62
           },
           {
            "name": "S",
            "count": 24
           },
           {
            "name": "2 others",
            "count": 3
           }
          ]
         }
        },
        {
         "name": "_deepnote_index_column",
         "dtype": "int64"
        }
       ],
       "rows_top": [
        {
         "15": "10",
         "mid": "mid",
         "low": "high",
         "excellent": "excellent",
         "mid.1": "high",
         "stable": "stable",
         "stable.1": "stable",
         "stable.2": "stable",
         "A": "S",
         "_deepnote_index_column": 0
        },
        {
         "15": "10",
         "mid": "high",
         "low": "low",
         "excellent": "excellent",
         "mid.1": "high",
         "stable": "stable",
         "stable.1": "stable",
         "stable.2": "mod-stable",
         "A": "A",
         "_deepnote_index_column": 1
        },
        {
         "15": "15",
         "mid": "mid",
         "low": "low",
         "excellent": "good",
         "mid.1": "high",
         "stable": "stable",
         "stable.1": "unstable",
         "stable.2": "mod-stable",
         "A": "A ",
         "_deepnote_index_column": 2
        },
        {
         "15": "10",
         "mid": "mid",
         "low": "mid",
         "excellent": "excellent",
         "mid.1": "high",
         "stable": "stable",
         "stable.1": "stable",
         "stable.2": "stable",
         "A": "A",
         "_deepnote_index_column": 3
        },
        {
         "15": "15",
         "mid": "high",
         "low": "low",
         "excellent": "good",
         "mid.1": "mid",
         "stable": "stable",
         "stable.1": "stable",
         "stable.2": "unstable",
         "A": "S",
         "_deepnote_index_column": 4
        },
        {
         "15": "05",
         "mid": "mid",
         "low": "low",
         "excellent": "excellent",
         "mid.1": "high",
         "stable": "stable",
         "stable.1": "stable",
         "stable.2": "mod-stable",
         "A": "S",
         "_deepnote_index_column": 5
        },
        {
         "15": "10",
         "mid": "high",
         "low": "mid",
         "excellent": "excellent",
         "mid.1": "mid",
         "stable": "unstable",
         "stable.1": "unstable",
         "stable.2": "stable",
         "A": "S",
         "_deepnote_index_column": 6
        },
        {
         "15": "10",
         "mid": "mid",
         "low": "high",
         "excellent": "good",
         "mid.1": "mid",
         "stable": "stable",
         "stable.1": "stable",
         "stable.2": "stable",
         "A": "S",
         "_deepnote_index_column": 7
        },
        {
         "15": "10",
         "mid": "mid",
         "low": "low",
         "excellent": "excellent",
         "mid.1": "mid",
         "stable": "unstable",
         "stable.1": "stable",
         "stable.2": "mod-stable",
         "A": "S",
         "_deepnote_index_column": 8
        },
        {
         "15": "15",
         "mid": "mid",
         "low": "mid",
         "excellent": "good",
         "mid.1": "mid",
         "stable": "stable",
         "stable.1": "stable",
         "stable.2": "stable",
         "A": "A",
         "_deepnote_index_column": 9
        },
        {
         "15": "10",
         "mid": "mid",
         "low": "low",
         "excellent": "good",
         "mid.1": "high",
         "stable": "stable",
         "stable.1": "stable",
         "stable.2": "mod-stable",
         "A": "A",
         "_deepnote_index_column": 10
        },
        {
         "15": "15",
         "mid": "high",
         "low": "high",
         "excellent": "excellent",
         "mid.1": "high",
         "stable": "unstable",
         "stable.1": "stable",
         "stable.2": "unstable",
         "A": "A",
         "_deepnote_index_column": 11
        },
        {
         "15": "10",
         "mid": "mid",
         "low": "high",
         "excellent": "good",
         "mid.1": "mid",
         "stable": "unstable",
         "stable.1": "stable",
         "stable.2": "mod-stable",
         "A": "A",
         "_deepnote_index_column": 12
        },
        {
         "15": "15",
         "mid": "mid",
         "low": "low",
         "excellent": "good",
         "mid.1": "high",
         "stable": "unstable",
         "stable.1": "unstable",
         "stable.2": "stable",
         "A": "S",
         "_deepnote_index_column": 13
        },
        {
         "15": "10",
         "mid": "high",
         "low": "high",
         "excellent": "excellent",
         "mid.1": "high",
         "stable": "unstable",
         "stable.1": "stable",
         "stable.2": "unstable",
         "A": "A",
         "_deepnote_index_column": 14
        },
        {
         "15": "15",
         "mid": "low",
         "low": "high",
         "excellent": "good",
         "mid.1": "high",
         "stable": "unstable",
         "stable.1": "stable",
         "stable.2": "mod-stable",
         "A": "A",
         "_deepnote_index_column": 15
        },
        {
         "15": "10",
         "mid": "mid",
         "low": "low",
         "excellent": "good",
         "mid.1": "high",
         "stable": "unstable",
         "stable.1": "stable",
         "stable.2": "stable",
         "A": "A",
         "_deepnote_index_column": 16
        },
        {
         "15": "15",
         "mid": "mid",
         "low": "high",
         "excellent": "good",
         "mid.1": "mid",
         "stable": "unstable",
         "stable.1": "stable",
         "stable.2": "unstable",
         "A": "A",
         "_deepnote_index_column": 17
        },
        {
         "15": "10",
         "mid": "mid",
         "low": "mid",
         "excellent": "good",
         "mid.1": "mid",
         "stable": "stable",
         "stable.1": "stable",
         "stable.2": "stable",
         "A": "A",
         "_deepnote_index_column": 18
        },
        {
         "15": "15",
         "mid": "low",
         "low": "high",
         "excellent": "good",
         "mid.1": "mid",
         "stable": "unstable",
         "stable.1": "stable",
         "stable.2": "stable",
         "A": "A",
         "_deepnote_index_column": 19
        },
        {
         "15": "10",
         "mid": "low",
         "low": "mid",
         "excellent": "excellent",
         "mid.1": "high",
         "stable": "unstable",
         "stable.1": "stable",
         "stable.2": "unstable",
         "A": "S",
         "_deepnote_index_column": 20
        },
        {
         "15": "15",
         "mid": "mid",
         "low": "mid",
         "excellent": "good",
         "mid.1": "mid",
         "stable": "unstable",
         "stable.1": "stable",
         "stable.2": "unstable",
         "A": "A",
         "_deepnote_index_column": 21
        },
        {
         "15": "10",
         "mid": "mid",
         "low": "mid",
         "excellent": "good",
         "mid.1": "mid",
         "stable": "unstable",
         "stable.1": "stable",
         "stable.2": "stable",
         "A": "A",
         "_deepnote_index_column": 22
        },
        {
         "15": "10",
         "mid": "high",
         "low": "high",
         "excellent": "good",
         "mid.1": "mid",
         "stable": "stable",
         "stable.1": "stable",
         "stable.2": "mod-stable",
         "A": "A",
         "_deepnote_index_column": 23
        },
        {
         "15": "10",
         "mid": "low",
         "low": "mid",
         "excellent": "good",
         "mid.1": "mid",
         "stable": "unstable",
         "stable.1": "stable",
         "stable.2": "stable",
         "A": "A",
         "_deepnote_index_column": 24
        },
        {
         "15": "10",
         "mid": "high",
         "low": "mid",
         "excellent": "good",
         "mid.1": "low",
         "stable": "stable",
         "stable.1": "stable",
         "stable.2": "mod-stable",
         "A": "A",
         "_deepnote_index_column": 25
        },
        {
         "15": "10",
         "mid": "low",
         "low": "mid",
         "excellent": "excellent",
         "mid.1": "high",
         "stable": "stable",
         "stable.1": "stable",
         "stable.2": "mod-stable",
         "A": "A",
         "_deepnote_index_column": 26
        },
        {
         "15": "15",
         "mid": "mid",
         "low": "mid",
         "excellent": "excellent",
         "mid.1": "mid",
         "stable": "stable",
         "stable.1": "stable",
         "stable.2": "unstable",
         "A": "A",
         "_deepnote_index_column": 27
        },
        {
         "15": "10",
         "mid": "mid",
         "low": "mid",
         "excellent": "good",
         "mid.1": "mid",
         "stable": "unstable",
         "stable.1": "stable",
         "stable.2": "unstable",
         "A": "S",
         "_deepnote_index_column": 28
        },
        {
         "15": "10",
         "mid": "mid",
         "low": "mid",
         "excellent": "good",
         "mid.1": "high",
         "stable": "unstable",
         "stable.1": "stable",
         "stable.2": "stable",
         "A": "A",
         "_deepnote_index_column": 29
        },
        {
         "15": "10",
         "mid": "low",
         "low": "low",
         "excellent": "good",
         "mid.1": "mid",
         "stable": "unstable",
         "stable.1": "stable",
         "stable.2": "unstable",
         "A": "A",
         "_deepnote_index_column": 30
        },
        {
         "15": "10",
         "mid": "mid",
         "low": "mid",
         "excellent": "excellent",
         "mid.1": "high",
         "stable": "unstable",
         "stable.1": "stable",
         "stable.2": "mod-stable",
         "A": "A",
         "_deepnote_index_column": 31
        },
        {
         "15": "10",
         "mid": "mid",
         "low": "low",
         "excellent": "good",
         "mid.1": "mid",
         "stable": "stable",
         "stable.1": "stable",
         "stable.2": "stable",
         "A": "A",
         "_deepnote_index_column": 32
        },
        {
         "15": "10",
         "mid": "low",
         "low": "mid",
         "excellent": "excellent",
         "mid.1": "high",
         "stable": "stable",
         "stable.1": "stable",
         "stable.2": "mod-stable",
         "A": "A",
         "_deepnote_index_column": 33
        },
        {
         "15": "10",
         "mid": "mid",
         "low": "mid",
         "excellent": "good",
         "mid.1": "mid",
         "stable": "stable",
         "stable.1": "stable",
         "stable.2": "stable",
         "A": "A",
         "_deepnote_index_column": 34
        },
        {
         "15": "10",
         "mid": "low",
         "low": "mid",
         "excellent": "excellent",
         "mid.1": "mid",
         "stable": "stable",
         "stable.1": "stable",
         "stable.2": "stable",
         "A": "S",
         "_deepnote_index_column": 35
        },
        {
         "15": "10",
         "mid": "low",
         "low": "low",
         "excellent": "good",
         "mid.1": "mid",
         "stable": "unstable",
         "stable.1": "stable",
         "stable.2": "unstable",
         "A": "S",
         "_deepnote_index_column": 36
        },
        {
         "15": "07",
         "mid": "low",
         "low": "low",
         "excellent": "good",
         "mid.1": "mid",
         "stable": "stable",
         "stable.1": "stable",
         "stable.2": "stable",
         "A": "S",
         "_deepnote_index_column": 37
        },
        {
         "15": "10",
         "mid": "mid",
         "low": "mid",
         "excellent": "good",
         "mid.1": "high",
         "stable": "unstable",
         "stable.1": "stable",
         "stable.2": "mod-stable",
         "A": "A",
         "_deepnote_index_column": 38
        },
        {
         "15": "10",
         "mid": "low",
         "low": "low",
         "excellent": "good",
         "mid.1": "mid",
         "stable": "unstable",
         "stable.1": "stable",
         "stable.2": "stable",
         "A": "A",
         "_deepnote_index_column": 39
        },
        {
         "15": "15",
         "mid": "low",
         "low": "mid",
         "excellent": "good",
         "mid.1": "mid",
         "stable": "stable",
         "stable.1": "stable",
         "stable.2": "stable",
         "A": "S",
         "_deepnote_index_column": 40
        },
        {
         "15": "15",
         "mid": "high",
         "low": "high",
         "excellent": "good",
         "mid.1": "high",
         "stable": "unstable",
         "stable.1": "stable",
         "stable.2": "stable",
         "A": "S",
         "_deepnote_index_column": 41
        },
        {
         "15": "10",
         "mid": "mid",
         "low": "mid",
         "excellent": "good",
         "mid.1": "mid",
         "stable": "stable",
         "stable.1": "stable",
         "stable.2": "stable",
         "A": "S",
         "_deepnote_index_column": 42
        },
        {
         "15": "10",
         "mid": "low",
         "low": "low",
         "excellent": "excellent",
         "mid.1": "mid",
         "stable": "stable",
         "stable.1": "stable",
         "stable.2": "stable",
         "A": "A",
         "_deepnote_index_column": 43
        },
        {
         "15": "10",
         "mid": "low",
         "low": "mid",
         "excellent": "good",
         "mid.1": "mid",
         "stable": "unstable",
         "stable.1": "stable",
         "stable.2": "stable",
         "A": "S",
         "_deepnote_index_column": 44
        },
        {
         "15": "?",
         "mid": "low",
         "low": "mid",
         "excellent": "good",
         "mid.1": "high",
         "stable": "unstable",
         "stable.1": "stable",
         "stable.2": "stable",
         "A": "I",
         "_deepnote_index_column": 45
        },
        {
         "15": "10",
         "mid": "mid",
         "low": "mid",
         "excellent": "excellent",
         "mid.1": "mid",
         "stable": "unstable",
         "stable.1": "stable",
         "stable.2": "stable",
         "A": "A",
         "_deepnote_index_column": 46
        },
        {
         "15": "?",
         "mid": "high",
         "low": "high",
         "excellent": "excellent",
         "mid.1": "high",
         "stable": "stable",
         "stable.1": "stable",
         "stable.2": "unstable",
         "A": "A",
         "_deepnote_index_column": 47
        },
        {
         "15": "10",
         "mid": "mid",
         "low": "high",
         "excellent": "good",
         "mid.1": "low",
         "stable": "unstable",
         "stable.1": "stable",
         "stable.2": "stable",
         "A": "A",
         "_deepnote_index_column": 48
        },
        {
         "15": "10",
         "mid": "mid",
         "low": "high",
         "excellent": "good",
         "mid.1": "mid",
         "stable": "unstable",
         "stable.1": "mod-stable",
         "stable.2": "mod-stable",
         "A": "A",
         "_deepnote_index_column": 49
        },
        {
         "15": "10",
         "mid": "low",
         "low": "high",
         "excellent": "excellent",
         "mid.1": "mid",
         "stable": "unstable",
         "stable.1": "stable",
         "stable.2": "stable",
         "A": "A",
         "_deepnote_index_column": 50
        },
        {
         "15": "10",
         "mid": "mid",
         "low": "low",
         "excellent": "excellent",
         "mid.1": "high",
         "stable": "unstable",
         "stable.1": "stable",
         "stable.2": "unstable",
         "A": "A",
         "_deepnote_index_column": 51
        },
        {
         "15": "10",
         "mid": "mid",
         "low": "mid",
         "excellent": "good",
         "mid.1": "mid",
         "stable": "unstable",
         "stable.1": "stable",
         "stable.2": "mod-stable",
         "A": "S",
         "_deepnote_index_column": 52
        },
        {
         "15": "10",
         "mid": "high",
         "low": "high",
         "excellent": "excellent",
         "mid.1": "mid",
         "stable": "unstable",
         "stable.1": "stable",
         "stable.2": "mod-stable",
         "A": "A",
         "_deepnote_index_column": 53
        },
        {
         "15": "15",
         "mid": "mid",
         "low": "mid",
         "excellent": "good",
         "mid.1": "mid",
         "stable": "unstable",
         "stable.1": "stable",
         "stable.2": "stable",
         "A": "A",
         "_deepnote_index_column": 54
        },
        {
         "15": "15",
         "mid": "high",
         "low": "mid",
         "excellent": "good",
         "mid.1": "high",
         "stable": "stable",
         "stable.1": "stable",
         "stable.2": "unstable",
         "A": "A",
         "_deepnote_index_column": 55
        },
        {
         "15": "10",
         "mid": "mid",
         "low": "low",
         "excellent": "good",
         "mid.1": "high",
         "stable": "unstable",
         "stable.1": "stable",
         "stable.2": "mod-stable",
         "A": "A",
         "_deepnote_index_column": 56
        },
        {
         "15": "10",
         "mid": "low",
         "low": "low",
         "excellent": "good",
         "mid.1": "high",
         "stable": "stable",
         "stable.1": "stable",
         "stable.2": "stable",
         "A": "A",
         "_deepnote_index_column": 57
        },
        {
         "15": "10",
         "mid": "mid",
         "low": "high",
         "excellent": "good",
         "mid.1": "mid",
         "stable": "stable",
         "stable.1": "stable",
         "stable.2": "mod-stable",
         "A": "A",
         "_deepnote_index_column": 58
        },
        {
         "15": "10",
         "mid": "mid",
         "low": "high",
         "excellent": "good",
         "mid.1": "mid",
         "stable": "unstable",
         "stable.1": "stable",
         "stable.2": "unstable",
         "A": "A",
         "_deepnote_index_column": 59
        },
        {
         "15": "10",
         "mid": "mid",
         "low": "low",
         "excellent": "excellent",
         "mid.1": "high",
         "stable": "stable",
         "stable.1": "stable",
         "stable.2": "stable",
         "A": "A",
         "_deepnote_index_column": 60
        },
        {
         "15": "10",
         "mid": "mid",
         "low": "mid",
         "excellent": "good",
         "mid.1": "mid",
         "stable": "stable",
         "stable.1": "stable",
         "stable.2": "unstable",
         "A": "A",
         "_deepnote_index_column": 61
        },
        {
         "15": "10",
         "mid": "mid",
         "low": "low",
         "excellent": "excellent",
         "mid.1": "mid",
         "stable": "stable",
         "stable.1": "stable",
         "stable.2": "unstable",
         "A": "S",
         "_deepnote_index_column": 62
        },
        {
         "15": "10",
         "mid": "high",
         "low": "mid",
         "excellent": "excellent",
         "mid.1": "mid",
         "stable": "unstable",
         "stable.1": "unstable",
         "stable.2": "unstable",
         "A": "A",
         "_deepnote_index_column": 63
        },
        {
         "15": "10",
         "mid": "mid",
         "low": "mid",
         "excellent": "good",
         "mid.1": "high",
         "stable": "stable",
         "stable.1": "stable",
         "stable.2": "stable",
         "A": "S",
         "_deepnote_index_column": 64
        },
        {
         "15": "10",
         "mid": "mid",
         "low": "low",
         "excellent": "excellent",
         "mid.1": "mid",
         "stable": "unstable",
         "stable.1": "stable",
         "stable.2": "stable",
         "A": "A",
         "_deepnote_index_column": 65
        },
        {
         "15": "10",
         "mid": "mid",
         "low": "mid",
         "excellent": "excellent",
         "mid.1": "mid",
         "stable": "unstable",
         "stable.1": "stable",
         "stable.2": "stable",
         "A": "A",
         "_deepnote_index_column": 66
        },
        {
         "15": "10",
         "mid": "mid",
         "low": "mid",
         "excellent": "excellent",
         "mid.1": "high",
         "stable": "stable",
         "stable.1": "stable",
         "stable.2": "stable",
         "A": "A",
         "_deepnote_index_column": 67
        },
        {
         "15": "10",
         "mid": "mid",
         "low": "mid",
         "excellent": "excellent",
         "mid.1": "low",
         "stable": "stable",
         "stable.1": "stable",
         "stable.2": "stable",
         "A": "A",
         "_deepnote_index_column": 68
        },
        {
         "15": "?",
         "mid": "mid",
         "low": "low",
         "excellent": "excellent",
         "mid.1": "mid",
         "stable": "unstable",
         "stable.1": "unstable",
         "stable.2": "unstable",
         "A": "A",
         "_deepnote_index_column": 69
        },
        {
         "15": "10",
         "mid": "low",
         "low": "low",
         "excellent": "excellent",
         "mid.1": "mid",
         "stable": "stable",
         "stable.1": "stable",
         "stable.2": "stable",
         "A": "A",
         "_deepnote_index_column": 70
        },
        {
         "15": "10",
         "mid": "mid",
         "low": "mid",
         "excellent": "excellent",
         "mid.1": "mid",
         "stable": "stable",
         "stable.1": "stable",
         "stable.2": "mod-stable",
         "A": "S",
         "_deepnote_index_column": 71
        },
        {
         "15": "10",
         "mid": "mid",
         "low": "mid",
         "excellent": "excellent",
         "mid.1": "high",
         "stable": "stable",
         "stable.1": "stable",
         "stable.2": "stable",
         "A": "A",
         "_deepnote_index_column": 72
        },
        {
         "15": "10",
         "mid": "mid",
         "low": "low",
         "excellent": "excellent",
         "mid.1": "high",
         "stable": "stable",
         "stable.1": "stable",
         "stable.2": "mod-stable",
         "A": "A",
         "_deepnote_index_column": 73
        },
        {
         "15": "10",
         "mid": "low",
         "low": "mid",
         "excellent": "good",
         "mid.1": "mid",
         "stable": "stable",
         "stable.1": "stable",
         "stable.2": "unstable",
         "A": "A",
         "_deepnote_index_column": 74
        },
        {
         "15": "10",
         "mid": "mid",
         "low": "mid",
         "excellent": "excellent",
         "mid.1": "mid",
         "stable": "stable",
         "stable.1": "stable",
         "stable.2": "mod-stable",
         "A": "A",
         "_deepnote_index_column": 75
        },
        {
         "15": "10",
         "mid": "mid",
         "low": "mid",
         "excellent": "excellent",
         "mid.1": "mid",
         "stable": "stable",
         "stable.1": "stable",
         "stable.2": "unstable",
         "A": "A",
         "_deepnote_index_column": 76
        },
        {
         "15": "10",
         "mid": "mid",
         "low": "mid",
         "excellent": "excellent",
         "mid.1": "mid",
         "stable": "unstable",
         "stable.1": "unstable",
         "stable.2": "stable",
         "A": "S",
         "_deepnote_index_column": 77
        },
        {
         "15": "10",
         "mid": "mid",
         "low": "mid",
         "excellent": "good",
         "mid.1": "high",
         "stable": "stable",
         "stable.1": "stable",
         "stable.2": "stable",
         "A": "A",
         "_deepnote_index_column": 78
        },
        {
         "15": "15",
         "mid": "mid",
         "low": "mid",
         "excellent": "excellent",
         "mid.1": "mid",
         "stable": "stable",
         "stable.1": "stable",
         "stable.2": "stable",
         "A": "A",
         "_deepnote_index_column": 79
        },
        {
         "15": "10",
         "mid": "mid",
         "low": "mid",
         "excellent": "excellent",
         "mid.1": "mid",
         "stable": "stable",
         "stable.1": "stable",
         "stable.2": "stable",
         "A": "S",
         "_deepnote_index_column": 80
        },
        {
         "15": "10",
         "mid": "mid",
         "low": "low",
         "excellent": "good",
         "mid.1": "mid",
         "stable": "stable",
         "stable.1": "stable",
         "stable.2": "unstable",
         "A": "I",
         "_deepnote_index_column": 81
        },
        {
         "15": "05",
         "mid": "high",
         "low": "mid",
         "excellent": "excellent",
         "mid.1": "mid",
         "stable": "unstable",
         "stable.1": "stable",
         "stable.2": "unstable",
         "A": "A",
         "_deepnote_index_column": 82
        },
        {
         "15": "10",
         "mid": "mid",
         "low": "mid",
         "excellent": "excellent",
         "mid.1": "mid",
         "stable": "stable",
         "stable.1": "stable",
         "stable.2": "unstable",
         "A": "A",
         "_deepnote_index_column": 83
        },
        {
         "15": "10",
         "mid": "mid",
         "low": "mid",
         "excellent": "excellent",
         "mid.1": "mid",
         "stable": "unstable",
         "stable.1": "stable",
         "stable.2": "stable",
         "A": "A",
         "_deepnote_index_column": 84
        },
        {
         "15": "15",
         "mid": "mid",
         "low": "mid",
         "excellent": "excellent",
         "mid.1": "mid",
         "stable": "unstable",
         "stable.1": "stable",
         "stable.2": "stable",
         "A": "S",
         "_deepnote_index_column": 85
        },
        {
         "15": "15",
         "mid": "mid",
         "low": "mid",
         "excellent": "good",
         "mid.1": "mid",
         "stable": "unstable",
         "stable.1": "stable",
         "stable.2": "stable",
         "A": "A",
         "_deepnote_index_column": 86
        },
        {
         "15": "10",
         "mid": "mid",
         "low": "mid",
         "excellent": "excellent",
         "mid.1": "mid",
         "stable": "unstable",
         "stable.1": "stable",
         "stable.2": "stable",
         "A": "A",
         "_deepnote_index_column": 87
        },
        {
         "15": "15",
         "mid": "mid",
         "low": "mid",
         "excellent": "good",
         "mid.1": "mid",
         "stable": "unstable",
         "stable.1": "stable",
         "stable.2": "stable",
         "A": "S",
         "_deepnote_index_column": 88
        }
       ],
       "rows_bottom": null
      },
      "text/plain": "     mid   low  excellent mid.1    stable  stable.1    stable.2  15   A\n0    mid  high  excellent  high    stable    stable      stable  10   S\n1   high   low  excellent  high    stable    stable  mod-stable  10   A\n2    mid   low       good  high    stable  unstable  mod-stable  15  A \n3    mid   mid  excellent  high    stable    stable      stable  10   A\n4   high   low       good   mid    stable    stable    unstable  15   S\n..   ...   ...        ...   ...       ...       ...         ...  ..  ..\n84   mid   mid  excellent   mid  unstable    stable      stable  10   A\n85   mid   mid  excellent   mid  unstable    stable      stable  15   S\n86   mid   mid       good   mid  unstable    stable      stable  15   A\n87   mid   mid  excellent   mid  unstable    stable      stable  10   A\n88   mid   mid       good   mid  unstable    stable      stable  15   S\n\n[89 rows x 9 columns]",
      "text/html": "<div>\n<style scoped>\n    .dataframe tbody tr th:only-of-type {\n        vertical-align: middle;\n    }\n\n    .dataframe tbody tr th {\n        vertical-align: top;\n    }\n\n    .dataframe thead th {\n        text-align: right;\n    }\n</style>\n<table border=\"1\" class=\"dataframe\">\n  <thead>\n    <tr style=\"text-align: right;\">\n      <th></th>\n      <th>mid</th>\n      <th>low</th>\n      <th>excellent</th>\n      <th>mid.1</th>\n      <th>stable</th>\n      <th>stable.1</th>\n      <th>stable.2</th>\n      <th>15</th>\n      <th>A</th>\n    </tr>\n  </thead>\n  <tbody>\n    <tr>\n      <th>0</th>\n      <td>mid</td>\n      <td>high</td>\n      <td>excellent</td>\n      <td>high</td>\n      <td>stable</td>\n      <td>stable</td>\n      <td>stable</td>\n      <td>10</td>\n      <td>S</td>\n    </tr>\n    <tr>\n      <th>1</th>\n      <td>high</td>\n      <td>low</td>\n      <td>excellent</td>\n      <td>high</td>\n      <td>stable</td>\n      <td>stable</td>\n      <td>mod-stable</td>\n      <td>10</td>\n      <td>A</td>\n    </tr>\n    <tr>\n      <th>2</th>\n      <td>mid</td>\n      <td>low</td>\n      <td>good</td>\n      <td>high</td>\n      <td>stable</td>\n      <td>unstable</td>\n      <td>mod-stable</td>\n      <td>15</td>\n      <td>A</td>\n    </tr>\n    <tr>\n      <th>3</th>\n      <td>mid</td>\n      <td>mid</td>\n      <td>excellent</td>\n      <td>high</td>\n      <td>stable</td>\n      <td>stable</td>\n      <td>stable</td>\n      <td>10</td>\n      <td>A</td>\n    </tr>\n    <tr>\n      <th>4</th>\n      <td>high</td>\n      <td>low</td>\n      <td>good</td>\n      <td>mid</td>\n      <td>stable</td>\n      <td>stable</td>\n      <td>unstable</td>\n      <td>15</td>\n      <td>S</td>\n    </tr>\n    <tr>\n      <th>...</th>\n      <td>...</td>\n      <td>...</td>\n      <td>...</td>\n      <td>...</td>\n      <td>...</td>\n      <td>...</td>\n      <td>...</td>\n      <td>...</td>\n      <td>...</td>\n    </tr>\n    <tr>\n      <th>84</th>\n      <td>mid</td>\n      <td>mid</td>\n      <td>excellent</td>\n      <td>mid</td>\n      <td>unstable</td>\n      <td>stable</td>\n      <td>stable</td>\n      <td>10</td>\n      <td>A</td>\n    </tr>\n    <tr>\n      <th>85</th>\n      <td>mid</td>\n      <td>mid</td>\n      <td>excellent</td>\n      <td>mid</td>\n      <td>unstable</td>\n      <td>stable</td>\n      <td>stable</td>\n      <td>15</td>\n      <td>S</td>\n    </tr>\n    <tr>\n      <th>86</th>\n      <td>mid</td>\n      <td>mid</td>\n      <td>good</td>\n      <td>mid</td>\n      <td>unstable</td>\n      <td>stable</td>\n      <td>stable</td>\n      <td>15</td>\n      <td>A</td>\n    </tr>\n    <tr>\n      <th>87</th>\n      <td>mid</td>\n      <td>mid</td>\n      <td>excellent</td>\n      <td>mid</td>\n      <td>unstable</td>\n      <td>stable</td>\n      <td>stable</td>\n      <td>10</td>\n      <td>A</td>\n    </tr>\n    <tr>\n      <th>88</th>\n      <td>mid</td>\n      <td>mid</td>\n      <td>good</td>\n      <td>mid</td>\n      <td>unstable</td>\n      <td>stable</td>\n      <td>stable</td>\n      <td>15</td>\n      <td>S</td>\n    </tr>\n  </tbody>\n</table>\n<p>89 rows × 9 columns</p>\n</div>"
     },
     "metadata": {}
    }
   ],
   "execution_count": null
  },
  {
   "cell_type": "code",
   "metadata": {
    "tags": [],
    "cell_id": "00036-afe40815-b94c-47fa-80f9-1c6912b59493",
    "deepnote_to_be_reexecuted": false,
    "source_hash": "ade2114c",
    "execution_start": 1639175611781,
    "execution_millis": 29,
    "deepnote_output_heights": [
     21.1875
    ],
    "deepnote_cell_type": "code"
   },
   "source": "post_oper2.columns = ['L-CORE', 'L-SURF', 'L-02', 'L-BP', 'SURF-STBL', 'CORE-STBL', 'BP-STBL', 'COMFORT', 'ADM-DECS']\npost_oper2.loc[89]= ['mid', 'low', 'excellent', 'mid', 'stable', 'stable', 'stable',\n       '15', 'A']\nprint(post_oper2)",
   "outputs": [
    {
     "name": "stdout",
     "text": "   L-CORE L-SURF       L-02  L-BP SURF-STBL CORE-STBL     BP-STBL COMFORT  \\\n0     mid   high  excellent  high    stable    stable      stable      10   \n1    high    low  excellent  high    stable    stable  mod-stable      10   \n2     mid    low       good  high    stable  unstable  mod-stable      15   \n3     mid    mid  excellent  high    stable    stable      stable      10   \n4    high    low       good   mid    stable    stable    unstable      15   \n..    ...    ...        ...   ...       ...       ...         ...     ...   \n85    mid    mid  excellent   mid  unstable    stable      stable      15   \n86    mid    mid       good   mid  unstable    stable      stable      15   \n87    mid    mid  excellent   mid  unstable    stable      stable      10   \n88    mid    mid       good   mid  unstable    stable      stable      15   \n89    mid    low  excellent   mid    stable    stable      stable      15   \n\n   ADM-DECS  \n0         S  \n1         A  \n2        A   \n3         A  \n4         S  \n..      ...  \n85        S  \n86        A  \n87        A  \n88        S  \n89        A  \n\n[90 rows x 9 columns]\n",
     "output_type": "stream"
    }
   ],
   "execution_count": null
  },
  {
   "cell_type": "code",
   "metadata": {
    "tags": [],
    "cell_id": "00037-29396ba8-aed8-4737-9cdc-a8585a83aad9",
    "deepnote_to_be_reexecuted": false,
    "source_hash": "9b1017f6",
    "execution_start": 1639175611861,
    "execution_millis": 50,
    "deepnote_output_heights": [
     611
    ],
    "deepnote_cell_type": "code"
   },
   "source": "post_oper2",
   "outputs": [
    {
     "output_type": "execute_result",
     "execution_count": 20,
     "data": {
      "application/vnd.deepnote.dataframe.v2+json": {
       "row_count": 90,
       "column_count": 9,
       "columns": [
        {
         "name": "L-CORE",
         "dtype": "object",
         "stats": {
          "unique_count": 3,
          "nan_count": 0,
          "categories": [
           {
            "name": "mid",
            "count": 58
           },
           {
            "name": "low",
            "count": 19
           },
           {
            "name": "high",
            "count": 13
           }
          ]
         }
        },
        {
         "name": "L-SURF",
         "dtype": "object",
         "stats": {
          "unique_count": 3,
          "nan_count": 0,
          "categories": [
           {
            "name": "mid",
            "count": 48
           },
           {
            "name": "low",
            "count": 25
           },
           {
            "name": "high",
            "count": 17
           }
          ]
         }
        },
        {
         "name": "L-02",
         "dtype": "object",
         "stats": {
          "unique_count": 2,
          "nan_count": 0,
          "categories": [
           {
            "name": "good",
            "count": 47
           },
           {
            "name": "excellent",
            "count": 43
           }
          ]
         }
        },
        {
         "name": "L-BP",
         "dtype": "object",
         "stats": {
          "unique_count": 3,
          "nan_count": 0,
          "categories": [
           {
            "name": "mid",
            "count": 57
           },
           {
            "name": "high",
            "count": 30
           },
           {
            "name": "low",
            "count": 3
           }
          ]
         }
        },
        {
         "name": "SURF-STBL",
         "dtype": "object",
         "stats": {
          "unique_count": 2,
          "nan_count": 0,
          "categories": [
           {
            "name": "stable",
            "count": 45
           },
           {
            "name": "unstable",
            "count": 45
           }
          ]
         }
        },
        {
         "name": "CORE-STBL",
         "dtype": "object",
         "stats": {
          "unique_count": 3,
          "nan_count": 0,
          "categories": [
           {
            "name": "stable",
            "count": 83
           },
           {
            "name": "unstable",
            "count": 6
           },
           {
            "name": "mod-stable",
            "count": 1
           }
          ]
         }
        },
        {
         "name": "BP-STBL",
         "dtype": "object",
         "stats": {
          "unique_count": 3,
          "nan_count": 0,
          "categories": [
           {
            "name": "stable",
            "count": 46
           },
           {
            "name": "unstable",
            "count": 23
           },
           {
            "name": "mod-stable",
            "count": 21
           }
          ]
         }
        },
        {
         "name": "COMFORT",
         "dtype": "object",
         "stats": {
          "unique_count": 5,
          "nan_count": 0,
          "categories": [
           {
            "name": "10",
            "count": 65
           },
           {
            "name": "15",
            "count": 19
           },
           {
            "name": "3 others",
            "count": 6
           }
          ]
         }
        },
        {
         "name": "ADM-DECS",
         "dtype": "object",
         "stats": {
          "unique_count": 4,
          "nan_count": 0,
          "categories": [
           {
            "name": "A",
            "count": 63
           },
           {
            "name": "S",
            "count": 24
           },
           {
            "name": "2 others",
            "count": 3
           }
          ]
         }
        },
        {
         "name": "_deepnote_index_column",
         "dtype": "int64"
        }
       ],
       "rows_top": [
        {
         "L-CORE": "mid",
         "L-SURF": "high",
         "L-02": "excellent",
         "L-BP": "high",
         "SURF-STBL": "stable",
         "CORE-STBL": "stable",
         "BP-STBL": "stable",
         "COMFORT": "10",
         "ADM-DECS": "S",
         "_deepnote_index_column": 0
        },
        {
         "L-CORE": "high",
         "L-SURF": "low",
         "L-02": "excellent",
         "L-BP": "high",
         "SURF-STBL": "stable",
         "CORE-STBL": "stable",
         "BP-STBL": "mod-stable",
         "COMFORT": "10",
         "ADM-DECS": "A",
         "_deepnote_index_column": 1
        },
        {
         "L-CORE": "mid",
         "L-SURF": "low",
         "L-02": "good",
         "L-BP": "high",
         "SURF-STBL": "stable",
         "CORE-STBL": "unstable",
         "BP-STBL": "mod-stable",
         "COMFORT": "15",
         "ADM-DECS": "A ",
         "_deepnote_index_column": 2
        },
        {
         "L-CORE": "mid",
         "L-SURF": "mid",
         "L-02": "excellent",
         "L-BP": "high",
         "SURF-STBL": "stable",
         "CORE-STBL": "stable",
         "BP-STBL": "stable",
         "COMFORT": "10",
         "ADM-DECS": "A",
         "_deepnote_index_column": 3
        },
        {
         "L-CORE": "high",
         "L-SURF": "low",
         "L-02": "good",
         "L-BP": "mid",
         "SURF-STBL": "stable",
         "CORE-STBL": "stable",
         "BP-STBL": "unstable",
         "COMFORT": "15",
         "ADM-DECS": "S",
         "_deepnote_index_column": 4
        },
        {
         "L-CORE": "mid",
         "L-SURF": "low",
         "L-02": "excellent",
         "L-BP": "high",
         "SURF-STBL": "stable",
         "CORE-STBL": "stable",
         "BP-STBL": "mod-stable",
         "COMFORT": "05",
         "ADM-DECS": "S",
         "_deepnote_index_column": 5
        },
        {
         "L-CORE": "high",
         "L-SURF": "mid",
         "L-02": "excellent",
         "L-BP": "mid",
         "SURF-STBL": "unstable",
         "CORE-STBL": "unstable",
         "BP-STBL": "stable",
         "COMFORT": "10",
         "ADM-DECS": "S",
         "_deepnote_index_column": 6
        },
        {
         "L-CORE": "mid",
         "L-SURF": "high",
         "L-02": "good",
         "L-BP": "mid",
         "SURF-STBL": "stable",
         "CORE-STBL": "stable",
         "BP-STBL": "stable",
         "COMFORT": "10",
         "ADM-DECS": "S",
         "_deepnote_index_column": 7
        },
        {
         "L-CORE": "mid",
         "L-SURF": "low",
         "L-02": "excellent",
         "L-BP": "mid",
         "SURF-STBL": "unstable",
         "CORE-STBL": "stable",
         "BP-STBL": "mod-stable",
         "COMFORT": "10",
         "ADM-DECS": "S",
         "_deepnote_index_column": 8
        },
        {
         "L-CORE": "mid",
         "L-SURF": "mid",
         "L-02": "good",
         "L-BP": "mid",
         "SURF-STBL": "stable",
         "CORE-STBL": "stable",
         "BP-STBL": "stable",
         "COMFORT": "15",
         "ADM-DECS": "A",
         "_deepnote_index_column": 9
        },
        {
         "L-CORE": "mid",
         "L-SURF": "low",
         "L-02": "good",
         "L-BP": "high",
         "SURF-STBL": "stable",
         "CORE-STBL": "stable",
         "BP-STBL": "mod-stable",
         "COMFORT": "10",
         "ADM-DECS": "A",
         "_deepnote_index_column": 10
        },
        {
         "L-CORE": "high",
         "L-SURF": "high",
         "L-02": "excellent",
         "L-BP": "high",
         "SURF-STBL": "unstable",
         "CORE-STBL": "stable",
         "BP-STBL": "unstable",
         "COMFORT": "15",
         "ADM-DECS": "A",
         "_deepnote_index_column": 11
        },
        {
         "L-CORE": "mid",
         "L-SURF": "high",
         "L-02": "good",
         "L-BP": "mid",
         "SURF-STBL": "unstable",
         "CORE-STBL": "stable",
         "BP-STBL": "mod-stable",
         "COMFORT": "10",
         "ADM-DECS": "A",
         "_deepnote_index_column": 12
        },
        {
         "L-CORE": "mid",
         "L-SURF": "low",
         "L-02": "good",
         "L-BP": "high",
         "SURF-STBL": "unstable",
         "CORE-STBL": "unstable",
         "BP-STBL": "stable",
         "COMFORT": "15",
         "ADM-DECS": "S",
         "_deepnote_index_column": 13
        },
        {
         "L-CORE": "high",
         "L-SURF": "high",
         "L-02": "excellent",
         "L-BP": "high",
         "SURF-STBL": "unstable",
         "CORE-STBL": "stable",
         "BP-STBL": "unstable",
         "COMFORT": "10",
         "ADM-DECS": "A",
         "_deepnote_index_column": 14
        },
        {
         "L-CORE": "low",
         "L-SURF": "high",
         "L-02": "good",
         "L-BP": "high",
         "SURF-STBL": "unstable",
         "CORE-STBL": "stable",
         "BP-STBL": "mod-stable",
         "COMFORT": "15",
         "ADM-DECS": "A",
         "_deepnote_index_column": 15
        },
        {
         "L-CORE": "mid",
         "L-SURF": "low",
         "L-02": "good",
         "L-BP": "high",
         "SURF-STBL": "unstable",
         "CORE-STBL": "stable",
         "BP-STBL": "stable",
         "COMFORT": "10",
         "ADM-DECS": "A",
         "_deepnote_index_column": 16
        },
        {
         "L-CORE": "mid",
         "L-SURF": "high",
         "L-02": "good",
         "L-BP": "mid",
         "SURF-STBL": "unstable",
         "CORE-STBL": "stable",
         "BP-STBL": "unstable",
         "COMFORT": "15",
         "ADM-DECS": "A",
         "_deepnote_index_column": 17
        },
        {
         "L-CORE": "mid",
         "L-SURF": "mid",
         "L-02": "good",
         "L-BP": "mid",
         "SURF-STBL": "stable",
         "CORE-STBL": "stable",
         "BP-STBL": "stable",
         "COMFORT": "10",
         "ADM-DECS": "A",
         "_deepnote_index_column": 18
        },
        {
         "L-CORE": "low",
         "L-SURF": "high",
         "L-02": "good",
         "L-BP": "mid",
         "SURF-STBL": "unstable",
         "CORE-STBL": "stable",
         "BP-STBL": "stable",
         "COMFORT": "15",
         "ADM-DECS": "A",
         "_deepnote_index_column": 19
        },
        {
         "L-CORE": "low",
         "L-SURF": "mid",
         "L-02": "excellent",
         "L-BP": "high",
         "SURF-STBL": "unstable",
         "CORE-STBL": "stable",
         "BP-STBL": "unstable",
         "COMFORT": "10",
         "ADM-DECS": "S",
         "_deepnote_index_column": 20
        },
        {
         "L-CORE": "mid",
         "L-SURF": "mid",
         "L-02": "good",
         "L-BP": "mid",
         "SURF-STBL": "unstable",
         "CORE-STBL": "stable",
         "BP-STBL": "unstable",
         "COMFORT": "15",
         "ADM-DECS": "A",
         "_deepnote_index_column": 21
        },
        {
         "L-CORE": "mid",
         "L-SURF": "mid",
         "L-02": "good",
         "L-BP": "mid",
         "SURF-STBL": "unstable",
         "CORE-STBL": "stable",
         "BP-STBL": "stable",
         "COMFORT": "10",
         "ADM-DECS": "A",
         "_deepnote_index_column": 22
        },
        {
         "L-CORE": "high",
         "L-SURF": "high",
         "L-02": "good",
         "L-BP": "mid",
         "SURF-STBL": "stable",
         "CORE-STBL": "stable",
         "BP-STBL": "mod-stable",
         "COMFORT": "10",
         "ADM-DECS": "A",
         "_deepnote_index_column": 23
        },
        {
         "L-CORE": "low",
         "L-SURF": "mid",
         "L-02": "good",
         "L-BP": "mid",
         "SURF-STBL": "unstable",
         "CORE-STBL": "stable",
         "BP-STBL": "stable",
         "COMFORT": "10",
         "ADM-DECS": "A",
         "_deepnote_index_column": 24
        },
        {
         "L-CORE": "high",
         "L-SURF": "mid",
         "L-02": "good",
         "L-BP": "low",
         "SURF-STBL": "stable",
         "CORE-STBL": "stable",
         "BP-STBL": "mod-stable",
         "COMFORT": "10",
         "ADM-DECS": "A",
         "_deepnote_index_column": 25
        },
        {
         "L-CORE": "low",
         "L-SURF": "mid",
         "L-02": "excellent",
         "L-BP": "high",
         "SURF-STBL": "stable",
         "CORE-STBL": "stable",
         "BP-STBL": "mod-stable",
         "COMFORT": "10",
         "ADM-DECS": "A",
         "_deepnote_index_column": 26
        },
        {
         "L-CORE": "mid",
         "L-SURF": "mid",
         "L-02": "excellent",
         "L-BP": "mid",
         "SURF-STBL": "stable",
         "CORE-STBL": "stable",
         "BP-STBL": "unstable",
         "COMFORT": "15",
         "ADM-DECS": "A",
         "_deepnote_index_column": 27
        },
        {
         "L-CORE": "mid",
         "L-SURF": "mid",
         "L-02": "good",
         "L-BP": "mid",
         "SURF-STBL": "unstable",
         "CORE-STBL": "stable",
         "BP-STBL": "unstable",
         "COMFORT": "10",
         "ADM-DECS": "S",
         "_deepnote_index_column": 28
        },
        {
         "L-CORE": "mid",
         "L-SURF": "mid",
         "L-02": "good",
         "L-BP": "high",
         "SURF-STBL": "unstable",
         "CORE-STBL": "stable",
         "BP-STBL": "stable",
         "COMFORT": "10",
         "ADM-DECS": "A",
         "_deepnote_index_column": 29
        },
        {
         "L-CORE": "low",
         "L-SURF": "low",
         "L-02": "good",
         "L-BP": "mid",
         "SURF-STBL": "unstable",
         "CORE-STBL": "stable",
         "BP-STBL": "unstable",
         "COMFORT": "10",
         "ADM-DECS": "A",
         "_deepnote_index_column": 30
        },
        {
         "L-CORE": "mid",
         "L-SURF": "mid",
         "L-02": "excellent",
         "L-BP": "high",
         "SURF-STBL": "unstable",
         "CORE-STBL": "stable",
         "BP-STBL": "mod-stable",
         "COMFORT": "10",
         "ADM-DECS": "A",
         "_deepnote_index_column": 31
        },
        {
         "L-CORE": "mid",
         "L-SURF": "low",
         "L-02": "good",
         "L-BP": "mid",
         "SURF-STBL": "stable",
         "CORE-STBL": "stable",
         "BP-STBL": "stable",
         "COMFORT": "10",
         "ADM-DECS": "A",
         "_deepnote_index_column": 32
        },
        {
         "L-CORE": "low",
         "L-SURF": "mid",
         "L-02": "excellent",
         "L-BP": "high",
         "SURF-STBL": "stable",
         "CORE-STBL": "stable",
         "BP-STBL": "mod-stable",
         "COMFORT": "10",
         "ADM-DECS": "A",
         "_deepnote_index_column": 33
        },
        {
         "L-CORE": "mid",
         "L-SURF": "mid",
         "L-02": "good",
         "L-BP": "mid",
         "SURF-STBL": "stable",
         "CORE-STBL": "stable",
         "BP-STBL": "stable",
         "COMFORT": "10",
         "ADM-DECS": "A",
         "_deepnote_index_column": 34
        },
        {
         "L-CORE": "low",
         "L-SURF": "mid",
         "L-02": "excellent",
         "L-BP": "mid",
         "SURF-STBL": "stable",
         "CORE-STBL": "stable",
         "BP-STBL": "stable",
         "COMFORT": "10",
         "ADM-DECS": "S",
         "_deepnote_index_column": 35
        },
        {
         "L-CORE": "low",
         "L-SURF": "low",
         "L-02": "good",
         "L-BP": "mid",
         "SURF-STBL": "unstable",
         "CORE-STBL": "stable",
         "BP-STBL": "unstable",
         "COMFORT": "10",
         "ADM-DECS": "S",
         "_deepnote_index_column": 36
        },
        {
         "L-CORE": "low",
         "L-SURF": "low",
         "L-02": "good",
         "L-BP": "mid",
         "SURF-STBL": "stable",
         "CORE-STBL": "stable",
         "BP-STBL": "stable",
         "COMFORT": "07",
         "ADM-DECS": "S",
         "_deepnote_index_column": 37
        },
        {
         "L-CORE": "mid",
         "L-SURF": "mid",
         "L-02": "good",
         "L-BP": "high",
         "SURF-STBL": "unstable",
         "CORE-STBL": "stable",
         "BP-STBL": "mod-stable",
         "COMFORT": "10",
         "ADM-DECS": "A",
         "_deepnote_index_column": 38
        },
        {
         "L-CORE": "low",
         "L-SURF": "low",
         "L-02": "good",
         "L-BP": "mid",
         "SURF-STBL": "unstable",
         "CORE-STBL": "stable",
         "BP-STBL": "stable",
         "COMFORT": "10",
         "ADM-DECS": "A",
         "_deepnote_index_column": 39
        },
        {
         "L-CORE": "low",
         "L-SURF": "mid",
         "L-02": "good",
         "L-BP": "mid",
         "SURF-STBL": "stable",
         "CORE-STBL": "stable",
         "BP-STBL": "stable",
         "COMFORT": "15",
         "ADM-DECS": "S",
         "_deepnote_index_column": 40
        },
        {
         "L-CORE": "high",
         "L-SURF": "high",
         "L-02": "good",
         "L-BP": "high",
         "SURF-STBL": "unstable",
         "CORE-STBL": "stable",
         "BP-STBL": "stable",
         "COMFORT": "15",
         "ADM-DECS": "S",
         "_deepnote_index_column": 41
        },
        {
         "L-CORE": "mid",
         "L-SURF": "mid",
         "L-02": "good",
         "L-BP": "mid",
         "SURF-STBL": "stable",
         "CORE-STBL": "stable",
         "BP-STBL": "stable",
         "COMFORT": "10",
         "ADM-DECS": "S",
         "_deepnote_index_column": 42
        },
        {
         "L-CORE": "low",
         "L-SURF": "low",
         "L-02": "excellent",
         "L-BP": "mid",
         "SURF-STBL": "stable",
         "CORE-STBL": "stable",
         "BP-STBL": "stable",
         "COMFORT": "10",
         "ADM-DECS": "A",
         "_deepnote_index_column": 43
        },
        {
         "L-CORE": "low",
         "L-SURF": "mid",
         "L-02": "good",
         "L-BP": "mid",
         "SURF-STBL": "unstable",
         "CORE-STBL": "stable",
         "BP-STBL": "stable",
         "COMFORT": "10",
         "ADM-DECS": "S",
         "_deepnote_index_column": 44
        },
        {
         "L-CORE": "low",
         "L-SURF": "mid",
         "L-02": "good",
         "L-BP": "high",
         "SURF-STBL": "unstable",
         "CORE-STBL": "stable",
         "BP-STBL": "stable",
         "COMFORT": "?",
         "ADM-DECS": "I",
         "_deepnote_index_column": 45
        },
        {
         "L-CORE": "mid",
         "L-SURF": "mid",
         "L-02": "excellent",
         "L-BP": "mid",
         "SURF-STBL": "unstable",
         "CORE-STBL": "stable",
         "BP-STBL": "stable",
         "COMFORT": "10",
         "ADM-DECS": "A",
         "_deepnote_index_column": 46
        },
        {
         "L-CORE": "high",
         "L-SURF": "high",
         "L-02": "excellent",
         "L-BP": "high",
         "SURF-STBL": "stable",
         "CORE-STBL": "stable",
         "BP-STBL": "unstable",
         "COMFORT": "?",
         "ADM-DECS": "A",
         "_deepnote_index_column": 47
        },
        {
         "L-CORE": "mid",
         "L-SURF": "high",
         "L-02": "good",
         "L-BP": "low",
         "SURF-STBL": "unstable",
         "CORE-STBL": "stable",
         "BP-STBL": "stable",
         "COMFORT": "10",
         "ADM-DECS": "A",
         "_deepnote_index_column": 48
        },
        {
         "L-CORE": "mid",
         "L-SURF": "high",
         "L-02": "good",
         "L-BP": "mid",
         "SURF-STBL": "unstable",
         "CORE-STBL": "mod-stable",
         "BP-STBL": "mod-stable",
         "COMFORT": "10",
         "ADM-DECS": "A",
         "_deepnote_index_column": 49
        },
        {
         "L-CORE": "low",
         "L-SURF": "high",
         "L-02": "excellent",
         "L-BP": "mid",
         "SURF-STBL": "unstable",
         "CORE-STBL": "stable",
         "BP-STBL": "stable",
         "COMFORT": "10",
         "ADM-DECS": "A",
         "_deepnote_index_column": 50
        },
        {
         "L-CORE": "mid",
         "L-SURF": "low",
         "L-02": "excellent",
         "L-BP": "high",
         "SURF-STBL": "unstable",
         "CORE-STBL": "stable",
         "BP-STBL": "unstable",
         "COMFORT": "10",
         "ADM-DECS": "A",
         "_deepnote_index_column": 51
        },
        {
         "L-CORE": "mid",
         "L-SURF": "mid",
         "L-02": "good",
         "L-BP": "mid",
         "SURF-STBL": "unstable",
         "CORE-STBL": "stable",
         "BP-STBL": "mod-stable",
         "COMFORT": "10",
         "ADM-DECS": "S",
         "_deepnote_index_column": 52
        },
        {
         "L-CORE": "high",
         "L-SURF": "high",
         "L-02": "excellent",
         "L-BP": "mid",
         "SURF-STBL": "unstable",
         "CORE-STBL": "stable",
         "BP-STBL": "mod-stable",
         "COMFORT": "10",
         "ADM-DECS": "A",
         "_deepnote_index_column": 53
        },
        {
         "L-CORE": "mid",
         "L-SURF": "mid",
         "L-02": "good",
         "L-BP": "mid",
         "SURF-STBL": "unstable",
         "CORE-STBL": "stable",
         "BP-STBL": "stable",
         "COMFORT": "15",
         "ADM-DECS": "A",
         "_deepnote_index_column": 54
        },
        {
         "L-CORE": "high",
         "L-SURF": "mid",
         "L-02": "good",
         "L-BP": "high",
         "SURF-STBL": "stable",
         "CORE-STBL": "stable",
         "BP-STBL": "unstable",
         "COMFORT": "15",
         "ADM-DECS": "A",
         "_deepnote_index_column": 55
        },
        {
         "L-CORE": "mid",
         "L-SURF": "low",
         "L-02": "good",
         "L-BP": "high",
         "SURF-STBL": "unstable",
         "CORE-STBL": "stable",
         "BP-STBL": "mod-stable",
         "COMFORT": "10",
         "ADM-DECS": "A",
         "_deepnote_index_column": 56
        },
        {
         "L-CORE": "low",
         "L-SURF": "low",
         "L-02": "good",
         "L-BP": "high",
         "SURF-STBL": "stable",
         "CORE-STBL": "stable",
         "BP-STBL": "stable",
         "COMFORT": "10",
         "ADM-DECS": "A",
         "_deepnote_index_column": 57
        },
        {
         "L-CORE": "mid",
         "L-SURF": "high",
         "L-02": "good",
         "L-BP": "mid",
         "SURF-STBL": "stable",
         "CORE-STBL": "stable",
         "BP-STBL": "mod-stable",
         "COMFORT": "10",
         "ADM-DECS": "A",
         "_deepnote_index_column": 58
        },
        {
         "L-CORE": "mid",
         "L-SURF": "high",
         "L-02": "good",
         "L-BP": "mid",
         "SURF-STBL": "unstable",
         "CORE-STBL": "stable",
         "BP-STBL": "unstable",
         "COMFORT": "10",
         "ADM-DECS": "A",
         "_deepnote_index_column": 59
        },
        {
         "L-CORE": "mid",
         "L-SURF": "low",
         "L-02": "excellent",
         "L-BP": "high",
         "SURF-STBL": "stable",
         "CORE-STBL": "stable",
         "BP-STBL": "stable",
         "COMFORT": "10",
         "ADM-DECS": "A",
         "_deepnote_index_column": 60
        },
        {
         "L-CORE": "mid",
         "L-SURF": "mid",
         "L-02": "good",
         "L-BP": "mid",
         "SURF-STBL": "stable",
         "CORE-STBL": "stable",
         "BP-STBL": "unstable",
         "COMFORT": "10",
         "ADM-DECS": "A",
         "_deepnote_index_column": 61
        },
        {
         "L-CORE": "mid",
         "L-SURF": "low",
         "L-02": "excellent",
         "L-BP": "mid",
         "SURF-STBL": "stable",
         "CORE-STBL": "stable",
         "BP-STBL": "unstable",
         "COMFORT": "10",
         "ADM-DECS": "S",
         "_deepnote_index_column": 62
        },
        {
         "L-CORE": "high",
         "L-SURF": "mid",
         "L-02": "excellent",
         "L-BP": "mid",
         "SURF-STBL": "unstable",
         "CORE-STBL": "unstable",
         "BP-STBL": "unstable",
         "COMFORT": "10",
         "ADM-DECS": "A",
         "_deepnote_index_column": 63
        },
        {
         "L-CORE": "mid",
         "L-SURF": "mid",
         "L-02": "good",
         "L-BP": "high",
         "SURF-STBL": "stable",
         "CORE-STBL": "stable",
         "BP-STBL": "stable",
         "COMFORT": "10",
         "ADM-DECS": "S",
         "_deepnote_index_column": 64
        },
        {
         "L-CORE": "mid",
         "L-SURF": "low",
         "L-02": "excellent",
         "L-BP": "mid",
         "SURF-STBL": "unstable",
         "CORE-STBL": "stable",
         "BP-STBL": "stable",
         "COMFORT": "10",
         "ADM-DECS": "A",
         "_deepnote_index_column": 65
        },
        {
         "L-CORE": "mid",
         "L-SURF": "mid",
         "L-02": "excellent",
         "L-BP": "mid",
         "SURF-STBL": "unstable",
         "CORE-STBL": "stable",
         "BP-STBL": "stable",
         "COMFORT": "10",
         "ADM-DECS": "A",
         "_deepnote_index_column": 66
        },
        {
         "L-CORE": "mid",
         "L-SURF": "mid",
         "L-02": "excellent",
         "L-BP": "high",
         "SURF-STBL": "stable",
         "CORE-STBL": "stable",
         "BP-STBL": "stable",
         "COMFORT": "10",
         "ADM-DECS": "A",
         "_deepnote_index_column": 67
        },
        {
         "L-CORE": "mid",
         "L-SURF": "mid",
         "L-02": "excellent",
         "L-BP": "low",
         "SURF-STBL": "stable",
         "CORE-STBL": "stable",
         "BP-STBL": "stable",
         "COMFORT": "10",
         "ADM-DECS": "A",
         "_deepnote_index_column": 68
        },
        {
         "L-CORE": "mid",
         "L-SURF": "low",
         "L-02": "excellent",
         "L-BP": "mid",
         "SURF-STBL": "unstable",
         "CORE-STBL": "unstable",
         "BP-STBL": "unstable",
         "COMFORT": "?",
         "ADM-DECS": "A",
         "_deepnote_index_column": 69
        },
        {
         "L-CORE": "low",
         "L-SURF": "low",
         "L-02": "excellent",
         "L-BP": "mid",
         "SURF-STBL": "stable",
         "CORE-STBL": "stable",
         "BP-STBL": "stable",
         "COMFORT": "10",
         "ADM-DECS": "A",
         "_deepnote_index_column": 70
        },
        {
         "L-CORE": "mid",
         "L-SURF": "mid",
         "L-02": "excellent",
         "L-BP": "mid",
         "SURF-STBL": "stable",
         "CORE-STBL": "stable",
         "BP-STBL": "mod-stable",
         "COMFORT": "10",
         "ADM-DECS": "S",
         "_deepnote_index_column": 71
        },
        {
         "L-CORE": "mid",
         "L-SURF": "mid",
         "L-02": "excellent",
         "L-BP": "high",
         "SURF-STBL": "stable",
         "CORE-STBL": "stable",
         "BP-STBL": "stable",
         "COMFORT": "10",
         "ADM-DECS": "A",
         "_deepnote_index_column": 72
        },
        {
         "L-CORE": "mid",
         "L-SURF": "low",
         "L-02": "excellent",
         "L-BP": "high",
         "SURF-STBL": "stable",
         "CORE-STBL": "stable",
         "BP-STBL": "mod-stable",
         "COMFORT": "10",
         "ADM-DECS": "A",
         "_deepnote_index_column": 73
        },
        {
         "L-CORE": "low",
         "L-SURF": "mid",
         "L-02": "good",
         "L-BP": "mid",
         "SURF-STBL": "stable",
         "CORE-STBL": "stable",
         "BP-STBL": "unstable",
         "COMFORT": "10",
         "ADM-DECS": "A",
         "_deepnote_index_column": 74
        },
        {
         "L-CORE": "mid",
         "L-SURF": "mid",
         "L-02": "excellent",
         "L-BP": "mid",
         "SURF-STBL": "stable",
         "CORE-STBL": "stable",
         "BP-STBL": "mod-stable",
         "COMFORT": "10",
         "ADM-DECS": "A",
         "_deepnote_index_column": 75
        },
        {
         "L-CORE": "mid",
         "L-SURF": "mid",
         "L-02": "excellent",
         "L-BP": "mid",
         "SURF-STBL": "stable",
         "CORE-STBL": "stable",
         "BP-STBL": "unstable",
         "COMFORT": "10",
         "ADM-DECS": "A",
         "_deepnote_index_column": 76
        },
        {
         "L-CORE": "mid",
         "L-SURF": "mid",
         "L-02": "excellent",
         "L-BP": "mid",
         "SURF-STBL": "unstable",
         "CORE-STBL": "unstable",
         "BP-STBL": "stable",
         "COMFORT": "10",
         "ADM-DECS": "S",
         "_deepnote_index_column": 77
        },
        {
         "L-CORE": "mid",
         "L-SURF": "mid",
         "L-02": "good",
         "L-BP": "high",
         "SURF-STBL": "stable",
         "CORE-STBL": "stable",
         "BP-STBL": "stable",
         "COMFORT": "10",
         "ADM-DECS": "A",
         "_deepnote_index_column": 78
        },
        {
         "L-CORE": "mid",
         "L-SURF": "mid",
         "L-02": "excellent",
         "L-BP": "mid",
         "SURF-STBL": "stable",
         "CORE-STBL": "stable",
         "BP-STBL": "stable",
         "COMFORT": "15",
         "ADM-DECS": "A",
         "_deepnote_index_column": 79
        },
        {
         "L-CORE": "mid",
         "L-SURF": "mid",
         "L-02": "excellent",
         "L-BP": "mid",
         "SURF-STBL": "stable",
         "CORE-STBL": "stable",
         "BP-STBL": "stable",
         "COMFORT": "10",
         "ADM-DECS": "S",
         "_deepnote_index_column": 80
        },
        {
         "L-CORE": "mid",
         "L-SURF": "low",
         "L-02": "good",
         "L-BP": "mid",
         "SURF-STBL": "stable",
         "CORE-STBL": "stable",
         "BP-STBL": "unstable",
         "COMFORT": "10",
         "ADM-DECS": "I",
         "_deepnote_index_column": 81
        },
        {
         "L-CORE": "high",
         "L-SURF": "mid",
         "L-02": "excellent",
         "L-BP": "mid",
         "SURF-STBL": "unstable",
         "CORE-STBL": "stable",
         "BP-STBL": "unstable",
         "COMFORT": "05",
         "ADM-DECS": "A",
         "_deepnote_index_column": 82
        },
        {
         "L-CORE": "mid",
         "L-SURF": "mid",
         "L-02": "excellent",
         "L-BP": "mid",
         "SURF-STBL": "stable",
         "CORE-STBL": "stable",
         "BP-STBL": "unstable",
         "COMFORT": "10",
         "ADM-DECS": "A",
         "_deepnote_index_column": 83
        },
        {
         "L-CORE": "mid",
         "L-SURF": "mid",
         "L-02": "excellent",
         "L-BP": "mid",
         "SURF-STBL": "unstable",
         "CORE-STBL": "stable",
         "BP-STBL": "stable",
         "COMFORT": "10",
         "ADM-DECS": "A",
         "_deepnote_index_column": 84
        },
        {
         "L-CORE": "mid",
         "L-SURF": "mid",
         "L-02": "excellent",
         "L-BP": "mid",
         "SURF-STBL": "unstable",
         "CORE-STBL": "stable",
         "BP-STBL": "stable",
         "COMFORT": "15",
         "ADM-DECS": "S",
         "_deepnote_index_column": 85
        },
        {
         "L-CORE": "mid",
         "L-SURF": "mid",
         "L-02": "good",
         "L-BP": "mid",
         "SURF-STBL": "unstable",
         "CORE-STBL": "stable",
         "BP-STBL": "stable",
         "COMFORT": "15",
         "ADM-DECS": "A",
         "_deepnote_index_column": 86
        },
        {
         "L-CORE": "mid",
         "L-SURF": "mid",
         "L-02": "excellent",
         "L-BP": "mid",
         "SURF-STBL": "unstable",
         "CORE-STBL": "stable",
         "BP-STBL": "stable",
         "COMFORT": "10",
         "ADM-DECS": "A",
         "_deepnote_index_column": 87
        },
        {
         "L-CORE": "mid",
         "L-SURF": "mid",
         "L-02": "good",
         "L-BP": "mid",
         "SURF-STBL": "unstable",
         "CORE-STBL": "stable",
         "BP-STBL": "stable",
         "COMFORT": "15",
         "ADM-DECS": "S",
         "_deepnote_index_column": 88
        },
        {
         "L-CORE": "mid",
         "L-SURF": "low",
         "L-02": "excellent",
         "L-BP": "mid",
         "SURF-STBL": "stable",
         "CORE-STBL": "stable",
         "BP-STBL": "stable",
         "COMFORT": "15",
         "ADM-DECS": "A",
         "_deepnote_index_column": 89
        }
       ],
       "rows_bottom": null
      },
      "text/plain": "   L-CORE L-SURF       L-02  L-BP SURF-STBL CORE-STBL     BP-STBL COMFORT  \\\n0     mid   high  excellent  high    stable    stable      stable      10   \n1    high    low  excellent  high    stable    stable  mod-stable      10   \n2     mid    low       good  high    stable  unstable  mod-stable      15   \n3     mid    mid  excellent  high    stable    stable      stable      10   \n4    high    low       good   mid    stable    stable    unstable      15   \n..    ...    ...        ...   ...       ...       ...         ...     ...   \n85    mid    mid  excellent   mid  unstable    stable      stable      15   \n86    mid    mid       good   mid  unstable    stable      stable      15   \n87    mid    mid  excellent   mid  unstable    stable      stable      10   \n88    mid    mid       good   mid  unstable    stable      stable      15   \n89    mid    low  excellent   mid    stable    stable      stable      15   \n\n   ADM-DECS  \n0         S  \n1         A  \n2        A   \n3         A  \n4         S  \n..      ...  \n85        S  \n86        A  \n87        A  \n88        S  \n89        A  \n\n[90 rows x 9 columns]",
      "text/html": "<div>\n<style scoped>\n    .dataframe tbody tr th:only-of-type {\n        vertical-align: middle;\n    }\n\n    .dataframe tbody tr th {\n        vertical-align: top;\n    }\n\n    .dataframe thead th {\n        text-align: right;\n    }\n</style>\n<table border=\"1\" class=\"dataframe\">\n  <thead>\n    <tr style=\"text-align: right;\">\n      <th></th>\n      <th>L-CORE</th>\n      <th>L-SURF</th>\n      <th>L-02</th>\n      <th>L-BP</th>\n      <th>SURF-STBL</th>\n      <th>CORE-STBL</th>\n      <th>BP-STBL</th>\n      <th>COMFORT</th>\n      <th>ADM-DECS</th>\n    </tr>\n  </thead>\n  <tbody>\n    <tr>\n      <th>0</th>\n      <td>mid</td>\n      <td>high</td>\n      <td>excellent</td>\n      <td>high</td>\n      <td>stable</td>\n      <td>stable</td>\n      <td>stable</td>\n      <td>10</td>\n      <td>S</td>\n    </tr>\n    <tr>\n      <th>1</th>\n      <td>high</td>\n      <td>low</td>\n      <td>excellent</td>\n      <td>high</td>\n      <td>stable</td>\n      <td>stable</td>\n      <td>mod-stable</td>\n      <td>10</td>\n      <td>A</td>\n    </tr>\n    <tr>\n      <th>2</th>\n      <td>mid</td>\n      <td>low</td>\n      <td>good</td>\n      <td>high</td>\n      <td>stable</td>\n      <td>unstable</td>\n      <td>mod-stable</td>\n      <td>15</td>\n      <td>A</td>\n    </tr>\n    <tr>\n      <th>3</th>\n      <td>mid</td>\n      <td>mid</td>\n      <td>excellent</td>\n      <td>high</td>\n      <td>stable</td>\n      <td>stable</td>\n      <td>stable</td>\n      <td>10</td>\n      <td>A</td>\n    </tr>\n    <tr>\n      <th>4</th>\n      <td>high</td>\n      <td>low</td>\n      <td>good</td>\n      <td>mid</td>\n      <td>stable</td>\n      <td>stable</td>\n      <td>unstable</td>\n      <td>15</td>\n      <td>S</td>\n    </tr>\n    <tr>\n      <th>...</th>\n      <td>...</td>\n      <td>...</td>\n      <td>...</td>\n      <td>...</td>\n      <td>...</td>\n      <td>...</td>\n      <td>...</td>\n      <td>...</td>\n      <td>...</td>\n    </tr>\n    <tr>\n      <th>85</th>\n      <td>mid</td>\n      <td>mid</td>\n      <td>excellent</td>\n      <td>mid</td>\n      <td>unstable</td>\n      <td>stable</td>\n      <td>stable</td>\n      <td>15</td>\n      <td>S</td>\n    </tr>\n    <tr>\n      <th>86</th>\n      <td>mid</td>\n      <td>mid</td>\n      <td>good</td>\n      <td>mid</td>\n      <td>unstable</td>\n      <td>stable</td>\n      <td>stable</td>\n      <td>15</td>\n      <td>A</td>\n    </tr>\n    <tr>\n      <th>87</th>\n      <td>mid</td>\n      <td>mid</td>\n      <td>excellent</td>\n      <td>mid</td>\n      <td>unstable</td>\n      <td>stable</td>\n      <td>stable</td>\n      <td>10</td>\n      <td>A</td>\n    </tr>\n    <tr>\n      <th>88</th>\n      <td>mid</td>\n      <td>mid</td>\n      <td>good</td>\n      <td>mid</td>\n      <td>unstable</td>\n      <td>stable</td>\n      <td>stable</td>\n      <td>15</td>\n      <td>S</td>\n    </tr>\n    <tr>\n      <th>89</th>\n      <td>mid</td>\n      <td>low</td>\n      <td>excellent</td>\n      <td>mid</td>\n      <td>stable</td>\n      <td>stable</td>\n      <td>stable</td>\n      <td>15</td>\n      <td>A</td>\n    </tr>\n  </tbody>\n</table>\n<p>90 rows × 9 columns</p>\n</div>"
     },
     "metadata": {}
    }
   ],
   "execution_count": null
  },
  {
   "cell_type": "code",
   "metadata": {
    "tags": [],
    "cell_id": "00038-a949f9df-ad40-4998-b8ad-687ac74581bf",
    "deepnote_to_be_reexecuted": false,
    "source_hash": "ee73b799",
    "execution_start": 1639175611920,
    "execution_millis": 22,
    "deepnote_output_heights": [
     21.1875
    ],
    "deepnote_cell_type": "code"
   },
   "source": "def max_0(A):\n    rows, columns =A.shape\n    h=[]                          \n    for i in range(0,rows):        \n        h=h+[A[i][0]]             \n    return max(h)\n#ejemplo\nmax_0(np.array([[1,2],[3,4],[10,0],[11,20],[1,0]]))",
   "outputs": [
    {
     "output_type": "execute_result",
     "execution_count": 21,
     "data": {
      "text/plain": "11"
     },
     "metadata": {}
    }
   ],
   "execution_count": null
  },
  {
   "cell_type": "code",
   "metadata": {
    "tags": [],
    "cell_id": "00040-84e61187-3324-49b6-91d2-ab0a417f4ea2",
    "deepnote_to_be_reexecuted": false,
    "source_hash": "f9414ae6",
    "execution_start": 1639175611950,
    "execution_millis": 332,
    "deepnote_output_heights": [
     611
    ],
    "deepnote_cell_type": "code"
   },
   "source": "covariables=np.zeros([90,8])\nfor i in range(0,90):\n    if post_oper2.iloc[i].values[7] != '?' :\n        covariables[i,7]=int(post_oper2.iloc[i].values[7])\n    for j in range(0,4):\n        if j != 2 :\n            if post_oper2.iloc[i].values[j] == 'high' :\n                covariables[i,j]=10\n            elif post_oper2.iloc[i].values[j] == 'mid' :\n                covariables[i,j]=0\n            else :\n                covariables[i,j]=-10\n        else :\n            if post_oper2.iloc[i].values[j] == 'excellent' :\n                covariables[i,j]=10\n            elif post_oper2.iloc[i].values[j] == 'good' :\n                covariables[i,j]=3.3\n            elif post_oper2.iloc[i].values[j] == 'fair' :\n                covariables[i,j]=-3.3\n            else:\n                covariables[i,j]=-10\n    for j in range(4,7):\n        if post_oper2.iloc[i].values[j] == 'stable' :\n                covariables[i,j]=10\n        elif post_oper2.iloc[i].values[j] == 'mod-stable' :\n                covariables[i,j]=0\n        else :\n                covariables[i,j]=-10\n                \n    \n        \n                \n                \n                \n   \n    \ncovariables ",
   "outputs": [
    {
     "output_type": "execute_result",
     "execution_count": 22,
     "data": {
      "text/plain": "array([[  0. ,  10. ,  10. ,  10. ,  10. ,  10. ,  10. ,  10. ],\n       [ 10. , -10. ,  10. ,  10. ,  10. ,  10. ,   0. ,  10. ],\n       [  0. , -10. ,   3.3,  10. ,  10. , -10. ,   0. ,  15. ],\n       [  0. ,   0. ,  10. ,  10. ,  10. ,  10. ,  10. ,  10. ],\n       [ 10. , -10. ,   3.3,   0. ,  10. ,  10. , -10. ,  15. ],\n       [  0. , -10. ,  10. ,  10. ,  10. ,  10. ,   0. ,   5. ],\n       [ 10. ,   0. ,  10. ,   0. , -10. , -10. ,  10. ,  10. ],\n       [  0. ,  10. ,   3.3,   0. ,  10. ,  10. ,  10. ,  10. ],\n       [  0. , -10. ,  10. ,   0. , -10. ,  10. ,   0. ,  10. ],\n       [  0. ,   0. ,   3.3,   0. ,  10. ,  10. ,  10. ,  15. ],\n       [  0. , -10. ,   3.3,  10. ,  10. ,  10. ,   0. ,  10. ],\n       [ 10. ,  10. ,  10. ,  10. , -10. ,  10. , -10. ,  15. ],\n       [  0. ,  10. ,   3.3,   0. , -10. ,  10. ,   0. ,  10. ],\n       [  0. , -10. ,   3.3,  10. , -10. , -10. ,  10. ,  15. ],\n       [ 10. ,  10. ,  10. ,  10. , -10. ,  10. , -10. ,  10. ],\n       [-10. ,  10. ,   3.3,  10. , -10. ,  10. ,   0. ,  15. ],\n       [  0. , -10. ,   3.3,  10. , -10. ,  10. ,  10. ,  10. ],\n       [  0. ,  10. ,   3.3,   0. , -10. ,  10. , -10. ,  15. ],\n       [  0. ,   0. ,   3.3,   0. ,  10. ,  10. ,  10. ,  10. ],\n       [-10. ,  10. ,   3.3,   0. , -10. ,  10. ,  10. ,  15. ],\n       [-10. ,   0. ,  10. ,  10. , -10. ,  10. , -10. ,  10. ],\n       [  0. ,   0. ,   3.3,   0. , -10. ,  10. , -10. ,  15. ],\n       [  0. ,   0. ,   3.3,   0. , -10. ,  10. ,  10. ,  10. ],\n       [ 10. ,  10. ,   3.3,   0. ,  10. ,  10. ,   0. ,  10. ],\n       [-10. ,   0. ,   3.3,   0. , -10. ,  10. ,  10. ,  10. ],\n       [ 10. ,   0. ,   3.3, -10. ,  10. ,  10. ,   0. ,  10. ],\n       [-10. ,   0. ,  10. ,  10. ,  10. ,  10. ,   0. ,  10. ],\n       [  0. ,   0. ,  10. ,   0. ,  10. ,  10. , -10. ,  15. ],\n       [  0. ,   0. ,   3.3,   0. , -10. ,  10. , -10. ,  10. ],\n       [  0. ,   0. ,   3.3,  10. , -10. ,  10. ,  10. ,  10. ],\n       [-10. , -10. ,   3.3,   0. , -10. ,  10. , -10. ,  10. ],\n       [  0. ,   0. ,  10. ,  10. , -10. ,  10. ,   0. ,  10. ],\n       [  0. , -10. ,   3.3,   0. ,  10. ,  10. ,  10. ,  10. ],\n       [-10. ,   0. ,  10. ,  10. ,  10. ,  10. ,   0. ,  10. ],\n       [  0. ,   0. ,   3.3,   0. ,  10. ,  10. ,  10. ,  10. ],\n       [-10. ,   0. ,  10. ,   0. ,  10. ,  10. ,  10. ,  10. ],\n       [-10. , -10. ,   3.3,   0. , -10. ,  10. , -10. ,  10. ],\n       [-10. , -10. ,   3.3,   0. ,  10. ,  10. ,  10. ,   7. ],\n       [  0. ,   0. ,   3.3,  10. , -10. ,  10. ,   0. ,  10. ],\n       [-10. , -10. ,   3.3,   0. , -10. ,  10. ,  10. ,  10. ],\n       [-10. ,   0. ,   3.3,   0. ,  10. ,  10. ,  10. ,  15. ],\n       [ 10. ,  10. ,   3.3,  10. , -10. ,  10. ,  10. ,  15. ],\n       [  0. ,   0. ,   3.3,   0. ,  10. ,  10. ,  10. ,  10. ],\n       [-10. , -10. ,  10. ,   0. ,  10. ,  10. ,  10. ,  10. ],\n       [-10. ,   0. ,   3.3,   0. , -10. ,  10. ,  10. ,  10. ],\n       [-10. ,   0. ,   3.3,  10. , -10. ,  10. ,  10. ,   0. ],\n       [  0. ,   0. ,  10. ,   0. , -10. ,  10. ,  10. ,  10. ],\n       [ 10. ,  10. ,  10. ,  10. ,  10. ,  10. , -10. ,   0. ],\n       [  0. ,  10. ,   3.3, -10. , -10. ,  10. ,  10. ,  10. ],\n       [  0. ,  10. ,   3.3,   0. , -10. ,   0. ,   0. ,  10. ],\n       [-10. ,  10. ,  10. ,   0. , -10. ,  10. ,  10. ,  10. ],\n       [  0. , -10. ,  10. ,  10. , -10. ,  10. , -10. ,  10. ],\n       [  0. ,   0. ,   3.3,   0. , -10. ,  10. ,   0. ,  10. ],\n       [ 10. ,  10. ,  10. ,   0. , -10. ,  10. ,   0. ,  10. ],\n       [  0. ,   0. ,   3.3,   0. , -10. ,  10. ,  10. ,  15. ],\n       [ 10. ,   0. ,   3.3,  10. ,  10. ,  10. , -10. ,  15. ],\n       [  0. , -10. ,   3.3,  10. , -10. ,  10. ,   0. ,  10. ],\n       [-10. , -10. ,   3.3,  10. ,  10. ,  10. ,  10. ,  10. ],\n       [  0. ,  10. ,   3.3,   0. ,  10. ,  10. ,   0. ,  10. ],\n       [  0. ,  10. ,   3.3,   0. , -10. ,  10. , -10. ,  10. ],\n       [  0. , -10. ,  10. ,  10. ,  10. ,  10. ,  10. ,  10. ],\n       [  0. ,   0. ,   3.3,   0. ,  10. ,  10. , -10. ,  10. ],\n       [  0. , -10. ,  10. ,   0. ,  10. ,  10. , -10. ,  10. ],\n       [ 10. ,   0. ,  10. ,   0. , -10. , -10. , -10. ,  10. ],\n       [  0. ,   0. ,   3.3,  10. ,  10. ,  10. ,  10. ,  10. ],\n       [  0. , -10. ,  10. ,   0. , -10. ,  10. ,  10. ,  10. ],\n       [  0. ,   0. ,  10. ,   0. , -10. ,  10. ,  10. ,  10. ],\n       [  0. ,   0. ,  10. ,  10. ,  10. ,  10. ,  10. ,  10. ],\n       [  0. ,   0. ,  10. , -10. ,  10. ,  10. ,  10. ,  10. ],\n       [  0. , -10. ,  10. ,   0. , -10. , -10. , -10. ,   0. ],\n       [-10. , -10. ,  10. ,   0. ,  10. ,  10. ,  10. ,  10. ],\n       [  0. ,   0. ,  10. ,   0. ,  10. ,  10. ,   0. ,  10. ],\n       [  0. ,   0. ,  10. ,  10. ,  10. ,  10. ,  10. ,  10. ],\n       [  0. , -10. ,  10. ,  10. ,  10. ,  10. ,   0. ,  10. ],\n       [-10. ,   0. ,   3.3,   0. ,  10. ,  10. , -10. ,  10. ],\n       [  0. ,   0. ,  10. ,   0. ,  10. ,  10. ,   0. ,  10. ],\n       [  0. ,   0. ,  10. ,   0. ,  10. ,  10. , -10. ,  10. ],\n       [  0. ,   0. ,  10. ,   0. , -10. , -10. ,  10. ,  10. ],\n       [  0. ,   0. ,   3.3,  10. ,  10. ,  10. ,  10. ,  10. ],\n       [  0. ,   0. ,  10. ,   0. ,  10. ,  10. ,  10. ,  15. ],\n       [  0. ,   0. ,  10. ,   0. ,  10. ,  10. ,  10. ,  10. ],\n       [  0. , -10. ,   3.3,   0. ,  10. ,  10. , -10. ,  10. ],\n       [ 10. ,   0. ,  10. ,   0. , -10. ,  10. , -10. ,   5. ],\n       [  0. ,   0. ,  10. ,   0. ,  10. ,  10. , -10. ,  10. ],\n       [  0. ,   0. ,  10. ,   0. , -10. ,  10. ,  10. ,  10. ],\n       [  0. ,   0. ,  10. ,   0. , -10. ,  10. ,  10. ,  15. ],\n       [  0. ,   0. ,   3.3,   0. , -10. ,  10. ,  10. ,  15. ],\n       [  0. ,   0. ,  10. ,   0. , -10. ,  10. ,  10. ,  10. ],\n       [  0. ,   0. ,   3.3,   0. , -10. ,  10. ,  10. ,  15. ],\n       [  0. , -10. ,  10. ,   0. ,  10. ,  10. ,  10. ,  15. ]])"
     },
     "metadata": {}
    }
   ],
   "execution_count": null
  },
  {
   "cell_type": "code",
   "metadata": {
    "tags": [],
    "cell_id": "00041-6bb3cd8b-7933-4b72-9ebc-908e96289e13",
    "deepnote_to_be_reexecuted": false,
    "source_hash": "446ffe65",
    "execution_start": 1639175612287,
    "execution_millis": 49,
    "deepnote_output_heights": [
     136.3125
    ],
    "deepnote_cell_type": "code"
   },
   "source": "variable_respuesta=np.zeros(shape=90)\nfor i in range(0,90):\n    if post_oper2.iloc[i].values[8] == 'S' :\n        variable_respuesta[i]=-1\n    elif post_oper2.iloc[i].values[8] == 'A' :\n        variable_respuesta[i]=0\n    else:\n        variable_respuesta[i]=1\nvariable_respuesta",
   "outputs": [
    {
     "output_type": "execute_result",
     "execution_count": 23,
     "data": {
      "text/plain": "array([-1.,  0.,  1.,  0., -1., -1., -1., -1., -1.,  0.,  0.,  0.,  0.,\n       -1.,  0.,  0.,  0.,  0.,  0.,  0., -1.,  0.,  0.,  0.,  0.,  0.,\n        0.,  0., -1.,  0.,  0.,  0.,  0.,  0.,  0., -1., -1., -1.,  0.,\n        0., -1., -1., -1.,  0., -1.,  1.,  0.,  0.,  0.,  0.,  0.,  0.,\n       -1.,  0.,  0.,  0.,  0.,  0.,  0.,  0.,  0.,  0., -1.,  0., -1.,\n        0.,  0.,  0.,  0.,  0.,  0., -1.,  0.,  0.,  0.,  0.,  0., -1.,\n        0.,  0., -1.,  1.,  0.,  0.,  0., -1.,  0.,  0., -1.,  0.])"
     },
     "metadata": {}
    }
   ],
   "execution_count": null
  },
  {
   "cell_type": "code",
   "metadata": {
    "tags": [],
    "cell_id": "00042-ab06b97f-abf3-4163-ae6f-3a4625795745",
    "deepnote_to_be_reexecuted": false,
    "source_hash": "81ac16b",
    "execution_start": 1639175612386,
    "execution_millis": 0,
    "deepnote_cell_type": "code"
   },
   "source": "covariables=np.delete(covariables,(45,47,69),axis=0)",
   "outputs": [],
   "execution_count": null
  },
  {
   "cell_type": "code",
   "metadata": {
    "tags": [],
    "cell_id": "00043-35df10bb-46f4-4e2e-a67e-749e8f640b54",
    "deepnote_to_be_reexecuted": false,
    "source_hash": "73b01c75",
    "execution_start": 1639175612387,
    "execution_millis": 0,
    "deepnote_cell_type": "code"
   },
   "source": "variable_respuesta = np.delete(variable_respuesta,(45,47,69))",
   "outputs": [],
   "execution_count": null
  },
  {
   "cell_type": "code",
   "metadata": {
    "tags": [],
    "cell_id": "00044-dde2b0d2-8fb4-407e-8cfe-b72359675777",
    "deepnote_to_be_reexecuted": false,
    "source_hash": "d89414f2",
    "execution_start": 1639175612430,
    "execution_millis": 0,
    "deepnote_cell_type": "code"
   },
   "source": "covariables_train,covariables_test,variable_respuesta_train,variable_respuesta_test = train_test_split( covariables,variable_respuesta , random_state=0)",
   "outputs": [],
   "execution_count": null
  },
  {
   "cell_type": "code",
   "metadata": {
    "tags": [],
    "cell_id": "00045-e6c94dce-54e5-43c8-a966-b154404f99c6",
    "deepnote_to_be_reexecuted": false,
    "source_hash": "f19383f",
    "execution_start": 1639175612431,
    "execution_millis": 9,
    "deepnote_cell_type": "code"
   },
   "source": "n_neighbors = 4\n \nknn = KNeighborsClassifier(n_neighbors)\nknn.fit(covariables_train, variable_respuesta_train)\nprint('Accuracy of K-NN classifier on training set: {:.2f}'\n     .format(knn.score(covariables_train, variable_respuesta_train)))\nprint('Accuracy of K-NN classifier on test set: {:.2f}'\n     .format(knn.score(covariables_test, variable_respuesta_test)))",
   "outputs": [
    {
     "name": "stdout",
     "text": "Accuracy of K-NN classifier on training set: 0.75\nAccuracy of K-NN classifier on test set: 0.59\n",
     "output_type": "stream"
    }
   ],
   "execution_count": null
  },
  {
   "cell_type": "code",
   "metadata": {
    "tags": [],
    "cell_id": "00046-9ba0ecdc-2560-4275-8926-483e739b7252",
    "deepnote_to_be_reexecuted": false,
    "source_hash": "792e2575",
    "execution_start": 1639175612453,
    "execution_millis": 39,
    "deepnote_cell_type": "code"
   },
   "source": "pred = knn.predict(covariables_test)\nprint(confusion_matrix(variable_respuesta_test, pred))\nprint(classification_report(variable_respuesta_test, pred))",
   "outputs": [
    {
     "name": "stdout",
     "text": "[[ 0  6  0]\n [ 2 13  0]\n [ 0  1  0]]\n              precision    recall  f1-score   support\n\n        -1.0       0.00      0.00      0.00         6\n         0.0       0.65      0.87      0.74        15\n         1.0       0.00      0.00      0.00         1\n\n    accuracy                           0.59        22\n   macro avg       0.22      0.29      0.25        22\nweighted avg       0.44      0.59      0.51        22\n\n/shared-libs/python3.7/py/lib/python3.7/site-packages/sklearn/metrics/_classification.py:1308: UndefinedMetricWarning: Precision and F-score are ill-defined and being set to 0.0 in labels with no predicted samples. Use `zero_division` parameter to control this behavior.\n  _warn_prf(average, modifier, msg_start, len(result))\n/shared-libs/python3.7/py/lib/python3.7/site-packages/sklearn/metrics/_classification.py:1308: UndefinedMetricWarning: Precision and F-score are ill-defined and being set to 0.0 in labels with no predicted samples. Use `zero_division` parameter to control this behavior.\n  _warn_prf(average, modifier, msg_start, len(result))\n/shared-libs/python3.7/py/lib/python3.7/site-packages/sklearn/metrics/_classification.py:1308: UndefinedMetricWarning: Precision and F-score are ill-defined and being set to 0.0 in labels with no predicted samples. Use `zero_division` parameter to control this behavior.\n  _warn_prf(average, modifier, msg_start, len(result))\n",
     "output_type": "stream"
    }
   ],
   "execution_count": null
  },
  {
   "cell_type": "code",
   "metadata": {
    "tags": [],
    "cell_id": "00042-9772a408-7d28-4358-86e4-7979f34b816c",
    "deepnote_to_be_reexecuted": false,
    "source_hash": "7e24ea3c",
    "execution_start": 1639175612501,
    "execution_millis": 15,
    "deepnote_output_heights": [
     59.5625
    ],
    "deepnote_cell_type": "code"
   },
   "source": "#matriz de confusión comparable con los metodos anteriores\nM=np.array([[13,2,0],[6,0,0],[1,0,0]])\nM",
   "outputs": [
    {
     "output_type": "execute_result",
     "execution_count": 29,
     "data": {
      "text/plain": "array([[13,  2,  0],\n       [ 6,  0,  0],\n       [ 1,  0,  0]])"
     },
     "metadata": {}
    }
   ],
   "execution_count": null
  },
  {
   "cell_type": "code",
   "metadata": {
    "tags": [],
    "cell_id": "00047-798644c5-e301-43ff-84f5-ef47e1be1982",
    "deepnote_to_be_reexecuted": false,
    "source_hash": "b623e53d",
    "execution_start": 1639175612528,
    "execution_millis": 4,
    "deepnote_output_heights": [
     117.125
    ],
    "deepnote_cell_type": "code"
   },
   "source": "",
   "outputs": [],
   "execution_count": null
  },
  {
   "cell_type": "code",
   "metadata": {
    "tags": [],
    "cell_id": "00048-a8543f01-c7eb-4ebe-b8e2-f165241dec86",
    "deepnote_to_be_reexecuted": false,
    "source_hash": "792e2575",
    "execution_start": 1639175612589,
    "execution_millis": 3,
    "deepnote_cell_type": "code"
   },
   "source": "pred = knn.predict(covariables_test)\nprint(confusion_matrix(variable_respuesta_test, pred))\nprint(classification_report(variable_respuesta_test, pred))",
   "outputs": [
    {
     "name": "stdout",
     "text": "[[ 0  6  0]\n [ 2 13  0]\n [ 0  1  0]]\n              precision    recall  f1-score   support\n\n        -1.0       0.00      0.00      0.00         6\n         0.0       0.65      0.87      0.74        15\n         1.0       0.00      0.00      0.00         1\n\n    accuracy                           0.59        22\n   macro avg       0.22      0.29      0.25        22\nweighted avg       0.44      0.59      0.51        22\n\n/shared-libs/python3.7/py/lib/python3.7/site-packages/sklearn/metrics/_classification.py:1308: UndefinedMetricWarning: Precision and F-score are ill-defined and being set to 0.0 in labels with no predicted samples. Use `zero_division` parameter to control this behavior.\n  _warn_prf(average, modifier, msg_start, len(result))\n/shared-libs/python3.7/py/lib/python3.7/site-packages/sklearn/metrics/_classification.py:1308: UndefinedMetricWarning: Precision and F-score are ill-defined and being set to 0.0 in labels with no predicted samples. Use `zero_division` parameter to control this behavior.\n  _warn_prf(average, modifier, msg_start, len(result))\n/shared-libs/python3.7/py/lib/python3.7/site-packages/sklearn/metrics/_classification.py:1308: UndefinedMetricWarning: Precision and F-score are ill-defined and being set to 0.0 in labels with no predicted samples. Use `zero_division` parameter to control this behavior.\n  _warn_prf(average, modifier, msg_start, len(result))\n",
     "output_type": "stream"
    }
   ],
   "execution_count": null
  },
  {
   "cell_type": "code",
   "metadata": {
    "tags": [],
    "cell_id": "00049-96701e2e-f118-4f6c-8e3b-812c12ae7d0a",
    "deepnote_to_be_reexecuted": false,
    "source_hash": "7deaf61b",
    "execution_start": 1639175612590,
    "execution_millis": 39,
    "deepnote_cell_type": "code"
   },
   "source": "def predicción_vecinosmodificado(x):   #contando como vecino a si mismo \n      predict=np.zeros(shape=87)\n      for l in range(0,87):    \n              d=np.array([[0,0]])  #este np.array irá almacenando los x vecinos más cercanos (las distancias y\n              for c in range(0,x-1):  #x es el número de vecinos #sus variables respuestas )\n                  d=np.concatenate((d,np.array([[0,0]])))\n             \n              for i in range(0,87):\n                  v=covariables[i]-covariables[l]\n                  m=np.linalg.norm(v)    #distancia  entre nuestro dato k+1 (sumo 1 porque el conjunto de datos está                     \n                  if i<x :\n                                        #enumerado del 1 al 200 y no del 0 al 199) perteneciente al conjunto de validación\n                       d[i]=[m,variable_respuesta[i]] #y el dato b+1 perteneciente al conjunto de prueba\n                                                      \n                  elif m < max_0(d) :\n                       u=0\n                       for s in range(0,x):\n                              if d[s][0] > d[u][0] : \n                                  u=s\n                       d[u]=[m,variable_respuesta[i]] #remplazamos el vecino menos cercano por el nuevo vecino  \n              cantidad_unos=0\n              for a in range(0,x):\n                  if d[a][1] == 1 :\n                     cantidad_unos=cantidad_unos+1\n              cantidad_unos= 2.4*cantidad_unos\n              cantidad_ceros=0\n              for a in range(0,x):\n                  if d[a][1] == 0 :\n                     cantidad_ceros=cantidad_ceros+1      #predecimos la variable respuesta de el dato de validación\n                     cantidad_ceros= 0.8 * cantidad_ceros\n              cantidad_menosunos=0\n              for a in range(0,x):\n                  if d[a][1] == -1 :\n                     cantidad_menosunos=cantidad_menosunos+1  \n              cantidad_menosunos=1*cantidad_menosunos\n              if cantidad_unos >= cantidad_ceros :\n                    if cantidad_unos >= cantidad_menosunos :\n                        predict[l] = 1\n                    else :\n                        predict[l] = -1\n              else :\n                  if cantidad_menosunos >= cantidad_ceros :\n                        predict[l] = -1\n                  else :\n                        predict[l] = 0\n                        \n      return predict",
   "outputs": [],
   "execution_count": null
  },
  {
   "cell_type": "code",
   "metadata": {
    "tags": [],
    "cell_id": "00050-893e1ed7-6f5f-43a3-b3b4-b47d479d6635",
    "deepnote_to_be_reexecuted": false,
    "source_hash": "f6249124",
    "execution_start": 1639175612630,
    "execution_millis": 431,
    "deepnote_output_heights": [
     136.3125
    ],
    "deepnote_cell_type": "code"
   },
   "source": "L_1 = predicción_vecinosmodificado(4)\nL_1",
   "outputs": [
    {
     "output_type": "execute_result",
     "execution_count": 32,
     "data": {
      "text/plain": "array([ 0.,  0.,  1.,  0.,  1.,  0., -1., -1., -1.,  0.,  0.,  0.,  0.,\n       -1.,  0.,  0.,  0.,  0.,  0.,  0., -1., -1.,  0.,  0.,  0.,  0.,\n        0.,  0., -1.,  0., -1.,  0.,  0.,  0.,  0., -1., -1.,  0.,  0.,\n        0., -1.,  0.,  0., -1.,  0.,  0.,  0.,  0.,  0., -1.,  0.,  0.,\n        0.,  0.,  0.,  0., -1.,  0.,  0.,  0.,  1.,  0.,  0.,  0.,  0.,\n        0., -1., -1., -1.,  0.,  0.,  0., -1.,  0., -1.,  0., -1., -1.,\n        1.,  0.,  0.,  0.,  0.,  0.,  0.,  0.,  0.])"
     },
     "metadata": {}
    }
   ],
   "execution_count": null
  },
  {
   "cell_type": "code",
   "metadata": {
    "tags": [],
    "cell_id": "00051-485415b5-3de1-445e-9273-33b109fe0070",
    "deepnote_to_be_reexecuted": false,
    "source_hash": "388d6230",
    "execution_start": 1639175612926,
    "execution_millis": 21,
    "deepnote_cell_type": "code"
   },
   "source": "def matriz_de_confucion(L):\n    M=np.array([[0,0,0],\n                [0,0,0],\n                [0,0,0]])\n    for i in range(0,87):\n        if L[i] == -1 :\n            if variable_respuesta[i]==-1 :\n                M[0][0]=M[0][0]+1\n            elif variable_respuesta[i]==0 :\n                M[0][1]=M[0][1]+1\n            else :\n                M[0][2]=M[0][2]+1\n        elif L[i]== 0 :\n            if variable_respuesta[i]==-1 :\n                M[1][0]=M[1][0]+1\n            elif variable_respuesta[i]==0 :\n                M[1][1]=M[1][1]+1\n            else :\n                M[1][2]=M[1][2]+1      \n        else :\n            if variable_respuesta[i]==-1 :\n                M[2][0]=M[2][0]+1\n            elif variable_respuesta[i]==0 :\n                M[2][1]=M[2][1]+1\n            else :\n                M[2][2]=M[2][2]+1   \n    return M",
   "outputs": [],
   "execution_count": null
  },
  {
   "cell_type": "code",
   "metadata": {
    "tags": [],
    "cell_id": "00052-62e48161-9c83-4677-81c2-4b432df0b82c",
    "deepnote_to_be_reexecuted": false,
    "source_hash": "7e0a4712",
    "execution_start": 1639175612954,
    "execution_millis": 108,
    "deepnote_output_heights": [
     59.5625
    ],
    "deepnote_cell_type": "code"
   },
   "source": "matriz_de_confucion(L_1)",
   "outputs": [
    {
     "output_type": "execute_result",
     "execution_count": 34,
     "data": {
      "text/plain": "array([[12,  9,  0],\n       [10, 52,  0],\n       [ 2,  0,  2]])"
     },
     "metadata": {}
    }
   ],
   "execution_count": null
  },
  {
   "cell_type": "code",
   "metadata": {
    "tags": [],
    "cell_id": "00052-1d8cb910-3cce-43b1-b830-12aa9d33ee5d",
    "deepnote_to_be_reexecuted": false,
    "source_hash": "9381f5ba",
    "execution_start": 1639175612984,
    "execution_millis": 78,
    "deepnote_output_heights": [
     59.5625
    ],
    "deepnote_cell_type": "code"
   },
   "source": "# matriz de confusión comparable con los metodos anteriores \n\nM = np.array([[52,10,0],[9,12,0],[2,0,2]])\nM",
   "outputs": [
    {
     "output_type": "execute_result",
     "execution_count": 35,
     "data": {
      "text/plain": "array([[52, 10,  0],\n       [ 9, 12,  0],\n       [ 2,  0,  2]])"
     },
     "metadata": {}
    }
   ],
   "execution_count": null
  },
  {
   "cell_type": "markdown",
   "source": "### **Exactitud de los modelos vistos (Accuracy)",
   "metadata": {
    "tags": [],
    "is_collapsed": false,
    "cell_id": "00023-a5f4e139-9cfa-46a4-b411-3c0948ec6716",
    "deepnote_cell_type": "text-cell-h3"
   }
  },
  {
   "cell_type": "markdown",
   "source": "### Análisis significancia de las variables",
   "metadata": {
    "tags": [],
    "is_collapsed": false,
    "cell_id": "00023-3bf81d6c-13da-4295-bb5d-0bad9b5b41fe",
    "deepnote_cell_type": "text-cell-h3"
   }
  },
  {
   "cell_type": "code",
   "metadata": {
    "tags": [],
    "cell_id": "00024-713a0337-fbe7-409e-a1b1-c2b791207e3d",
    "deepnote_to_be_reexecuted": false,
    "source_hash": "112b4bfb",
    "execution_start": 1639175613018,
    "execution_millis": 5,
    "deepnote_cell_type": "code"
   },
   "source": "#test de wald",
   "outputs": [],
   "execution_count": null
  },
  {
   "cell_type": "markdown",
   "source": "### Valores atípicos",
   "metadata": {
    "tags": [],
    "is_collapsed": false,
    "cell_id": "00027-ce3bbd85-66d5-4d08-be43-99518cace0d9",
    "deepnote_cell_type": "text-cell-h3"
   }
  },
  {
   "cell_type": "code",
   "metadata": {
    "tags": [],
    "cell_id": "00031-ff46445b-baad-4e15-a07e-e046de8ade9b",
    "deepnote_to_be_reexecuted": false,
    "source_hash": "b623e53d",
    "execution_start": 1639175613045,
    "execution_millis": 1,
    "deepnote_cell_type": "code"
   },
   "source": "",
   "outputs": [],
   "execution_count": null
  },
  {
   "cell_type": "markdown",
   "source": "### Gráficos",
   "metadata": {
    "tags": [],
    "is_collapsed": false,
    "cell_id": "00032-c90acc9c-5460-4a44-9269-9f8cb86cbfbc",
    "deepnote_cell_type": "text-cell-h3"
   }
  },
  {
   "cell_type": "code",
   "metadata": {
    "tags": [],
    "cell_id": "00033-07c0661b-6b0d-4fb9-9e98-83c1d0ff29e4",
    "deepnote_to_be_reexecuted": false,
    "source_hash": "b623e53d",
    "execution_start": 1639175613065,
    "execution_millis": 2816948,
    "deepnote_cell_type": "code"
   },
   "source": "",
   "outputs": [],
   "execution_count": null
  },
  {
   "cell_type": "markdown",
   "source": "<a style='text-decoration:none;line-height:16px;display:flex;color:#5B5B62;padding:10px;justify-content:end;' href='https://deepnote.com?utm_source=created-in-deepnote-cell&projectId=c1562f8b-caab-4e2a-9fee-cd4640fe8257' target=\"_blank\">\n<img alt='Created in deepnote.com' style='display:inline;max-height:16px;margin:0px;margin-right:7.5px;' src='data:image/svg+xml;base64,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' > </img>\nCreated in <span style='font-weight:600;margin-left:4px;'>Deepnote</span></a>",
   "metadata": {
    "tags": [],
    "created_in_deepnote_cell": true,
    "deepnote_cell_type": "markdown"
   }
  }
 ],
 "nbformat": 4,
 "nbformat_minor": 5,
 "metadata": {
  "kernelspec": {
   "display_name": "Python 3 (ipykernel)",
   "language": "python",
   "name": "python3"
  },
  "language_info": {
   "codemirror_mode": {
    "name": "ipython",
    "version": 3
   },
   "file_extension": ".py",
   "mimetype": "text/x-python",
   "name": "python",
   "nbconvert_exporter": "python",
   "pygments_lexer": "ipython3",
   "version": "3.9.7"
  },
  "deepnote_notebook_id": "02fc945f-a1ce-431f-bb86-ad4c004ec374",
  "deepnote": {},
  "deepnote_execution_queue": []
 }
}